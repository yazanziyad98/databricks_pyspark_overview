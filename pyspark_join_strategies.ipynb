{
 "cells": [
  {
   "cell_type": "markdown",
   "metadata": {
    "application/vnd.databricks.v1+cell": {
     "cellMetadata": {
      "byteLimit": 2048000,
      "rowLimit": 10000
     },
     "inputWidgets": {},
     "nuid": "1f911d18-ae75-4389-a8dd-f6d99aaf9669",
     "showTitle": false,
     "tableResultSettingsMap": {},
     "title": ""
    }
   },
   "source": [
    "In this section we will investigate and Compare different join strategies by joining the fact_int_sales and dim_currency\n",
    "- First we Will cash the two tables, since this notebook will be part of and ETL Job so these tables and joins will be reused, hence cashing is a good idea."
   ]
  },
  {
   "cell_type": "code",
   "execution_count": 0,
   "metadata": {
    "application/vnd.databricks.v1+cell": {
     "cellMetadata": {
      "byteLimit": 2048000,
      "rowLimit": 10000
     },
     "inputWidgets": {},
     "nuid": "b7c0603b-b9fa-4bd0-808e-2de4c930a624",
     "showTitle": false,
     "tableResultSettingsMap": {},
     "title": ""
    }
   },
   "outputs": [],
   "source": [
    "#Load Data\n",
    "options = {\n",
    "    \"header\": \"true\",\n",
    "    \"inferSchema\": \"true\",\n",
    "    \"delimiter\": \";\"\n",
    "} \n",
    "dim_product =  spark.read.format(\"csv\").options(**options).load(\"dbfs:/FileStore/tables_new/dim_product/\")\n",
    "fact_int_sales =  spark.read.format(\"csv\").options(**options).load(\"dbfs:/FileStore/tables_new/fact_int_sales/\")\n",
    "dim_sales_terr =  spark.read.format(\"csv\").options(**options).load(\"dbfs:/FileStore/tables_new/dim_sales_terr/\")\n",
    "dim_curreny = spark.read.format(\"csv\").options(**options).load(\"dbfs:/FileStore/tables_new/dim_curreny/\")  "
   ]
  },
  {
   "cell_type": "code",
   "execution_count": 0,
   "metadata": {
    "application/vnd.databricks.v1+cell": {
     "cellMetadata": {
      "byteLimit": 2048000,
      "rowLimit": 10000
     },
     "inputWidgets": {},
     "nuid": "559ee907-3162-4abc-aeb1-cd674d579e45",
     "showTitle": false,
     "tableResultSettingsMap": {},
     "title": ""
    }
   },
   "outputs": [
    {
     "output_type": "display_data",
     "data": {
      "text/html": [
       "<style scoped>\n",
       "  .table-result-container {\n",
       "    max-height: 300px;\n",
       "    overflow: auto;\n",
       "  }\n",
       "  table, th, td {\n",
       "    border: 1px solid black;\n",
       "    border-collapse: collapse;\n",
       "  }\n",
       "  th, td {\n",
       "    padding: 5px;\n",
       "  }\n",
       "  th {\n",
       "    text-align: left;\n",
       "  }\n",
       "</style><div class='table-result-container'><table class='table-result'><thead style='background-color: white'><tr><th>CurrencyKey</th><th>CurrencyAlternateKey</th><th>CurrencyName</th></tr></thead><tbody><tr><td>1</td><td>AFA</td><td>Afghani</td></tr><tr><td>2</td><td>DZD</td><td>Algerian Dinar</td></tr><tr><td>3</td><td>ARS</td><td>Argentine Peso</td></tr><tr><td>4</td><td>AMD</td><td>Armenian Dram</td></tr><tr><td>5</td><td>AWG</td><td>Aruban Guilder</td></tr><tr><td>6</td><td>AUD</td><td>Australian Dollar</td></tr><tr><td>7</td><td>AZM</td><td>Azerbaijanian Manat</td></tr><tr><td>8</td><td>BSD</td><td>Bahamian Dollar</td></tr><tr><td>9</td><td>BHD</td><td>Bahraini Dinar</td></tr><tr><td>10</td><td>THB</td><td>Baht</td></tr></tbody></table></div>"
      ]
     },
     "metadata": {
      "application/vnd.databricks.v1+output": {
       "addedWidgets": {},
       "aggData": [],
       "aggError": "",
       "aggOverflow": false,
       "aggSchema": [],
       "aggSeriesLimitReached": false,
       "aggType": "",
       "arguments": {},
       "columnCustomDisplayInfos": {},
       "data": [
        [
         1,
         "AFA",
         "Afghani"
        ],
        [
         2,
         "DZD",
         "Algerian Dinar"
        ],
        [
         3,
         "ARS",
         "Argentine Peso"
        ],
        [
         4,
         "AMD",
         "Armenian Dram"
        ],
        [
         5,
         "AWG",
         "Aruban Guilder"
        ],
        [
         6,
         "AUD",
         "Australian Dollar"
        ],
        [
         7,
         "AZM",
         "Azerbaijanian Manat"
        ],
        [
         8,
         "BSD",
         "Bahamian Dollar"
        ],
        [
         9,
         "BHD",
         "Bahraini Dinar"
        ],
        [
         10,
         "THB",
         "Baht"
        ]
       ],
       "datasetInfos": [],
       "dbfsResultPath": null,
       "isJsonSchema": true,
       "metadata": {},
       "overflow": false,
       "plotOptions": {
        "customPlotOptions": {},
        "displayType": "table",
        "pivotAggregation": null,
        "pivotColumns": null,
        "xColumns": null,
        "yColumns": null
       },
       "removedWidgets": [],
       "schema": [
        {
         "metadata": "{}",
         "name": "CurrencyKey",
         "type": "\"integer\""
        },
        {
         "metadata": "{}",
         "name": "CurrencyAlternateKey",
         "type": "\"string\""
        },
        {
         "metadata": "{}",
         "name": "CurrencyName",
         "type": "\"string\""
        }
       ],
       "type": "table"
      }
     },
     "output_type": "display_data"
    }
   ],
   "source": [
    "display(dim_curreny.limit(10))"
   ]
  },
  {
   "cell_type": "code",
   "execution_count": 0,
   "metadata": {
    "application/vnd.databricks.v1+cell": {
     "cellMetadata": {
      "byteLimit": 2048000,
      "rowLimit": 10000
     },
     "inputWidgets": {},
     "nuid": "efc25214-1e25-4a3d-80ea-860316de7bf9",
     "showTitle": false,
     "tableResultSettingsMap": {},
     "title": ""
    }
   },
   "outputs": [
    {
     "output_type": "display_data",
     "data": {
      "text/html": [
       "<style scoped>\n",
       "  .table-result-container {\n",
       "    max-height: 300px;\n",
       "    overflow: auto;\n",
       "  }\n",
       "  table, th, td {\n",
       "    border: 1px solid black;\n",
       "    border-collapse: collapse;\n",
       "  }\n",
       "  th, td {\n",
       "    padding: 5px;\n",
       "  }\n",
       "  th {\n",
       "    text-align: left;\n",
       "  }\n",
       "</style><div class='table-result-container'><table class='table-result'><thead style='background-color: white'><tr><th>ProductKey</th><th>OrderDateKey</th><th>DueDateKey</th><th>ShipDateKey</th><th>CustomerKey</th><th>PromotionKey</th><th>CurrencyKey</th><th>SalesTerritoryKey</th><th>SalesOrderNumber</th><th>SalesOrderLineNumber</th><th>UnitPrice</th><th>ExtendedAmount</th><th>ProductStandardCost</th><th>TotalProductCost</th><th>SalesAmount</th><th>TaxAmt</th><th>Freight</th><th>OrderDate</th><th>DueDate</th><th>ShipDate</th></tr></thead><tbody><tr><td>310</td><td>20101229</td><td>20110110</td><td>20110105</td><td>21768</td><td>1</td><td>19</td><td>6</td><td>SO43697</td><td>1</td><td>3578.27</td><td>3578.27</td><td>2171.29</td><td>2171.29</td><td>3578.27</td><td>286.26</td><td>894.568</td><td>2010-12-29</td><td>2011-01-10</td><td>2011-01-05</td></tr><tr><td>346</td><td>20101229</td><td>20110110</td><td>20110105</td><td>28389</td><td>1</td><td>39</td><td>7</td><td>SO43698</td><td>1</td><td>3399.99</td><td>3399.99</td><td>1912.15</td><td>1912.15</td><td>3399.99</td><td>272.0</td><td>849.998</td><td>2010-12-29</td><td>2011-01-10</td><td>2011-01-05</td></tr><tr><td>346</td><td>20101229</td><td>20110110</td><td>20110105</td><td>25863</td><td>1</td><td>100</td><td>1</td><td>SO43699</td><td>1</td><td>3399.99</td><td>3399.99</td><td>1912.15</td><td>1912.15</td><td>3399.99</td><td>272.0</td><td>849.998</td><td>2010-12-29</td><td>2011-01-10</td><td>2011-01-05</td></tr><tr><td>336</td><td>20101229</td><td>20110110</td><td>20110105</td><td>14501</td><td>1</td><td>100</td><td>4</td><td>SO43700</td><td>1</td><td>null</td><td>null</td><td>413.15</td><td>413.15</td><td>699.1</td><td>55.93</td><td>174.775</td><td>2010-12-29</td><td>2011-01-10</td><td>2011-01-05</td></tr><tr><td>346</td><td>20101229</td><td>20110110</td><td>20110105</td><td>11003</td><td>1</td><td>6</td><td>9</td><td>SO43701</td><td>1</td><td>3399.99</td><td>3399.99</td><td>1912.15</td><td>1912.15</td><td>3399.99</td><td>272.0</td><td>849.998</td><td>2010-12-29</td><td>2011-01-10</td><td>2011-01-05</td></tr><tr><td>311</td><td>20101230</td><td>20110111</td><td>20110106</td><td>27645</td><td>1</td><td>100</td><td>4</td><td>SO43702</td><td>1</td><td>3578.27</td><td>3578.27</td><td>2171.29</td><td>2171.29</td><td>3578.27</td><td>286.26</td><td>894.568</td><td>2010-12-30</td><td>2011-01-11</td><td>2011-01-06</td></tr><tr><td>310</td><td>20101230</td><td>20110111</td><td>20110106</td><td>16624</td><td>1</td><td>6</td><td>9</td><td>SO43703</td><td>1</td><td>3578.27</td><td>3578.27</td><td>2171.29</td><td>2171.29</td><td>3578.27</td><td>286.26</td><td>894.568</td><td>2010-12-30</td><td>2011-01-11</td><td>2011-01-06</td></tr><tr><td>351</td><td>20101230</td><td>20110111</td><td>20110106</td><td>11005</td><td>1</td><td>6</td><td>9</td><td>SO43704</td><td>1</td><td>3374.99</td><td>3374.99</td><td>1898.09</td><td>1898.09</td><td>3374.99</td><td>270.0</td><td>843.748</td><td>2010-12-30</td><td>2011-01-11</td><td>2011-01-06</td></tr><tr><td>344</td><td>20101230</td><td>20110111</td><td>20110106</td><td>11011</td><td>1</td><td>6</td><td>9</td><td>SO43705</td><td>1</td><td>3399.99</td><td>3399.99</td><td>1912.15</td><td>1912.15</td><td>3399.99</td><td>272.0</td><td>849.998</td><td>2010-12-30</td><td>2011-01-11</td><td>2011-01-06</td></tr><tr><td>312</td><td>20101231</td><td>20110112</td><td>20110107</td><td>27621</td><td>1</td><td>100</td><td>4</td><td>SO43706</td><td>1</td><td>3578.27</td><td>3578.27</td><td>2171.29</td><td>2171.29</td><td>3578.27</td><td>286.26</td><td>894.568</td><td>2010-12-31</td><td>2011-01-12</td><td>2011-01-07</td></tr></tbody></table></div>"
      ]
     },
     "metadata": {
      "application/vnd.databricks.v1+output": {
       "addedWidgets": {},
       "aggData": [],
       "aggError": "",
       "aggOverflow": false,
       "aggSchema": [],
       "aggSeriesLimitReached": false,
       "aggType": "",
       "arguments": {},
       "columnCustomDisplayInfos": {},
       "data": [
        [
         310,
         20101229,
         20110110,
         20110105,
         21768,
         1,
         19,
         6,
         "SO43697",
         1,
         3578.27,
         3578.27,
         2171.29,
         2171.29,
         3578.27,
         286.26,
         894.568,
         "2010-12-29",
         "2011-01-10",
         "2011-01-05"
        ],
        [
         346,
         20101229,
         20110110,
         20110105,
         28389,
         1,
         39,
         7,
         "SO43698",
         1,
         3399.99,
         3399.99,
         1912.15,
         1912.15,
         3399.99,
         272.0,
         849.998,
         "2010-12-29",
         "2011-01-10",
         "2011-01-05"
        ],
        [
         346,
         20101229,
         20110110,
         20110105,
         25863,
         1,
         100,
         1,
         "SO43699",
         1,
         3399.99,
         3399.99,
         1912.15,
         1912.15,
         3399.99,
         272.0,
         849.998,
         "2010-12-29",
         "2011-01-10",
         "2011-01-05"
        ],
        [
         336,
         20101229,
         20110110,
         20110105,
         14501,
         1,
         100,
         4,
         "SO43700",
         1,
         null,
         null,
         413.15,
         413.15,
         699.1,
         55.93,
         174.775,
         "2010-12-29",
         "2011-01-10",
         "2011-01-05"
        ],
        [
         346,
         20101229,
         20110110,
         20110105,
         11003,
         1,
         6,
         9,
         "SO43701",
         1,
         3399.99,
         3399.99,
         1912.15,
         1912.15,
         3399.99,
         272.0,
         849.998,
         "2010-12-29",
         "2011-01-10",
         "2011-01-05"
        ],
        [
         311,
         20101230,
         20110111,
         20110106,
         27645,
         1,
         100,
         4,
         "SO43702",
         1,
         3578.27,
         3578.27,
         2171.29,
         2171.29,
         3578.27,
         286.26,
         894.568,
         "2010-12-30",
         "2011-01-11",
         "2011-01-06"
        ],
        [
         310,
         20101230,
         20110111,
         20110106,
         16624,
         1,
         6,
         9,
         "SO43703",
         1,
         3578.27,
         3578.27,
         2171.29,
         2171.29,
         3578.27,
         286.26,
         894.568,
         "2010-12-30",
         "2011-01-11",
         "2011-01-06"
        ],
        [
         351,
         20101230,
         20110111,
         20110106,
         11005,
         1,
         6,
         9,
         "SO43704",
         1,
         3374.99,
         3374.99,
         1898.09,
         1898.09,
         3374.99,
         270.0,
         843.748,
         "2010-12-30",
         "2011-01-11",
         "2011-01-06"
        ],
        [
         344,
         20101230,
         20110111,
         20110106,
         11011,
         1,
         6,
         9,
         "SO43705",
         1,
         3399.99,
         3399.99,
         1912.15,
         1912.15,
         3399.99,
         272.0,
         849.998,
         "2010-12-30",
         "2011-01-11",
         "2011-01-06"
        ],
        [
         312,
         20101231,
         20110112,
         20110107,
         27621,
         1,
         100,
         4,
         "SO43706",
         1,
         3578.27,
         3578.27,
         2171.29,
         2171.29,
         3578.27,
         286.26,
         894.568,
         "2010-12-31",
         "2011-01-12",
         "2011-01-07"
        ]
       ],
       "datasetInfos": [],
       "dbfsResultPath": null,
       "isJsonSchema": true,
       "metadata": {},
       "overflow": false,
       "plotOptions": {
        "customPlotOptions": {},
        "displayType": "table",
        "pivotAggregation": null,
        "pivotColumns": null,
        "xColumns": null,
        "yColumns": null
       },
       "removedWidgets": [],
       "schema": [
        {
         "metadata": "{}",
         "name": "ProductKey",
         "type": "\"integer\""
        },
        {
         "metadata": "{}",
         "name": "OrderDateKey",
         "type": "\"integer\""
        },
        {
         "metadata": "{}",
         "name": "DueDateKey",
         "type": "\"integer\""
        },
        {
         "metadata": "{}",
         "name": "ShipDateKey",
         "type": "\"integer\""
        },
        {
         "metadata": "{}",
         "name": "CustomerKey",
         "type": "\"integer\""
        },
        {
         "metadata": "{}",
         "name": "PromotionKey",
         "type": "\"integer\""
        },
        {
         "metadata": "{}",
         "name": "CurrencyKey",
         "type": "\"integer\""
        },
        {
         "metadata": "{}",
         "name": "SalesTerritoryKey",
         "type": "\"integer\""
        },
        {
         "metadata": "{}",
         "name": "SalesOrderNumber",
         "type": "\"string\""
        },
        {
         "metadata": "{}",
         "name": "SalesOrderLineNumber",
         "type": "\"integer\""
        },
        {
         "metadata": "{}",
         "name": "UnitPrice",
         "type": "\"double\""
        },
        {
         "metadata": "{}",
         "name": "ExtendedAmount",
         "type": "\"double\""
        },
        {
         "metadata": "{}",
         "name": "ProductStandardCost",
         "type": "\"double\""
        },
        {
         "metadata": "{}",
         "name": "TotalProductCost",
         "type": "\"double\""
        },
        {
         "metadata": "{}",
         "name": "SalesAmount",
         "type": "\"double\""
        },
        {
         "metadata": "{}",
         "name": "TaxAmt",
         "type": "\"double\""
        },
        {
         "metadata": "{}",
         "name": "Freight",
         "type": "\"double\""
        },
        {
         "metadata": "{\"__detected_date_formats\":\"yyyy-M-d\"}",
         "name": "OrderDate",
         "type": "\"date\""
        },
        {
         "metadata": "{\"__detected_date_formats\":\"yyyy-M-d\"}",
         "name": "DueDate",
         "type": "\"date\""
        },
        {
         "metadata": "{\"__detected_date_formats\":\"yyyy-M-d\"}",
         "name": "ShipDate",
         "type": "\"date\""
        }
       ],
       "type": "table"
      }
     },
     "output_type": "display_data"
    }
   ],
   "source": [
    "display(fact_int_sales.limit(10))"
   ]
  },
  {
   "cell_type": "code",
   "execution_count": 0,
   "metadata": {
    "application/vnd.databricks.v1+cell": {
     "cellMetadata": {
      "byteLimit": 2048000,
      "rowLimit": 10000
     },
     "inputWidgets": {},
     "nuid": "8c013eae-6fc4-471b-9df9-37a3a21aa940",
     "showTitle": false,
     "tableResultSettingsMap": {},
     "title": ""
    }
   },
   "outputs": [],
   "source": [
    "#fact_sales = fact_int_sales.cache()\n",
    "#dim_curreny = dim_curreny.cache()\n",
    "#fact_sales.count()  # Force caching (Since Cashing is a lazy evaluatioin)\n",
    "#dim_curreny.count() \n",
    "join_key = \"CurrencyKey\""
   ]
  },
  {
   "cell_type": "markdown",
   "metadata": {
    "application/vnd.databricks.v1+cell": {
     "cellMetadata": {
      "byteLimit": 2048000,
      "rowLimit": 10000
     },
     "inputWidgets": {},
     "nuid": "e2d2dbae-084d-4c9c-8124-a4ba39a63b69",
     "showTitle": false,
     "tableResultSettingsMap": {},
     "title": ""
    }
   },
   "source": [
    "when Joining\n",
    "    - Spark reads data in partitions, and when performing joins, it shuffles data to ensure that rows with matching keys are placed on the same executor.\n",
    "    - **Example**: Given `fact_int_sales` and `dim_currency` tables, both with a `CurrencyKey` column, Spark distributes data across executors. After reading, Spark shuffles the data to match rows with the same `ProductKey` for the join."
   ]
  },
  {
   "cell_type": "markdown",
   "metadata": {
    "application/vnd.databricks.v1+cell": {
     "cellMetadata": {
      "byteLimit": 2048000,
      "rowLimit": 10000
     },
     "inputWidgets": {},
     "nuid": "45aa46bf-b301-4c48-b2bf-42b07f3d6923",
     "showTitle": false,
     "tableResultSettingsMap": {},
     "title": ""
    }
   },
   "source": [
    "## Broadcast Join"
   ]
  },
  {
   "cell_type": "code",
   "execution_count": 0,
   "metadata": {
    "application/vnd.databricks.v1+cell": {
     "cellMetadata": {
      "byteLimit": 2048000,
      "rowLimit": 10000
     },
     "inputWidgets": {},
     "nuid": "3f40760a-6247-46f1-bafc-b3b17fcae75f",
     "showTitle": false,
     "tableResultSettingsMap": {},
     "title": ""
    }
   },
   "outputs": [],
   "source": [
    "from pyspark.sql.functions import broadcast\n",
    "\n",
    "broadcast_join = fact_int_sales.join(\n",
    "    broadcast(dim_curreny), \n",
    "    join_key,\n",
    "    how=\"left\"\n",
    ")\n"
   ]
  },
  {
   "cell_type": "code",
   "execution_count": 0,
   "metadata": {
    "application/vnd.databricks.v1+cell": {
     "cellMetadata": {
      "byteLimit": 2048000,
      "rowLimit": 10000
     },
     "inputWidgets": {},
     "nuid": "6c8b0623-aea1-4101-beb9-313c1d20283a",
     "showTitle": false,
     "tableResultSettingsMap": {},
     "title": ""
    }
   },
   "outputs": [
    {
     "output_type": "display_data",
     "data": {
      "text/html": [
       "<style scoped>\n",
       "  .table-result-container {\n",
       "    max-height: 300px;\n",
       "    overflow: auto;\n",
       "  }\n",
       "  table, th, td {\n",
       "    border: 1px solid black;\n",
       "    border-collapse: collapse;\n",
       "  }\n",
       "  th, td {\n",
       "    padding: 5px;\n",
       "  }\n",
       "  th {\n",
       "    text-align: left;\n",
       "  }\n",
       "</style><div class='table-result-container'><table class='table-result'><thead style='background-color: white'><tr><th>CurrencyKey</th><th>ProductKey</th><th>OrderDateKey</th><th>DueDateKey</th><th>ShipDateKey</th><th>CustomerKey</th><th>PromotionKey</th><th>SalesTerritoryKey</th><th>SalesOrderNumber</th><th>SalesOrderLineNumber</th><th>UnitPrice</th><th>ExtendedAmount</th><th>ProductStandardCost</th><th>TotalProductCost</th><th>SalesAmount</th><th>TaxAmt</th><th>Freight</th><th>OrderDate</th><th>DueDate</th><th>ShipDate</th><th>CurrencyAlternateKey</th><th>CurrencyName</th></tr></thead><tbody><tr><td>19</td><td>310</td><td>20101229</td><td>20110110</td><td>20110105</td><td>21768</td><td>1</td><td>6</td><td>SO43697</td><td>1</td><td>3578.27</td><td>3578.27</td><td>2171.29</td><td>2171.29</td><td>3578.27</td><td>286.26</td><td>894.568</td><td>2010-12-29</td><td>2011-01-10</td><td>2011-01-05</td><td>CAD</td><td>Canadian Dollar</td></tr><tr><td>39</td><td>346</td><td>20101229</td><td>20110110</td><td>20110105</td><td>28389</td><td>1</td><td>7</td><td>SO43698</td><td>1</td><td>3399.99</td><td>3399.99</td><td>1912.15</td><td>1912.15</td><td>3399.99</td><td>272.0</td><td>849.998</td><td>2010-12-29</td><td>2011-01-10</td><td>2011-01-05</td><td>FRF</td><td>French Franc</td></tr><tr><td>100</td><td>346</td><td>20101229</td><td>20110110</td><td>20110105</td><td>25863</td><td>1</td><td>1</td><td>SO43699</td><td>1</td><td>3399.99</td><td>3399.99</td><td>1912.15</td><td>1912.15</td><td>3399.99</td><td>272.0</td><td>849.998</td><td>2010-12-29</td><td>2011-01-10</td><td>2011-01-05</td><td>USD</td><td>US Dollar</td></tr><tr><td>100</td><td>336</td><td>20101229</td><td>20110110</td><td>20110105</td><td>14501</td><td>1</td><td>4</td><td>SO43700</td><td>1</td><td>null</td><td>null</td><td>413.15</td><td>413.15</td><td>699.1</td><td>55.93</td><td>174.775</td><td>2010-12-29</td><td>2011-01-10</td><td>2011-01-05</td><td>USD</td><td>US Dollar</td></tr><tr><td>6</td><td>346</td><td>20101229</td><td>20110110</td><td>20110105</td><td>11003</td><td>1</td><td>9</td><td>SO43701</td><td>1</td><td>3399.99</td><td>3399.99</td><td>1912.15</td><td>1912.15</td><td>3399.99</td><td>272.0</td><td>849.998</td><td>2010-12-29</td><td>2011-01-10</td><td>2011-01-05</td><td>AUD</td><td>Australian Dollar</td></tr><tr><td>100</td><td>311</td><td>20101230</td><td>20110111</td><td>20110106</td><td>27645</td><td>1</td><td>4</td><td>SO43702</td><td>1</td><td>3578.27</td><td>3578.27</td><td>2171.29</td><td>2171.29</td><td>3578.27</td><td>286.26</td><td>894.568</td><td>2010-12-30</td><td>2011-01-11</td><td>2011-01-06</td><td>USD</td><td>US Dollar</td></tr><tr><td>6</td><td>310</td><td>20101230</td><td>20110111</td><td>20110106</td><td>16624</td><td>1</td><td>9</td><td>SO43703</td><td>1</td><td>3578.27</td><td>3578.27</td><td>2171.29</td><td>2171.29</td><td>3578.27</td><td>286.26</td><td>894.568</td><td>2010-12-30</td><td>2011-01-11</td><td>2011-01-06</td><td>AUD</td><td>Australian Dollar</td></tr><tr><td>6</td><td>351</td><td>20101230</td><td>20110111</td><td>20110106</td><td>11005</td><td>1</td><td>9</td><td>SO43704</td><td>1</td><td>3374.99</td><td>3374.99</td><td>1898.09</td><td>1898.09</td><td>3374.99</td><td>270.0</td><td>843.748</td><td>2010-12-30</td><td>2011-01-11</td><td>2011-01-06</td><td>AUD</td><td>Australian Dollar</td></tr><tr><td>6</td><td>344</td><td>20101230</td><td>20110111</td><td>20110106</td><td>11011</td><td>1</td><td>9</td><td>SO43705</td><td>1</td><td>3399.99</td><td>3399.99</td><td>1912.15</td><td>1912.15</td><td>3399.99</td><td>272.0</td><td>849.998</td><td>2010-12-30</td><td>2011-01-11</td><td>2011-01-06</td><td>AUD</td><td>Australian Dollar</td></tr><tr><td>100</td><td>312</td><td>20101231</td><td>20110112</td><td>20110107</td><td>27621</td><td>1</td><td>4</td><td>SO43706</td><td>1</td><td>3578.27</td><td>3578.27</td><td>2171.29</td><td>2171.29</td><td>3578.27</td><td>286.26</td><td>894.568</td><td>2010-12-31</td><td>2011-01-12</td><td>2011-01-07</td><td>USD</td><td>US Dollar</td></tr></tbody></table></div>"
      ]
     },
     "metadata": {
      "application/vnd.databricks.v1+output": {
       "addedWidgets": {},
       "aggData": [],
       "aggError": "",
       "aggOverflow": false,
       "aggSchema": [],
       "aggSeriesLimitReached": false,
       "aggType": "",
       "arguments": {},
       "columnCustomDisplayInfos": {},
       "data": [
        [
         19,
         310,
         20101229,
         20110110,
         20110105,
         21768,
         1,
         6,
         "SO43697",
         1,
         3578.27,
         3578.27,
         2171.29,
         2171.29,
         3578.27,
         286.26,
         894.568,
         "2010-12-29",
         "2011-01-10",
         "2011-01-05",
         "CAD",
         "Canadian Dollar"
        ],
        [
         39,
         346,
         20101229,
         20110110,
         20110105,
         28389,
         1,
         7,
         "SO43698",
         1,
         3399.99,
         3399.99,
         1912.15,
         1912.15,
         3399.99,
         272.0,
         849.998,
         "2010-12-29",
         "2011-01-10",
         "2011-01-05",
         "FRF",
         "French Franc"
        ],
        [
         100,
         346,
         20101229,
         20110110,
         20110105,
         25863,
         1,
         1,
         "SO43699",
         1,
         3399.99,
         3399.99,
         1912.15,
         1912.15,
         3399.99,
         272.0,
         849.998,
         "2010-12-29",
         "2011-01-10",
         "2011-01-05",
         "USD",
         "US Dollar"
        ],
        [
         100,
         336,
         20101229,
         20110110,
         20110105,
         14501,
         1,
         4,
         "SO43700",
         1,
         null,
         null,
         413.15,
         413.15,
         699.1,
         55.93,
         174.775,
         "2010-12-29",
         "2011-01-10",
         "2011-01-05",
         "USD",
         "US Dollar"
        ],
        [
         6,
         346,
         20101229,
         20110110,
         20110105,
         11003,
         1,
         9,
         "SO43701",
         1,
         3399.99,
         3399.99,
         1912.15,
         1912.15,
         3399.99,
         272.0,
         849.998,
         "2010-12-29",
         "2011-01-10",
         "2011-01-05",
         "AUD",
         "Australian Dollar"
        ],
        [
         100,
         311,
         20101230,
         20110111,
         20110106,
         27645,
         1,
         4,
         "SO43702",
         1,
         3578.27,
         3578.27,
         2171.29,
         2171.29,
         3578.27,
         286.26,
         894.568,
         "2010-12-30",
         "2011-01-11",
         "2011-01-06",
         "USD",
         "US Dollar"
        ],
        [
         6,
         310,
         20101230,
         20110111,
         20110106,
         16624,
         1,
         9,
         "SO43703",
         1,
         3578.27,
         3578.27,
         2171.29,
         2171.29,
         3578.27,
         286.26,
         894.568,
         "2010-12-30",
         "2011-01-11",
         "2011-01-06",
         "AUD",
         "Australian Dollar"
        ],
        [
         6,
         351,
         20101230,
         20110111,
         20110106,
         11005,
         1,
         9,
         "SO43704",
         1,
         3374.99,
         3374.99,
         1898.09,
         1898.09,
         3374.99,
         270.0,
         843.748,
         "2010-12-30",
         "2011-01-11",
         "2011-01-06",
         "AUD",
         "Australian Dollar"
        ],
        [
         6,
         344,
         20101230,
         20110111,
         20110106,
         11011,
         1,
         9,
         "SO43705",
         1,
         3399.99,
         3399.99,
         1912.15,
         1912.15,
         3399.99,
         272.0,
         849.998,
         "2010-12-30",
         "2011-01-11",
         "2011-01-06",
         "AUD",
         "Australian Dollar"
        ],
        [
         100,
         312,
         20101231,
         20110112,
         20110107,
         27621,
         1,
         4,
         "SO43706",
         1,
         3578.27,
         3578.27,
         2171.29,
         2171.29,
         3578.27,
         286.26,
         894.568,
         "2010-12-31",
         "2011-01-12",
         "2011-01-07",
         "USD",
         "US Dollar"
        ]
       ],
       "datasetInfos": [],
       "dbfsResultPath": null,
       "isJsonSchema": true,
       "metadata": {},
       "overflow": false,
       "plotOptions": {
        "customPlotOptions": {},
        "displayType": "table",
        "pivotAggregation": null,
        "pivotColumns": null,
        "xColumns": null,
        "yColumns": null
       },
       "removedWidgets": [],
       "schema": [
        {
         "metadata": "{}",
         "name": "CurrencyKey",
         "type": "\"integer\""
        },
        {
         "metadata": "{}",
         "name": "ProductKey",
         "type": "\"integer\""
        },
        {
         "metadata": "{}",
         "name": "OrderDateKey",
         "type": "\"integer\""
        },
        {
         "metadata": "{}",
         "name": "DueDateKey",
         "type": "\"integer\""
        },
        {
         "metadata": "{}",
         "name": "ShipDateKey",
         "type": "\"integer\""
        },
        {
         "metadata": "{}",
         "name": "CustomerKey",
         "type": "\"integer\""
        },
        {
         "metadata": "{}",
         "name": "PromotionKey",
         "type": "\"integer\""
        },
        {
         "metadata": "{}",
         "name": "SalesTerritoryKey",
         "type": "\"integer\""
        },
        {
         "metadata": "{}",
         "name": "SalesOrderNumber",
         "type": "\"string\""
        },
        {
         "metadata": "{}",
         "name": "SalesOrderLineNumber",
         "type": "\"integer\""
        },
        {
         "metadata": "{}",
         "name": "UnitPrice",
         "type": "\"double\""
        },
        {
         "metadata": "{}",
         "name": "ExtendedAmount",
         "type": "\"double\""
        },
        {
         "metadata": "{}",
         "name": "ProductStandardCost",
         "type": "\"double\""
        },
        {
         "metadata": "{}",
         "name": "TotalProductCost",
         "type": "\"double\""
        },
        {
         "metadata": "{}",
         "name": "SalesAmount",
         "type": "\"double\""
        },
        {
         "metadata": "{}",
         "name": "TaxAmt",
         "type": "\"double\""
        },
        {
         "metadata": "{}",
         "name": "Freight",
         "type": "\"double\""
        },
        {
         "metadata": "{\"__detected_date_formats\":\"yyyy-M-d\"}",
         "name": "OrderDate",
         "type": "\"date\""
        },
        {
         "metadata": "{\"__detected_date_formats\":\"yyyy-M-d\"}",
         "name": "DueDate",
         "type": "\"date\""
        },
        {
         "metadata": "{\"__detected_date_formats\":\"yyyy-M-d\"}",
         "name": "ShipDate",
         "type": "\"date\""
        },
        {
         "metadata": "{}",
         "name": "CurrencyAlternateKey",
         "type": "\"string\""
        },
        {
         "metadata": "{}",
         "name": "CurrencyName",
         "type": "\"string\""
        }
       ],
       "type": "table"
      }
     },
     "output_type": "display_data"
    }
   ],
   "source": [
    "display(broadcast_join.limit(10))"
   ]
  },
  {
   "cell_type": "markdown",
   "metadata": {
    "application/vnd.databricks.v1+cell": {
     "cellMetadata": {
      "byteLimit": 2048000,
      "rowLimit": 10000
     },
     "inputWidgets": {},
     "nuid": "036205c7-c3f8-43f0-9170-3462e8ebcdaa",
     "showTitle": false,
     "tableResultSettingsMap": {},
     "title": ""
    }
   },
   "source": [
    "## Sort-Merge Join "
   ]
  },
  {
   "cell_type": "code",
   "execution_count": 0,
   "metadata": {
    "application/vnd.databricks.v1+cell": {
     "cellMetadata": {
      "byteLimit": 2048000,
      "rowLimit": 10000
     },
     "inputWidgets": {},
     "nuid": "2f8911f9-c69c-41bf-ac3f-50a26e0d137c",
     "showTitle": false,
     "tableResultSettingsMap": {},
     "title": ""
    }
   },
   "outputs": [],
   "source": [
    "sort_merge_join = fact_int_sales.join(\n",
    "    dim_curreny, \n",
    "    join_key,\n",
    "    how=\"left\"\n",
    ")"
   ]
  },
  {
   "cell_type": "code",
   "execution_count": 0,
   "metadata": {
    "application/vnd.databricks.v1+cell": {
     "cellMetadata": {
      "byteLimit": 2048000,
      "rowLimit": 10000
     },
     "inputWidgets": {},
     "nuid": "3711198c-45d4-4cef-8ae0-546abcd7b83b",
     "showTitle": false,
     "tableResultSettingsMap": {},
     "title": ""
    }
   },
   "outputs": [
    {
     "output_type": "display_data",
     "data": {
      "text/html": [
       "<style scoped>\n",
       "  .table-result-container {\n",
       "    max-height: 300px;\n",
       "    overflow: auto;\n",
       "  }\n",
       "  table, th, td {\n",
       "    border: 1px solid black;\n",
       "    border-collapse: collapse;\n",
       "  }\n",
       "  th, td {\n",
       "    padding: 5px;\n",
       "  }\n",
       "  th {\n",
       "    text-align: left;\n",
       "  }\n",
       "</style><div class='table-result-container'><table class='table-result'><thead style='background-color: white'><tr><th>CurrencyKey</th><th>ProductKey</th><th>OrderDateKey</th><th>DueDateKey</th><th>ShipDateKey</th><th>CustomerKey</th><th>PromotionKey</th><th>SalesTerritoryKey</th><th>SalesOrderNumber</th><th>SalesOrderLineNumber</th><th>UnitPrice</th><th>ExtendedAmount</th><th>ProductStandardCost</th><th>TotalProductCost</th><th>SalesAmount</th><th>TaxAmt</th><th>Freight</th><th>OrderDate</th><th>DueDate</th><th>ShipDate</th><th>CurrencyAlternateKey</th><th>CurrencyName</th></tr></thead><tbody><tr><td>19</td><td>310</td><td>20101229</td><td>20110110</td><td>20110105</td><td>21768</td><td>1</td><td>6</td><td>SO43697</td><td>1</td><td>3578.27</td><td>3578.27</td><td>2171.29</td><td>2171.29</td><td>3578.27</td><td>286.26</td><td>894.568</td><td>2010-12-29</td><td>2011-01-10</td><td>2011-01-05</td><td>CAD</td><td>Canadian Dollar</td></tr><tr><td>39</td><td>346</td><td>20101229</td><td>20110110</td><td>20110105</td><td>28389</td><td>1</td><td>7</td><td>SO43698</td><td>1</td><td>3399.99</td><td>3399.99</td><td>1912.15</td><td>1912.15</td><td>3399.99</td><td>272.0</td><td>849.998</td><td>2010-12-29</td><td>2011-01-10</td><td>2011-01-05</td><td>FRF</td><td>French Franc</td></tr><tr><td>100</td><td>346</td><td>20101229</td><td>20110110</td><td>20110105</td><td>25863</td><td>1</td><td>1</td><td>SO43699</td><td>1</td><td>3399.99</td><td>3399.99</td><td>1912.15</td><td>1912.15</td><td>3399.99</td><td>272.0</td><td>849.998</td><td>2010-12-29</td><td>2011-01-10</td><td>2011-01-05</td><td>USD</td><td>US Dollar</td></tr><tr><td>100</td><td>336</td><td>20101229</td><td>20110110</td><td>20110105</td><td>14501</td><td>1</td><td>4</td><td>SO43700</td><td>1</td><td>null</td><td>null</td><td>413.15</td><td>413.15</td><td>699.1</td><td>55.93</td><td>174.775</td><td>2010-12-29</td><td>2011-01-10</td><td>2011-01-05</td><td>USD</td><td>US Dollar</td></tr><tr><td>6</td><td>346</td><td>20101229</td><td>20110110</td><td>20110105</td><td>11003</td><td>1</td><td>9</td><td>SO43701</td><td>1</td><td>3399.99</td><td>3399.99</td><td>1912.15</td><td>1912.15</td><td>3399.99</td><td>272.0</td><td>849.998</td><td>2010-12-29</td><td>2011-01-10</td><td>2011-01-05</td><td>AUD</td><td>Australian Dollar</td></tr><tr><td>100</td><td>311</td><td>20101230</td><td>20110111</td><td>20110106</td><td>27645</td><td>1</td><td>4</td><td>SO43702</td><td>1</td><td>3578.27</td><td>3578.27</td><td>2171.29</td><td>2171.29</td><td>3578.27</td><td>286.26</td><td>894.568</td><td>2010-12-30</td><td>2011-01-11</td><td>2011-01-06</td><td>USD</td><td>US Dollar</td></tr><tr><td>6</td><td>310</td><td>20101230</td><td>20110111</td><td>20110106</td><td>16624</td><td>1</td><td>9</td><td>SO43703</td><td>1</td><td>3578.27</td><td>3578.27</td><td>2171.29</td><td>2171.29</td><td>3578.27</td><td>286.26</td><td>894.568</td><td>2010-12-30</td><td>2011-01-11</td><td>2011-01-06</td><td>AUD</td><td>Australian Dollar</td></tr><tr><td>6</td><td>351</td><td>20101230</td><td>20110111</td><td>20110106</td><td>11005</td><td>1</td><td>9</td><td>SO43704</td><td>1</td><td>3374.99</td><td>3374.99</td><td>1898.09</td><td>1898.09</td><td>3374.99</td><td>270.0</td><td>843.748</td><td>2010-12-30</td><td>2011-01-11</td><td>2011-01-06</td><td>AUD</td><td>Australian Dollar</td></tr><tr><td>6</td><td>344</td><td>20101230</td><td>20110111</td><td>20110106</td><td>11011</td><td>1</td><td>9</td><td>SO43705</td><td>1</td><td>3399.99</td><td>3399.99</td><td>1912.15</td><td>1912.15</td><td>3399.99</td><td>272.0</td><td>849.998</td><td>2010-12-30</td><td>2011-01-11</td><td>2011-01-06</td><td>AUD</td><td>Australian Dollar</td></tr><tr><td>100</td><td>312</td><td>20101231</td><td>20110112</td><td>20110107</td><td>27621</td><td>1</td><td>4</td><td>SO43706</td><td>1</td><td>3578.27</td><td>3578.27</td><td>2171.29</td><td>2171.29</td><td>3578.27</td><td>286.26</td><td>894.568</td><td>2010-12-31</td><td>2011-01-12</td><td>2011-01-07</td><td>USD</td><td>US Dollar</td></tr></tbody></table></div>"
      ]
     },
     "metadata": {
      "application/vnd.databricks.v1+output": {
       "addedWidgets": {},
       "aggData": [],
       "aggError": "",
       "aggOverflow": false,
       "aggSchema": [],
       "aggSeriesLimitReached": false,
       "aggType": "",
       "arguments": {},
       "columnCustomDisplayInfos": {},
       "data": [
        [
         19,
         310,
         20101229,
         20110110,
         20110105,
         21768,
         1,
         6,
         "SO43697",
         1,
         3578.27,
         3578.27,
         2171.29,
         2171.29,
         3578.27,
         286.26,
         894.568,
         "2010-12-29",
         "2011-01-10",
         "2011-01-05",
         "CAD",
         "Canadian Dollar"
        ],
        [
         39,
         346,
         20101229,
         20110110,
         20110105,
         28389,
         1,
         7,
         "SO43698",
         1,
         3399.99,
         3399.99,
         1912.15,
         1912.15,
         3399.99,
         272.0,
         849.998,
         "2010-12-29",
         "2011-01-10",
         "2011-01-05",
         "FRF",
         "French Franc"
        ],
        [
         100,
         346,
         20101229,
         20110110,
         20110105,
         25863,
         1,
         1,
         "SO43699",
         1,
         3399.99,
         3399.99,
         1912.15,
         1912.15,
         3399.99,
         272.0,
         849.998,
         "2010-12-29",
         "2011-01-10",
         "2011-01-05",
         "USD",
         "US Dollar"
        ],
        [
         100,
         336,
         20101229,
         20110110,
         20110105,
         14501,
         1,
         4,
         "SO43700",
         1,
         null,
         null,
         413.15,
         413.15,
         699.1,
         55.93,
         174.775,
         "2010-12-29",
         "2011-01-10",
         "2011-01-05",
         "USD",
         "US Dollar"
        ],
        [
         6,
         346,
         20101229,
         20110110,
         20110105,
         11003,
         1,
         9,
         "SO43701",
         1,
         3399.99,
         3399.99,
         1912.15,
         1912.15,
         3399.99,
         272.0,
         849.998,
         "2010-12-29",
         "2011-01-10",
         "2011-01-05",
         "AUD",
         "Australian Dollar"
        ],
        [
         100,
         311,
         20101230,
         20110111,
         20110106,
         27645,
         1,
         4,
         "SO43702",
         1,
         3578.27,
         3578.27,
         2171.29,
         2171.29,
         3578.27,
         286.26,
         894.568,
         "2010-12-30",
         "2011-01-11",
         "2011-01-06",
         "USD",
         "US Dollar"
        ],
        [
         6,
         310,
         20101230,
         20110111,
         20110106,
         16624,
         1,
         9,
         "SO43703",
         1,
         3578.27,
         3578.27,
         2171.29,
         2171.29,
         3578.27,
         286.26,
         894.568,
         "2010-12-30",
         "2011-01-11",
         "2011-01-06",
         "AUD",
         "Australian Dollar"
        ],
        [
         6,
         351,
         20101230,
         20110111,
         20110106,
         11005,
         1,
         9,
         "SO43704",
         1,
         3374.99,
         3374.99,
         1898.09,
         1898.09,
         3374.99,
         270.0,
         843.748,
         "2010-12-30",
         "2011-01-11",
         "2011-01-06",
         "AUD",
         "Australian Dollar"
        ],
        [
         6,
         344,
         20101230,
         20110111,
         20110106,
         11011,
         1,
         9,
         "SO43705",
         1,
         3399.99,
         3399.99,
         1912.15,
         1912.15,
         3399.99,
         272.0,
         849.998,
         "2010-12-30",
         "2011-01-11",
         "2011-01-06",
         "AUD",
         "Australian Dollar"
        ],
        [
         100,
         312,
         20101231,
         20110112,
         20110107,
         27621,
         1,
         4,
         "SO43706",
         1,
         3578.27,
         3578.27,
         2171.29,
         2171.29,
         3578.27,
         286.26,
         894.568,
         "2010-12-31",
         "2011-01-12",
         "2011-01-07",
         "USD",
         "US Dollar"
        ]
       ],
       "datasetInfos": [],
       "dbfsResultPath": null,
       "isJsonSchema": true,
       "metadata": {},
       "overflow": false,
       "plotOptions": {
        "customPlotOptions": {},
        "displayType": "table",
        "pivotAggregation": null,
        "pivotColumns": null,
        "xColumns": null,
        "yColumns": null
       },
       "removedWidgets": [],
       "schema": [
        {
         "metadata": "{}",
         "name": "CurrencyKey",
         "type": "\"integer\""
        },
        {
         "metadata": "{}",
         "name": "ProductKey",
         "type": "\"integer\""
        },
        {
         "metadata": "{}",
         "name": "OrderDateKey",
         "type": "\"integer\""
        },
        {
         "metadata": "{}",
         "name": "DueDateKey",
         "type": "\"integer\""
        },
        {
         "metadata": "{}",
         "name": "ShipDateKey",
         "type": "\"integer\""
        },
        {
         "metadata": "{}",
         "name": "CustomerKey",
         "type": "\"integer\""
        },
        {
         "metadata": "{}",
         "name": "PromotionKey",
         "type": "\"integer\""
        },
        {
         "metadata": "{}",
         "name": "SalesTerritoryKey",
         "type": "\"integer\""
        },
        {
         "metadata": "{}",
         "name": "SalesOrderNumber",
         "type": "\"string\""
        },
        {
         "metadata": "{}",
         "name": "SalesOrderLineNumber",
         "type": "\"integer\""
        },
        {
         "metadata": "{}",
         "name": "UnitPrice",
         "type": "\"double\""
        },
        {
         "metadata": "{}",
         "name": "ExtendedAmount",
         "type": "\"double\""
        },
        {
         "metadata": "{}",
         "name": "ProductStandardCost",
         "type": "\"double\""
        },
        {
         "metadata": "{}",
         "name": "TotalProductCost",
         "type": "\"double\""
        },
        {
         "metadata": "{}",
         "name": "SalesAmount",
         "type": "\"double\""
        },
        {
         "metadata": "{}",
         "name": "TaxAmt",
         "type": "\"double\""
        },
        {
         "metadata": "{}",
         "name": "Freight",
         "type": "\"double\""
        },
        {
         "metadata": "{\"__detected_date_formats\":\"yyyy-M-d\"}",
         "name": "OrderDate",
         "type": "\"date\""
        },
        {
         "metadata": "{\"__detected_date_formats\":\"yyyy-M-d\"}",
         "name": "DueDate",
         "type": "\"date\""
        },
        {
         "metadata": "{\"__detected_date_formats\":\"yyyy-M-d\"}",
         "name": "ShipDate",
         "type": "\"date\""
        },
        {
         "metadata": "{}",
         "name": "CurrencyAlternateKey",
         "type": "\"string\""
        },
        {
         "metadata": "{}",
         "name": "CurrencyName",
         "type": "\"string\""
        }
       ],
       "type": "table"
      }
     },
     "output_type": "display_data"
    }
   ],
   "source": [
    "display(sort_merge_join.limit(10)) "
   ]
  },
  {
   "cell_type": "markdown",
   "metadata": {
    "application/vnd.databricks.v1+cell": {
     "cellMetadata": {
      "byteLimit": 2048000,
      "rowLimit": 10000
     },
     "inputWidgets": {},
     "nuid": "8b9a2fd3-39ba-4c1e-bba7-0f34725bcfc5",
     "showTitle": false,
     "tableResultSettingsMap": {},
     "title": ""
    }
   },
   "source": [
    "## Bucketed Join"
   ]
  },
  {
   "cell_type": "code",
   "execution_count": 0,
   "metadata": {
    "application/vnd.databricks.v1+cell": {
     "cellMetadata": {
      "byteLimit": 2048000,
      "rowLimit": 10000
     },
     "inputWidgets": {},
     "nuid": "ef07c7a2-e05e-4864-bbc2-511d8815269d",
     "showTitle": false,
     "tableResultSettingsMap": {},
     "title": ""
    }
   },
   "outputs": [],
   "source": [
    "# Bucket tables first (if not already)\n",
    "fact_sales_bucketed = fact_int_sales.repartitionByRange(100, join_key)\n",
    "dim_curreny_bucketed = dim_curreny.repartitionByRange(100, join_key)\n",
    "\n",
    "bucketed_join = fact_sales_bucketed.join(\n",
    "    dim_curreny_bucketed, \n",
    "    join_key,\n",
    "    how=\"left\"\n",
    ")"
   ]
  },
  {
   "cell_type": "code",
   "execution_count": 0,
   "metadata": {
    "application/vnd.databricks.v1+cell": {
     "cellMetadata": {
      "byteLimit": 2048000,
      "rowLimit": 10000
     },
     "inputWidgets": {},
     "nuid": "262377ba-1df0-4806-bc68-e5a9dc24ad56",
     "showTitle": false,
     "tableResultSettingsMap": {},
     "title": ""
    }
   },
   "outputs": [
    {
     "output_type": "display_data",
     "data": {
      "text/html": [
       "<style scoped>\n",
       "  .table-result-container {\n",
       "    max-height: 300px;\n",
       "    overflow: auto;\n",
       "  }\n",
       "  table, th, td {\n",
       "    border: 1px solid black;\n",
       "    border-collapse: collapse;\n",
       "  }\n",
       "  th, td {\n",
       "    padding: 5px;\n",
       "  }\n",
       "  th {\n",
       "    text-align: left;\n",
       "  }\n",
       "</style><div class='table-result-container'><table class='table-result'><thead style='background-color: white'><tr><th>CurrencyKey</th><th>ProductKey</th><th>OrderDateKey</th><th>DueDateKey</th><th>ShipDateKey</th><th>CustomerKey</th><th>PromotionKey</th><th>SalesTerritoryKey</th><th>SalesOrderNumber</th><th>SalesOrderLineNumber</th><th>UnitPrice</th><th>ExtendedAmount</th><th>ProductStandardCost</th><th>TotalProductCost</th><th>SalesAmount</th><th>TaxAmt</th><th>Freight</th><th>OrderDate</th><th>DueDate</th><th>ShipDate</th><th>CurrencyAlternateKey</th><th>CurrencyName</th></tr></thead><tbody><tr><td>6</td><td>346</td><td>20101229</td><td>20110110</td><td>20110105</td><td>11003</td><td>1</td><td>9</td><td>SO43701</td><td>1</td><td>3399.99</td><td>3399.99</td><td>1912.15</td><td>1912.15</td><td>3399.99</td><td>272.0</td><td>849.998</td><td>2010-12-29</td><td>2011-01-10</td><td>2011-01-05</td><td>AUD</td><td>Australian Dollar</td></tr><tr><td>6</td><td>310</td><td>20101230</td><td>20110111</td><td>20110106</td><td>16624</td><td>1</td><td>9</td><td>SO43703</td><td>1</td><td>3578.27</td><td>3578.27</td><td>2171.29</td><td>2171.29</td><td>3578.27</td><td>286.26</td><td>894.568</td><td>2010-12-30</td><td>2011-01-11</td><td>2011-01-06</td><td>AUD</td><td>Australian Dollar</td></tr><tr><td>6</td><td>351</td><td>20101230</td><td>20110111</td><td>20110106</td><td>11005</td><td>1</td><td>9</td><td>SO43704</td><td>1</td><td>3374.99</td><td>3374.99</td><td>1898.09</td><td>1898.09</td><td>3374.99</td><td>270.0</td><td>843.748</td><td>2010-12-30</td><td>2011-01-11</td><td>2011-01-06</td><td>AUD</td><td>Australian Dollar</td></tr><tr><td>6</td><td>344</td><td>20101230</td><td>20110111</td><td>20110106</td><td>11011</td><td>1</td><td>9</td><td>SO43705</td><td>1</td><td>3399.99</td><td>3399.99</td><td>1912.15</td><td>1912.15</td><td>3399.99</td><td>272.0</td><td>849.998</td><td>2010-12-30</td><td>2011-01-11</td><td>2011-01-06</td><td>AUD</td><td>Australian Dollar</td></tr><tr><td>6</td><td>313</td><td>20101231</td><td>20110112</td><td>20110107</td><td>16351</td><td>1</td><td>9</td><td>SO43709</td><td>1</td><td>3578.27</td><td>3578.27</td><td>2171.29</td><td>2171.29</td><td>3578.27</td><td>286.26</td><td>894.568</td><td>2010-12-31</td><td>2011-01-12</td><td>2011-01-07</td><td>AUD</td><td>Australian Dollar</td></tr><tr><td>6</td><td>314</td><td>20101231</td><td>20110112</td><td>20110107</td><td>16517</td><td>1</td><td>9</td><td>SO43710</td><td>1</td><td>3578.27</td><td>3578.27</td><td>2171.29</td><td>2171.29</td><td>3578.27</td><td>286.26</td><td>894.568</td><td>2010-12-31</td><td>2011-01-12</td><td>2011-01-07</td><td>AUD</td><td>Australian Dollar</td></tr><tr><td>6</td><td>314</td><td>20110102</td><td>20110114</td><td>20110109</td><td>16483</td><td>1</td><td>9</td><td>SO43715</td><td>1</td><td>3578.27</td><td>3578.27</td><td>2171.29</td><td>2171.29</td><td>3578.27</td><td>286.26</td><td>894.568</td><td>2011-01-02</td><td>2011-01-14</td><td>2011-01-09</td><td>AUD</td><td>Australian Dollar</td></tr><tr><td>6</td><td>311</td><td>20110102</td><td>20110114</td><td>20110109</td><td>16529</td><td>1</td><td>9</td><td>SO43716</td><td>1</td><td>3578.27</td><td>3578.27</td><td>2171.29</td><td>2171.29</td><td>3578.27</td><td>286.26</td><td>894.568</td><td>2011-01-02</td><td>2011-01-14</td><td>2011-01-09</td><td>AUD</td><td>Australian Dollar</td></tr><tr><td>6</td><td>336</td><td>20110102</td><td>20110114</td><td>20110109</td><td>25249</td><td>1</td><td>9</td><td>SO43717</td><td>1</td><td>null</td><td>null</td><td>413.15</td><td>413.15</td><td>699.1</td><td>55.93</td><td>174.775</td><td>2011-01-02</td><td>2011-01-14</td><td>2011-01-09</td><td>AUD</td><td>Australian Dollar</td></tr><tr><td>6</td><td>311</td><td>20110104</td><td>20110116</td><td>20110111</td><td>16520</td><td>1</td><td>9</td><td>SO43724</td><td>1</td><td>3578.27</td><td>3578.27</td><td>2171.29</td><td>2171.29</td><td>3578.27</td><td>286.26</td><td>894.568</td><td>2011-01-04</td><td>2011-01-16</td><td>2011-01-11</td><td>AUD</td><td>Australian Dollar</td></tr></tbody></table></div>"
      ]
     },
     "metadata": {
      "application/vnd.databricks.v1+output": {
       "addedWidgets": {},
       "aggData": [],
       "aggError": "",
       "aggOverflow": false,
       "aggSchema": [],
       "aggSeriesLimitReached": false,
       "aggType": "",
       "arguments": {},
       "columnCustomDisplayInfos": {},
       "data": [
        [
         6,
         346,
         20101229,
         20110110,
         20110105,
         11003,
         1,
         9,
         "SO43701",
         1,
         3399.99,
         3399.99,
         1912.15,
         1912.15,
         3399.99,
         272.0,
         849.998,
         "2010-12-29",
         "2011-01-10",
         "2011-01-05",
         "AUD",
         "Australian Dollar"
        ],
        [
         6,
         310,
         20101230,
         20110111,
         20110106,
         16624,
         1,
         9,
         "SO43703",
         1,
         3578.27,
         3578.27,
         2171.29,
         2171.29,
         3578.27,
         286.26,
         894.568,
         "2010-12-30",
         "2011-01-11",
         "2011-01-06",
         "AUD",
         "Australian Dollar"
        ],
        [
         6,
         351,
         20101230,
         20110111,
         20110106,
         11005,
         1,
         9,
         "SO43704",
         1,
         3374.99,
         3374.99,
         1898.09,
         1898.09,
         3374.99,
         270.0,
         843.748,
         "2010-12-30",
         "2011-01-11",
         "2011-01-06",
         "AUD",
         "Australian Dollar"
        ],
        [
         6,
         344,
         20101230,
         20110111,
         20110106,
         11011,
         1,
         9,
         "SO43705",
         1,
         3399.99,
         3399.99,
         1912.15,
         1912.15,
         3399.99,
         272.0,
         849.998,
         "2010-12-30",
         "2011-01-11",
         "2011-01-06",
         "AUD",
         "Australian Dollar"
        ],
        [
         6,
         313,
         20101231,
         20110112,
         20110107,
         16351,
         1,
         9,
         "SO43709",
         1,
         3578.27,
         3578.27,
         2171.29,
         2171.29,
         3578.27,
         286.26,
         894.568,
         "2010-12-31",
         "2011-01-12",
         "2011-01-07",
         "AUD",
         "Australian Dollar"
        ],
        [
         6,
         314,
         20101231,
         20110112,
         20110107,
         16517,
         1,
         9,
         "SO43710",
         1,
         3578.27,
         3578.27,
         2171.29,
         2171.29,
         3578.27,
         286.26,
         894.568,
         "2010-12-31",
         "2011-01-12",
         "2011-01-07",
         "AUD",
         "Australian Dollar"
        ],
        [
         6,
         314,
         20110102,
         20110114,
         20110109,
         16483,
         1,
         9,
         "SO43715",
         1,
         3578.27,
         3578.27,
         2171.29,
         2171.29,
         3578.27,
         286.26,
         894.568,
         "2011-01-02",
         "2011-01-14",
         "2011-01-09",
         "AUD",
         "Australian Dollar"
        ],
        [
         6,
         311,
         20110102,
         20110114,
         20110109,
         16529,
         1,
         9,
         "SO43716",
         1,
         3578.27,
         3578.27,
         2171.29,
         2171.29,
         3578.27,
         286.26,
         894.568,
         "2011-01-02",
         "2011-01-14",
         "2011-01-09",
         "AUD",
         "Australian Dollar"
        ],
        [
         6,
         336,
         20110102,
         20110114,
         20110109,
         25249,
         1,
         9,
         "SO43717",
         1,
         null,
         null,
         413.15,
         413.15,
         699.1,
         55.93,
         174.775,
         "2011-01-02",
         "2011-01-14",
         "2011-01-09",
         "AUD",
         "Australian Dollar"
        ],
        [
         6,
         311,
         20110104,
         20110116,
         20110111,
         16520,
         1,
         9,
         "SO43724",
         1,
         3578.27,
         3578.27,
         2171.29,
         2171.29,
         3578.27,
         286.26,
         894.568,
         "2011-01-04",
         "2011-01-16",
         "2011-01-11",
         "AUD",
         "Australian Dollar"
        ]
       ],
       "datasetInfos": [],
       "dbfsResultPath": null,
       "isJsonSchema": true,
       "metadata": {},
       "overflow": false,
       "plotOptions": {
        "customPlotOptions": {},
        "displayType": "table",
        "pivotAggregation": null,
        "pivotColumns": null,
        "xColumns": null,
        "yColumns": null
       },
       "removedWidgets": [],
       "schema": [
        {
         "metadata": "{}",
         "name": "CurrencyKey",
         "type": "\"integer\""
        },
        {
         "metadata": "{}",
         "name": "ProductKey",
         "type": "\"integer\""
        },
        {
         "metadata": "{}",
         "name": "OrderDateKey",
         "type": "\"integer\""
        },
        {
         "metadata": "{}",
         "name": "DueDateKey",
         "type": "\"integer\""
        },
        {
         "metadata": "{}",
         "name": "ShipDateKey",
         "type": "\"integer\""
        },
        {
         "metadata": "{}",
         "name": "CustomerKey",
         "type": "\"integer\""
        },
        {
         "metadata": "{}",
         "name": "PromotionKey",
         "type": "\"integer\""
        },
        {
         "metadata": "{}",
         "name": "SalesTerritoryKey",
         "type": "\"integer\""
        },
        {
         "metadata": "{}",
         "name": "SalesOrderNumber",
         "type": "\"string\""
        },
        {
         "metadata": "{}",
         "name": "SalesOrderLineNumber",
         "type": "\"integer\""
        },
        {
         "metadata": "{}",
         "name": "UnitPrice",
         "type": "\"double\""
        },
        {
         "metadata": "{}",
         "name": "ExtendedAmount",
         "type": "\"double\""
        },
        {
         "metadata": "{}",
         "name": "ProductStandardCost",
         "type": "\"double\""
        },
        {
         "metadata": "{}",
         "name": "TotalProductCost",
         "type": "\"double\""
        },
        {
         "metadata": "{}",
         "name": "SalesAmount",
         "type": "\"double\""
        },
        {
         "metadata": "{}",
         "name": "TaxAmt",
         "type": "\"double\""
        },
        {
         "metadata": "{}",
         "name": "Freight",
         "type": "\"double\""
        },
        {
         "metadata": "{\"__detected_date_formats\":\"yyyy-M-d\"}",
         "name": "OrderDate",
         "type": "\"date\""
        },
        {
         "metadata": "{\"__detected_date_formats\":\"yyyy-M-d\"}",
         "name": "DueDate",
         "type": "\"date\""
        },
        {
         "metadata": "{\"__detected_date_formats\":\"yyyy-M-d\"}",
         "name": "ShipDate",
         "type": "\"date\""
        },
        {
         "metadata": "{}",
         "name": "CurrencyAlternateKey",
         "type": "\"string\""
        },
        {
         "metadata": "{}",
         "name": "CurrencyName",
         "type": "\"string\""
        }
       ],
       "type": "table"
      }
     },
     "output_type": "display_data"
    }
   ],
   "source": [
    "display(bucketed_join.limit(10))"
   ]
  }
 ],
 "metadata": {
  "application/vnd.databricks.v1+notebook": {
   "computePreferences": null,
   "dashboards": [],
   "environmentMetadata": {
    "base_environment": "",
    "environment_version": "1"
   },
   "inputWidgetPreferences": null,
   "language": "python",
   "notebookMetadata": {
    "pythonIndentUnit": 4
   },
   "notebookName": "pyspark_join_strategies",
   "widgets": {}
  }
 },
 "nbformat": 4,
 "nbformat_minor": 0
}
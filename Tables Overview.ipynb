{
 "cells": [
  {
   "cell_type": "markdown",
   "metadata": {
    "application/vnd.databricks.v1+cell": {
     "cellMetadata": {},
     "inputWidgets": {},
     "nuid": "421eb3f0-729f-4b9f-82dc-0506bd612518",
     "showTitle": false,
     "tableResultSettingsMap": {},
     "title": ""
    }
   },
   "source": [
    "In the Notebook we will read 4 tables that come from the AdventureWorks database; FactInternetSales, DimProduct, DimSalesTerritory, and DimCurrency."
   ]
  },
  {
   "cell_type": "code",
   "execution_count": 0,
   "metadata": {
    "application/vnd.databricks.v1+cell": {
     "cellMetadata": {
      "byteLimit": 2048000,
      "rowLimit": 10000
     },
     "inputWidgets": {},
     "nuid": "fc26b508-e29f-4802-994e-5c79ece954a7",
     "showTitle": false,
     "tableResultSettingsMap": {},
     "title": ""
    }
   },
   "outputs": [],
   "source": [
    "#Load Data\n",
    "options = {\n",
    "    \"header\": \"true\",\n",
    "    \"inferSchema\": \"true\",\n",
    "    \"delimiter\": \";\"\n",
    "}\n",
    "dim_product =  spark.read.format(\"csv\").options(**options).load(\"dbfs:/FileStore/tables/DimProduct-1.csv\")\n",
    "fact_int_sales =  spark.read.format(\"csv\").options(**options).load(\"dbfs:/FileStore/tables/FactInternetSales-2.csv\")\n",
    "dim_sales_terr =  spark.read.format(\"csv\").options(**options).load(\"dbfs:/FileStore/tables/DimSalesTerritory.csv\")\n",
    "dim_curreny = spark.read.format(\"csv\").options(**options).load(\"dbfs:/FileStore/tables/DimCurrency.csv\")  \n"
   ]
  },
  {
   "cell_type": "markdown",
   "metadata": {
    "application/vnd.databricks.v1+cell": {
     "cellMetadata": {},
     "inputWidgets": {},
     "nuid": "c7b03e22-3751-45ff-b12f-7590bd456052",
     "showTitle": false,
     "tableResultSettingsMap": {},
     "title": ""
    }
   },
   "source": [
    "# Fact Internet Sales Table"
   ]
  },
  {
   "cell_type": "code",
   "execution_count": 0,
   "metadata": {
    "application/vnd.databricks.v1+cell": {
     "cellMetadata": {
      "byteLimit": 2048000,
      "rowLimit": 10000
     },
     "inputWidgets": {},
     "nuid": "c2207de5-c4e2-417c-a761-83347289493a",
     "showTitle": false,
     "tableResultSettingsMap": {},
     "title": ""
    }
   },
   "outputs": [
    {
     "output_type": "display_data",
     "data": {
      "text/html": [
       "<style scoped>\n",
       "  .table-result-container {\n",
       "    max-height: 300px;\n",
       "    overflow: auto;\n",
       "  }\n",
       "  table, th, td {\n",
       "    border: 1px solid black;\n",
       "    border-collapse: collapse;\n",
       "  }\n",
       "  th, td {\n",
       "    padding: 5px;\n",
       "  }\n",
       "  th {\n",
       "    text-align: left;\n",
       "  }\n",
       "</style><div class='table-result-container'><table class='table-result'><thead style='background-color: white'><tr><th>ProductKey</th><th>OrderDateKey</th><th>DueDateKey</th><th>ShipDateKey</th><th>CustomerKey</th><th>PromotionKey</th><th>CurrencyKey</th><th>SalesTerritoryKey</th><th>SalesOrderNumber</th><th>SalesOrderLineNumber</th><th>UnitPrice</th><th>ExtendedAmount</th><th>ProductStandardCost</th><th>TotalProductCost</th><th>SalesAmount</th><th>TaxAmt</th><th>Freight</th><th>OrderDate</th><th>DueDate</th><th>ShipDate</th></tr></thead><tbody><tr><td>310</td><td>20101229</td><td>20110110</td><td>20110105</td><td>21768</td><td>1</td><td>19</td><td>6</td><td>SO43697</td><td>1</td><td>3578.27</td><td>3578.27</td><td>2171.29</td><td>2171.29</td><td>3578.27</td><td>286.26</td><td>894.568</td><td>2010-12-29</td><td>2011-01-10</td><td>2011-01-05</td></tr><tr><td>346</td><td>20101229</td><td>20110110</td><td>20110105</td><td>28389</td><td>1</td><td>39</td><td>7</td><td>SO43698</td><td>1</td><td>3399.99</td><td>3399.99</td><td>1912.15</td><td>1912.15</td><td>3399.99</td><td>272.0</td><td>849.998</td><td>2010-12-29</td><td>2011-01-10</td><td>2011-01-05</td></tr><tr><td>346</td><td>20101229</td><td>20110110</td><td>20110105</td><td>25863</td><td>1</td><td>100</td><td>1</td><td>SO43699</td><td>1</td><td>3399.99</td><td>3399.99</td><td>1912.15</td><td>1912.15</td><td>3399.99</td><td>272.0</td><td>849.998</td><td>2010-12-29</td><td>2011-01-10</td><td>2011-01-05</td></tr><tr><td>336</td><td>20101229</td><td>20110110</td><td>20110105</td><td>14501</td><td>1</td><td>100</td><td>4</td><td>SO43700</td><td>1</td><td>null</td><td>null</td><td>413.15</td><td>413.15</td><td>699.1</td><td>55.93</td><td>174.775</td><td>2010-12-29</td><td>2011-01-10</td><td>2011-01-05</td></tr><tr><td>346</td><td>20101229</td><td>20110110</td><td>20110105</td><td>11003</td><td>1</td><td>6</td><td>9</td><td>SO43701</td><td>1</td><td>3399.99</td><td>3399.99</td><td>1912.15</td><td>1912.15</td><td>3399.99</td><td>272.0</td><td>849.998</td><td>2010-12-29</td><td>2011-01-10</td><td>2011-01-05</td></tr><tr><td>311</td><td>20101230</td><td>20110111</td><td>20110106</td><td>27645</td><td>1</td><td>100</td><td>4</td><td>SO43702</td><td>1</td><td>3578.27</td><td>3578.27</td><td>2171.29</td><td>2171.29</td><td>3578.27</td><td>286.26</td><td>894.568</td><td>2010-12-30</td><td>2011-01-11</td><td>2011-01-06</td></tr><tr><td>310</td><td>20101230</td><td>20110111</td><td>20110106</td><td>16624</td><td>1</td><td>6</td><td>9</td><td>SO43703</td><td>1</td><td>3578.27</td><td>3578.27</td><td>2171.29</td><td>2171.29</td><td>3578.27</td><td>286.26</td><td>894.568</td><td>2010-12-30</td><td>2011-01-11</td><td>2011-01-06</td></tr><tr><td>351</td><td>20101230</td><td>20110111</td><td>20110106</td><td>11005</td><td>1</td><td>6</td><td>9</td><td>SO43704</td><td>1</td><td>3374.99</td><td>3374.99</td><td>1898.09</td><td>1898.09</td><td>3374.99</td><td>270.0</td><td>843.748</td><td>2010-12-30</td><td>2011-01-11</td><td>2011-01-06</td></tr><tr><td>344</td><td>20101230</td><td>20110111</td><td>20110106</td><td>11011</td><td>1</td><td>6</td><td>9</td><td>SO43705</td><td>1</td><td>3399.99</td><td>3399.99</td><td>1912.15</td><td>1912.15</td><td>3399.99</td><td>272.0</td><td>849.998</td><td>2010-12-30</td><td>2011-01-11</td><td>2011-01-06</td></tr><tr><td>312</td><td>20101231</td><td>20110112</td><td>20110107</td><td>27621</td><td>1</td><td>100</td><td>4</td><td>SO43706</td><td>1</td><td>3578.27</td><td>3578.27</td><td>2171.29</td><td>2171.29</td><td>3578.27</td><td>286.26</td><td>894.568</td><td>2010-12-31</td><td>2011-01-12</td><td>2011-01-07</td></tr></tbody></table></div>"
      ]
     },
     "metadata": {
      "application/vnd.databricks.v1+output": {
       "addedWidgets": {},
       "aggData": [],
       "aggError": "",
       "aggOverflow": false,
       "aggSchema": [],
       "aggSeriesLimitReached": false,
       "aggType": "",
       "arguments": {},
       "columnCustomDisplayInfos": {},
       "data": [
        [
         310,
         "20101229",
         20110110,
         20110105,
         21768,
         1,
         19,
         6,
         "SO43697",
         1,
         3578.27,
         3578.27,
         2171.29,
         2171.29,
         3578.27,
         286.26,
         894.568,
         "2010-12-29",
         "2011-01-10",
         "2011-01-05"
        ],
        [
         346,
         "20101229",
         20110110,
         20110105,
         28389,
         1,
         39,
         7,
         "SO43698",
         1,
         3399.99,
         3399.99,
         1912.15,
         1912.15,
         3399.99,
         272.0,
         849.998,
         "2010-12-29",
         "2011-01-10",
         "2011-01-05"
        ],
        [
         346,
         "20101229",
         20110110,
         20110105,
         25863,
         1,
         100,
         1,
         "SO43699",
         1,
         3399.99,
         3399.99,
         1912.15,
         1912.15,
         3399.99,
         272.0,
         849.998,
         "2010-12-29",
         "2011-01-10",
         "2011-01-05"
        ],
        [
         336,
         "20101229",
         20110110,
         20110105,
         14501,
         1,
         100,
         4,
         "SO43700",
         1,
         null,
         null,
         413.15,
         413.15,
         699.1,
         55.93,
         174.775,
         "2010-12-29",
         "2011-01-10",
         "2011-01-05"
        ],
        [
         346,
         "20101229",
         20110110,
         20110105,
         11003,
         1,
         6,
         9,
         "SO43701",
         1,
         3399.99,
         3399.99,
         1912.15,
         1912.15,
         3399.99,
         272.0,
         849.998,
         "2010-12-29",
         "2011-01-10",
         "2011-01-05"
        ],
        [
         311,
         "20101230",
         20110111,
         20110106,
         27645,
         1,
         100,
         4,
         "SO43702",
         1,
         3578.27,
         3578.27,
         2171.29,
         2171.29,
         3578.27,
         286.26,
         894.568,
         "2010-12-30",
         "2011-01-11",
         "2011-01-06"
        ],
        [
         310,
         "20101230",
         20110111,
         20110106,
         16624,
         1,
         6,
         9,
         "SO43703",
         1,
         3578.27,
         3578.27,
         2171.29,
         2171.29,
         3578.27,
         286.26,
         894.568,
         "2010-12-30",
         "2011-01-11",
         "2011-01-06"
        ],
        [
         351,
         "20101230",
         20110111,
         20110106,
         11005,
         1,
         6,
         9,
         "SO43704",
         1,
         3374.99,
         3374.99,
         1898.09,
         1898.09,
         3374.99,
         270.0,
         843.748,
         "2010-12-30",
         "2011-01-11",
         "2011-01-06"
        ],
        [
         344,
         "20101230",
         20110111,
         20110106,
         11011,
         1,
         6,
         9,
         "SO43705",
         1,
         3399.99,
         3399.99,
         1912.15,
         1912.15,
         3399.99,
         272.0,
         849.998,
         "2010-12-30",
         "2011-01-11",
         "2011-01-06"
        ],
        [
         312,
         "20101231",
         20110112,
         20110107,
         27621,
         1,
         100,
         4,
         "SO43706",
         1,
         3578.27,
         3578.27,
         2171.29,
         2171.29,
         3578.27,
         286.26,
         894.568,
         "2010-12-31",
         "2011-01-12",
         "2011-01-07"
        ]
       ],
       "datasetInfos": [],
       "dbfsResultPath": null,
       "isJsonSchema": true,
       "metadata": {},
       "overflow": false,
       "plotOptions": {
        "customPlotOptions": {},
        "displayType": "table",
        "pivotAggregation": null,
        "pivotColumns": null,
        "xColumns": null,
        "yColumns": null
       },
       "removedWidgets": [],
       "schema": [
        {
         "metadata": "{}",
         "name": "ProductKey",
         "type": "\"integer\""
        },
        {
         "metadata": "{}",
         "name": "OrderDateKey",
         "type": "\"string\""
        },
        {
         "metadata": "{}",
         "name": "DueDateKey",
         "type": "\"integer\""
        },
        {
         "metadata": "{}",
         "name": "ShipDateKey",
         "type": "\"integer\""
        },
        {
         "metadata": "{}",
         "name": "CustomerKey",
         "type": "\"integer\""
        },
        {
         "metadata": "{}",
         "name": "PromotionKey",
         "type": "\"integer\""
        },
        {
         "metadata": "{}",
         "name": "CurrencyKey",
         "type": "\"integer\""
        },
        {
         "metadata": "{}",
         "name": "SalesTerritoryKey",
         "type": "\"integer\""
        },
        {
         "metadata": "{}",
         "name": "SalesOrderNumber",
         "type": "\"string\""
        },
        {
         "metadata": "{}",
         "name": "SalesOrderLineNumber",
         "type": "\"integer\""
        },
        {
         "metadata": "{}",
         "name": "UnitPrice",
         "type": "\"float\""
        },
        {
         "metadata": "{}",
         "name": "ExtendedAmount",
         "type": "\"float\""
        },
        {
         "metadata": "{}",
         "name": "ProductStandardCost",
         "type": "\"float\""
        },
        {
         "metadata": "{}",
         "name": "TotalProductCost",
         "type": "\"float\""
        },
        {
         "metadata": "{}",
         "name": "SalesAmount",
         "type": "\"float\""
        },
        {
         "metadata": "{}",
         "name": "TaxAmt",
         "type": "\"float\""
        },
        {
         "metadata": "{}",
         "name": "Freight",
         "type": "\"float\""
        },
        {
         "metadata": "{}",
         "name": "OrderDate",
         "type": "\"date\""
        },
        {
         "metadata": "{}",
         "name": "DueDate",
         "type": "\"date\""
        },
        {
         "metadata": "{}",
         "name": "ShipDate",
         "type": "\"date\""
        }
       ],
       "type": "table"
      }
     },
     "output_type": "display_data"
    }
   ],
   "source": [
    "display(fact_int_sales.limit(10))"
   ]
  },
  {
   "cell_type": "code",
   "execution_count": 0,
   "metadata": {
    "application/vnd.databricks.v1+cell": {
     "cellMetadata": {
      "byteLimit": 2048000,
      "rowLimit": 10000
     },
     "inputWidgets": {},
     "nuid": "6a7b1783-248d-43df-b11c-5bc3f5a1ee44",
     "showTitle": false,
     "tableResultSettingsMap": {},
     "title": ""
    }
   },
   "outputs": [
    {
     "output_type": "stream",
     "name": "stdout",
     "output_type": "stream",
     "text": [
      "60399"
     ]
    }
   ],
   "source": [
    "from pyspark.sql.functions import count\n",
    "display(fact_int_sales.count())"
   ]
  },
  {
   "cell_type": "code",
   "execution_count": 0,
   "metadata": {
    "application/vnd.databricks.v1+cell": {
     "cellMetadata": {
      "byteLimit": 2048000,
      "rowLimit": 10000
     },
     "inputWidgets": {},
     "nuid": "417ca356-9779-4ccf-81f9-a08f9e863a8e",
     "showTitle": false,
     "tableResultSettingsMap": {},
     "title": ""
    }
   },
   "outputs": [
    {
     "output_type": "display_data",
     "data": {
      "text/html": [
       "<style scoped>\n",
       "  .table-result-container {\n",
       "    max-height: 300px;\n",
       "    overflow: auto;\n",
       "  }\n",
       "  table, th, td {\n",
       "    border: 1px solid black;\n",
       "    border-collapse: collapse;\n",
       "  }\n",
       "  th, td {\n",
       "    padding: 5px;\n",
       "  }\n",
       "  th {\n",
       "    text-align: left;\n",
       "  }\n",
       "</style><div class='table-result-container'><table class='table-result'><thead style='background-color: white'><tr><th>ProductKey</th><th>OrderDateKey</th><th>DueDateKey</th><th>ShipDateKey</th><th>CustomerKey</th><th>PromotionKey</th><th>CurrencyKey</th><th>SalesTerritoryKey</th><th>SalesOrderNumber</th><th>SalesOrderLineNumber</th><th>RevisionNumber</th><th>OrderQuantity</th><th>UnitPrice</th><th>ExtendedAmount</th><th>UnitPriceDiscountPct</th><th>DiscountAmount</th><th>ProductStandardCost</th><th>TotalProductCost</th><th>SalesAmount</th><th>TaxAmt</th><th>Freight</th><th>CarrierTrackingNumber</th><th>CustomerPONumber</th><th>OrderDate</th><th>DueDate</th><th>ShipDate</th></tr></thead><tbody></tbody></table></div>"
      ]
     },
     "metadata": {
      "application/vnd.databricks.v1+output": {
       "addedWidgets": {},
       "aggData": [],
       "aggError": "",
       "aggOverflow": false,
       "aggSchema": [],
       "aggSeriesLimitReached": false,
       "aggType": "",
       "arguments": {},
       "columnCustomDisplayInfos": {},
       "data": [],
       "datasetInfos": [],
       "dbfsResultPath": null,
       "isJsonSchema": true,
       "metadata": {},
       "overflow": false,
       "plotOptions": {
        "customPlotOptions": {},
        "displayType": "table",
        "pivotAggregation": null,
        "pivotColumns": null,
        "xColumns": null,
        "yColumns": null
       },
       "removedWidgets": [],
       "schema": [
        {
         "metadata": "{}",
         "name": "ProductKey",
         "type": "\"string\""
        },
        {
         "metadata": "{}",
         "name": "OrderDateKey",
         "type": "\"string\""
        },
        {
         "metadata": "{}",
         "name": "DueDateKey",
         "type": "\"integer\""
        },
        {
         "metadata": "{}",
         "name": "ShipDateKey",
         "type": "\"integer\""
        },
        {
         "metadata": "{}",
         "name": "CustomerKey",
         "type": "\"integer\""
        },
        {
         "metadata": "{}",
         "name": "PromotionKey",
         "type": "\"integer\""
        },
        {
         "metadata": "{}",
         "name": "CurrencyKey",
         "type": "\"integer\""
        },
        {
         "metadata": "{}",
         "name": "SalesTerritoryKey",
         "type": "\"integer\""
        },
        {
         "metadata": "{}",
         "name": "SalesOrderNumber",
         "type": "\"string\""
        },
        {
         "metadata": "{}",
         "name": "SalesOrderLineNumber",
         "type": "\"integer\""
        },
        {
         "metadata": "{}",
         "name": "RevisionNumber",
         "type": "\"integer\""
        },
        {
         "metadata": "{}",
         "name": "OrderQuantity",
         "type": "\"integer\""
        },
        {
         "metadata": "{}",
         "name": "UnitPrice",
         "type": "\"string\""
        },
        {
         "metadata": "{}",
         "name": "ExtendedAmount",
         "type": "\"string\""
        },
        {
         "metadata": "{}",
         "name": "UnitPriceDiscountPct",
         "type": "\"integer\""
        },
        {
         "metadata": "{}",
         "name": "DiscountAmount",
         "type": "\"double\""
        },
        {
         "metadata": "{}",
         "name": "ProductStandardCost",
         "type": "\"string\""
        },
        {
         "metadata": "{}",
         "name": "TotalProductCost",
         "type": "\"string\""
        },
        {
         "metadata": "{}",
         "name": "SalesAmount",
         "type": "\"string\""
        },
        {
         "metadata": "{}",
         "name": "TaxAmt",
         "type": "\"string\""
        },
        {
         "metadata": "{}",
         "name": "Freight",
         "type": "\"double\""
        },
        {
         "metadata": "{}",
         "name": "CarrierTrackingNumber",
         "type": "\"string\""
        },
        {
         "metadata": "{}",
         "name": "CustomerPONumber",
         "type": "\"string\""
        },
        {
         "metadata": "{}",
         "name": "OrderDate",
         "type": "\"timestamp\""
        },
        {
         "metadata": "{}",
         "name": "DueDate",
         "type": "\"timestamp\""
        },
        {
         "metadata": "{}",
         "name": "ShipDate",
         "type": "\"timestamp\""
        }
       ],
       "type": "table"
      }
     },
     "output_type": "display_data"
    }
   ],
   "source": [
    "from pyspark.sql.functions import col\n",
    "display(fact_int_sales.filter(col('SalesAmount').isNull()))"
   ]
  },
  {
   "cell_type": "code",
   "execution_count": 0,
   "metadata": {
    "application/vnd.databricks.v1+cell": {
     "cellMetadata": {
      "byteLimit": 2048000,
      "rowLimit": 10000
     },
     "inputWidgets": {},
     "nuid": "b5a1f8c4-71ca-4ba9-91de-0e6e5004c057",
     "showTitle": false,
     "tableResultSettingsMap": {},
     "title": ""
    }
   },
   "outputs": [],
   "source": [
    "# We Exclude the rows where the Sales amount is null\n",
    "fact_int_sales = fact_int_sales.filter(~col('SalesAmount').isNull())"
   ]
  },
  {
   "cell_type": "code",
   "execution_count": 0,
   "metadata": {
    "application/vnd.databricks.v1+cell": {
     "cellMetadata": {
      "byteLimit": 2048000,
      "rowLimit": 10000
     },
     "inputWidgets": {},
     "nuid": "9b269bde-ae10-4f99-b8ed-f3c9316987ad",
     "showTitle": false,
     "tableResultSettingsMap": {},
     "title": ""
    }
   },
   "outputs": [
    {
     "output_type": "display_data",
     "data": {
      "text/html": [
       "<style scoped>\n",
       "  .table-result-container {\n",
       "    max-height: 300px;\n",
       "    overflow: auto;\n",
       "  }\n",
       "  table, th, td {\n",
       "    border: 1px solid black;\n",
       "    border-collapse: collapse;\n",
       "  }\n",
       "  th, td {\n",
       "    padding: 5px;\n",
       "  }\n",
       "  th {\n",
       "    text-align: left;\n",
       "  }\n",
       "</style><div class='table-result-container'><table class='table-result'><thead style='background-color: white'><tr><th>summary</th><th>ProductKey</th><th>OrderDateKey</th><th>DueDateKey</th><th>ShipDateKey</th><th>CustomerKey</th><th>PromotionKey</th><th>CurrencyKey</th><th>SalesTerritoryKey</th><th>SalesOrderNumber</th><th>SalesOrderLineNumber</th><th>RevisionNumber</th><th>OrderQuantity</th><th>UnitPrice</th><th>ExtendedAmount</th><th>UnitPriceDiscountPct</th><th>DiscountAmount</th><th>ProductStandardCost</th><th>TotalProductCost</th><th>SalesAmount</th><th>TaxAmt</th><th>Freight</th><th>CarrierTrackingNumber</th><th>CustomerPONumber</th></tr></thead><tbody><tr><td>count</td><td>58835</td><td>58835</td><td>58835</td><td>58835</td><td>58835</td><td>58835</td><td>58835</td><td>58835</td><td>58835</td><td>58835</td><td>58835</td><td>58835</td><td>58835</td><td>58835</td><td>58835</td><td>58835</td><td>58835</td><td>58835</td><td>58835</td><td>58835</td><td>58835</td><td>58835</td><td>58835</td></tr><tr><td>mean</td><td>440.26474037562673</td><td>2.0130174444072407E7</td><td>2.013054109830883E7</td><td>2.0130378132523157E7</td><td>18862.503169881875</td><td>1.0429506246281974</td><td>69.95502676977989</td><td>6.240809042236764</td><td>null</td><td>1.9098665760176765</td><td>1.0</td><td>1.0</td><td>372.7583104237543</td><td>372.7583104237543</td><td>0.0</td><td>0.0</td><td>159.96771529700865</td><td>159.96771529700865</td><td>373.3995207187005</td><td>70.63716587507815</td><td>104.12320907622595</td><td>null</td><td>null</td></tr><tr><td>stddev</td><td>118.35815588551966</td><td>3898.8546341686433</td><td>4197.33564309059</td><td>4026.6373309270925</td><td>5428.33439688519</td><td>0.34705683150388067</td><td>42.08295012851483</td><td>2.961039857308672</td><td>null</td><td>1.019284283354953</td><td>0.0</td><td>0.0</td><td>801.2433316548457</td><td>801.2433316548457</td><td>0.0</td><td>0.0</td><td>337.1614479809296</td><td>337.1614479809296</td><td>800.5862158809779</td><td>169.69676510307156</td><td>212.2750590770042</td><td>null</td><td>null</td></tr><tr><td>min</td><td>214</td><td>20101229</td><td>20110110</td><td>20110105</td><td>11000</td><td>1</td><td>6</td><td>1</td><td>SO43697</td><td>1</td><td>1</td><td>1</td><td>1120.49</td><td>1120.49</td><td>0</td><td>0.0</td><td>0.8565</td><td>0.8565</td><td>1120.49</td><td>0.1832</td><td>0.0573</td><td>NULL</td><td>NULL</td></tr><tr><td>max</td><td>606</td><td>20140128</td><td>20140209</td><td>20140204</td><td>29483</td><td>14</td><td>100</td><td>10</td><td>SO75123</td><td>8</td><td>1</td><td>1</td><td>9.99</td><td>9.99</td><td>0</td><td>0.0</td><td>93.463</td><td>93.463</td><td>9.99</td><td>97.188</td><td>894.568</td><td>NULL</td><td>NULL</td></tr></tbody></table></div>"
      ]
     },
     "metadata": {
      "application/vnd.databricks.v1+output": {
       "addedWidgets": {},
       "aggData": [],
       "aggError": "",
       "aggOverflow": false,
       "aggSchema": [],
       "aggSeriesLimitReached": false,
       "aggType": "",
       "arguments": {},
       "columnCustomDisplayInfos": {},
       "data": [
        [
         "count",
         "58835",
         "58835",
         "58835",
         "58835",
         "58835",
         "58835",
         "58835",
         "58835",
         "58835",
         "58835",
         "58835",
         "58835",
         "58835",
         "58835",
         "58835",
         "58835",
         "58835",
         "58835",
         "58835",
         "58835",
         "58835",
         "58835",
         "58835"
        ],
        [
         "mean",
         "440.26474037562673",
         "2.0130174444072407E7",
         "2.013054109830883E7",
         "2.0130378132523157E7",
         "18862.503169881875",
         "1.0429506246281974",
         "69.95502676977989",
         "6.240809042236764",
         null,
         "1.9098665760176765",
         "1.0",
         "1.0",
         "372.7583104237543",
         "372.7583104237543",
         "0.0",
         "0.0",
         "159.96771529700865",
         "159.96771529700865",
         "373.3995207187005",
         "70.63716587507815",
         "104.12320907622595",
         null,
         null
        ],
        [
         "stddev",
         "118.35815588551966",
         "3898.8546341686433",
         "4197.33564309059",
         "4026.6373309270925",
         "5428.33439688519",
         "0.34705683150388067",
         "42.08295012851483",
         "2.961039857308672",
         null,
         "1.019284283354953",
         "0.0",
         "0.0",
         "801.2433316548457",
         "801.2433316548457",
         "0.0",
         "0.0",
         "337.1614479809296",
         "337.1614479809296",
         "800.5862158809779",
         "169.69676510307156",
         "212.2750590770042",
         null,
         null
        ],
        [
         "min",
         "214",
         "20101229",
         "20110110",
         "20110105",
         "11000",
         "1",
         "6",
         "1",
         "SO43697",
         "1",
         "1",
         "1",
         "1120.49",
         "1120.49",
         "0",
         "0.0",
         "0.8565",
         "0.8565",
         "1120.49",
         "0.1832",
         "0.0573",
         "NULL",
         "NULL"
        ],
        [
         "max",
         "606",
         "20140128",
         "20140209",
         "20140204",
         "29483",
         "14",
         "100",
         "10",
         "SO75123",
         "8",
         "1",
         "1",
         "9.99",
         "9.99",
         "0",
         "0.0",
         "93.463",
         "93.463",
         "9.99",
         "97.188",
         "894.568",
         "NULL",
         "NULL"
        ]
       ],
       "datasetInfos": [],
       "dbfsResultPath": null,
       "isJsonSchema": true,
       "metadata": {},
       "overflow": false,
       "plotOptions": {
        "customPlotOptions": {},
        "displayType": "table",
        "pivotAggregation": null,
        "pivotColumns": null,
        "xColumns": null,
        "yColumns": null
       },
       "removedWidgets": [],
       "schema": [
        {
         "metadata": "{}",
         "name": "summary",
         "type": "\"string\""
        },
        {
         "metadata": "{}",
         "name": "ProductKey",
         "type": "\"string\""
        },
        {
         "metadata": "{}",
         "name": "OrderDateKey",
         "type": "\"string\""
        },
        {
         "metadata": "{}",
         "name": "DueDateKey",
         "type": "\"string\""
        },
        {
         "metadata": "{}",
         "name": "ShipDateKey",
         "type": "\"string\""
        },
        {
         "metadata": "{}",
         "name": "CustomerKey",
         "type": "\"string\""
        },
        {
         "metadata": "{}",
         "name": "PromotionKey",
         "type": "\"string\""
        },
        {
         "metadata": "{}",
         "name": "CurrencyKey",
         "type": "\"string\""
        },
        {
         "metadata": "{}",
         "name": "SalesTerritoryKey",
         "type": "\"string\""
        },
        {
         "metadata": "{}",
         "name": "SalesOrderNumber",
         "type": "\"string\""
        },
        {
         "metadata": "{}",
         "name": "SalesOrderLineNumber",
         "type": "\"string\""
        },
        {
         "metadata": "{}",
         "name": "RevisionNumber",
         "type": "\"string\""
        },
        {
         "metadata": "{}",
         "name": "OrderQuantity",
         "type": "\"string\""
        },
        {
         "metadata": "{}",
         "name": "UnitPrice",
         "type": "\"string\""
        },
        {
         "metadata": "{}",
         "name": "ExtendedAmount",
         "type": "\"string\""
        },
        {
         "metadata": "{}",
         "name": "UnitPriceDiscountPct",
         "type": "\"string\""
        },
        {
         "metadata": "{}",
         "name": "DiscountAmount",
         "type": "\"string\""
        },
        {
         "metadata": "{}",
         "name": "ProductStandardCost",
         "type": "\"string\""
        },
        {
         "metadata": "{}",
         "name": "TotalProductCost",
         "type": "\"string\""
        },
        {
         "metadata": "{}",
         "name": "SalesAmount",
         "type": "\"string\""
        },
        {
         "metadata": "{}",
         "name": "TaxAmt",
         "type": "\"string\""
        },
        {
         "metadata": "{}",
         "name": "Freight",
         "type": "\"string\""
        },
        {
         "metadata": "{}",
         "name": "CarrierTrackingNumber",
         "type": "\"string\""
        },
        {
         "metadata": "{}",
         "name": "CustomerPONumber",
         "type": "\"string\""
        }
       ],
       "type": "table"
      }
     },
     "output_type": "display_data"
    }
   ],
   "source": [
    "display(fact_int_sales.describe().toPandas())"
   ]
  },
  {
   "cell_type": "code",
   "execution_count": 0,
   "metadata": {
    "application/vnd.databricks.v1+cell": {
     "cellMetadata": {
      "byteLimit": 2048000,
      "rowLimit": 10000
     },
     "inputWidgets": {},
     "nuid": "e0725d46-5620-4ef3-bbf3-3ea823b89a2d",
     "showTitle": false,
     "tableResultSettingsMap": {},
     "title": ""
    }
   },
   "outputs": [],
   "source": [
    "# DiscountAmount & UnitPriceDiscountPct columns have zeros only so we drop them\n",
    "# OrderQuantity & RevisionNumber only have the value 1 so we drop them since it will not be beneficial in analysis \n",
    "# CustomerPONumber & CarrierTrackingNumber have Nulls only so we drop them \n",
    "columns_drop = [\"DiscountAmount\", \"UnitPriceDiscountPct\", \"OrderQuantity\", \"RevisionNumber\", \"CustomerPONumber\", \"CarrierTrackingNumber\"]\n",
    "fact_int_sales = fact_int_sales.drop(*columns_drop)\n"
   ]
  },
  {
   "cell_type": "code",
   "execution_count": 0,
   "metadata": {
    "application/vnd.databricks.v1+cell": {
     "cellMetadata": {
      "byteLimit": 2048000,
      "rowLimit": 10000
     },
     "inputWidgets": {},
     "nuid": "130a6d71-f8a5-457f-8580-22f88763fc56",
     "showTitle": false,
     "tableResultSettingsMap": {},
     "title": ""
    }
   },
   "outputs": [],
   "source": [
    "# Convert the numeric column to float instead of string \n",
    "# ShipDate, DueDate and OrderDate Columns are of type timestamp, we have to convert them to date\n",
    "from pyspark.sql.functions import  regexp_replace\n",
    "fact_int_sales = (fact_int_sales\n",
    "       .withColumn(\"ProductKey\", col(\"ProductKey\").cast(\"int\"))\n",
    "      .withColumn(\"ExtendedAmount\",col(\"ExtendedAmount\").cast(\"float\"))\n",
    "      .withColumn(\"UnitPrice\", col(\"UnitPrice\").cast(\"float\"))\n",
    "      .withColumn(\"TotalProductCost\",col(\"TotalProductCost\").cast(\"float\"))\n",
    "      .withColumn(\"TaxAmt\", col(\"TaxAmt\").cast(\"float\"))\n",
    "      .withColumn(\"Freight\", col(\"Freight\").cast(\"float\"))\n",
    "      .withColumn(\"SalesAmount\", col(\"SalesAmount\").cast(\"float\"))\n",
    "      .withColumn(\"ProductStandardCost\",col(\"ProductStandardCost\").cast(\"float\"))\n",
    "      .withColumn(\"ShipDate\", col(\"ShipDate\").cast(\"date\"))\n",
    "      .withColumn(\"DueDate\", col(\"DueDate\").cast(\"date\"))\n",
    "      .withColumn(\"OrderDate\", col(\"OrderDate\").cast(\"date\"))\n",
    "      )"
   ]
  },
  {
   "cell_type": "code",
   "execution_count": 0,
   "metadata": {
    "application/vnd.databricks.v1+cell": {
     "cellMetadata": {
      "byteLimit": 2048000,
      "rowLimit": 10000
     },
     "inputWidgets": {},
     "nuid": "1116a570-82df-4893-960b-8774e80ade0c",
     "showTitle": false,
     "tableResultSettingsMap": {},
     "title": ""
    }
   },
   "outputs": [
    {
     "output_type": "stream",
     "name": "stdout",
     "output_type": "stream",
     "text": [
      "root\n |-- ProductKey: integer (nullable = true)\n |-- OrderDateKey: string (nullable = true)\n |-- DueDateKey: integer (nullable = true)\n |-- ShipDateKey: integer (nullable = true)\n |-- CustomerKey: integer (nullable = true)\n |-- PromotionKey: integer (nullable = true)\n |-- CurrencyKey: integer (nullable = true)\n |-- SalesTerritoryKey: integer (nullable = true)\n |-- SalesOrderNumber: string (nullable = true)\n |-- SalesOrderLineNumber: integer (nullable = true)\n |-- UnitPrice: float (nullable = true)\n |-- ExtendedAmount: float (nullable = true)\n |-- ProductStandardCost: float (nullable = true)\n |-- TotalProductCost: float (nullable = true)\n |-- SalesAmount: float (nullable = true)\n |-- TaxAmt: float (nullable = true)\n |-- Freight: float (nullable = true)\n |-- OrderDate: date (nullable = true)\n |-- DueDate: date (nullable = true)\n |-- ShipDate: date (nullable = true)\n\n"
     ]
    }
   ],
   "source": [
    "# Checking the scehma  \n",
    "fact_int_sales.printSchema() "
   ]
  },
  {
   "cell_type": "markdown",
   "metadata": {
    "application/vnd.databricks.v1+cell": {
     "cellMetadata": {},
     "inputWidgets": {},
     "nuid": "08d958eb-7a45-4c90-bae2-89ae31dac84d",
     "showTitle": false,
     "tableResultSettingsMap": {},
     "title": ""
    }
   },
   "source": [
    "# Dim Product Table"
   ]
  },
  {
   "cell_type": "code",
   "execution_count": 0,
   "metadata": {
    "application/vnd.databricks.v1+cell": {
     "cellMetadata": {
      "byteLimit": 2048000,
      "rowLimit": 10000
     },
     "inputWidgets": {},
     "nuid": "e9c23c59-6aff-429f-b56e-8901fb653914",
     "showTitle": false,
     "tableResultSettingsMap": {},
     "title": ""
    }
   },
   "outputs": [
    {
     "output_type": "display_data",
     "data": {
      "text/html": [
       "<style scoped>\n",
       "  .table-result-container {\n",
       "    max-height: 300px;\n",
       "    overflow: auto;\n",
       "  }\n",
       "  table, th, td {\n",
       "    border: 1px solid black;\n",
       "    border-collapse: collapse;\n",
       "  }\n",
       "  th, td {\n",
       "    padding: 5px;\n",
       "  }\n",
       "  th {\n",
       "    text-align: left;\n",
       "  }\n",
       "</style><div class='table-result-container'><table class='table-result'><thead style='background-color: white'><tr><th>ProductKey</th><th>ProductAlternateKey</th><th>ProductSubcategoryKey</th><th>WeightUnitMeasureCode</th><th>SizeUnitMeasureCode</th><th>EnglishProductName</th><th>SpanishProductName</th><th>FrenchProductName</th><th>StandardCost</th><th>FinishedGoodsFlag</th><th>Color</th><th>SafetyStockLevel</th><th>ReorderPoint</th><th>ListPrice</th><th>Size</th><th>SizeRange</th><th>Weight</th><th>DaysToManufacture</th><th>ProductLine</th><th>DealerPrice</th><th>Class</th><th>Style</th><th>ModelName</th><th>EnglishDescription</th><th>FrenchDescription</th><th>ChineseDescription</th><th>ArabicDescription</th><th>HebrewDescription</th><th>ThaiDescription</th><th>GermanDescription</th><th>JapaneseDescription</th><th>TurkishDescription</th><th>StartDate</th><th>EndDate</th><th>Status</th></tr></thead><tbody><tr><td>1</td><td>AR-5381</td><td>NULL</td><td>NULL</td><td>NULL</td><td>Adjustable Race</td><td>null</td><td>null</td><td>NULL</td><td>0</td><td>NA</td><td>1000</td><td>750</td><td>NULL</td><td>NULL</td><td>NA</td><td>NULL</td><td>0</td><td>NULL</td><td>NULL</td><td>NULL</td><td>NULL</td><td>NULL</td><td>NULL</td><td>NULL</td><td>NULL</td><td>NULL</td><td>NULL</td><td>NULL</td><td>NULL</td><td>NULL</td><td>NULL</td><td>2003-07-01T00:00:00.000+0000</td><td>NULL</td><td>Current</td></tr><tr><td>2</td><td>BA-8327</td><td>NULL</td><td>NULL</td><td>NULL</td><td>Bearing Ball</td><td>null</td><td>null</td><td>NULL</td><td>0</td><td>NA</td><td>1000</td><td>750</td><td>NULL</td><td>NULL</td><td>NA</td><td>NULL</td><td>0</td><td>NULL</td><td>NULL</td><td>NULL</td><td>NULL</td><td>NULL</td><td>NULL</td><td>NULL</td><td>NULL</td><td>NULL</td><td>NULL</td><td>NULL</td><td>NULL</td><td>NULL</td><td>NULL</td><td>2003-07-01T00:00:00.000+0000</td><td>NULL</td><td>Current</td></tr><tr><td>3</td><td>BE-2349</td><td>NULL</td><td>NULL</td><td>NULL</td><td>BB Ball Bearing</td><td>null</td><td>null</td><td>NULL</td><td>0</td><td>NA</td><td>800</td><td>600</td><td>NULL</td><td>NULL</td><td>NA</td><td>NULL</td><td>1</td><td>NULL</td><td>NULL</td><td>NULL</td><td>NULL</td><td>NULL</td><td>NULL</td><td>NULL</td><td>NULL</td><td>NULL</td><td>NULL</td><td>NULL</td><td>NULL</td><td>NULL</td><td>NULL</td><td>2003-07-01T00:00:00.000+0000</td><td>NULL</td><td>Current</td></tr><tr><td>4</td><td>BE-2908</td><td>NULL</td><td>NULL</td><td>NULL</td><td>Headset Ball Bearings</td><td>null</td><td>null</td><td>NULL</td><td>0</td><td>NA</td><td>800</td><td>600</td><td>NULL</td><td>NULL</td><td>NA</td><td>NULL</td><td>0</td><td>NULL</td><td>NULL</td><td>NULL</td><td>NULL</td><td>NULL</td><td>NULL</td><td>NULL</td><td>NULL</td><td>NULL</td><td>NULL</td><td>NULL</td><td>NULL</td><td>NULL</td><td>NULL</td><td>2003-07-01T00:00:00.000+0000</td><td>NULL</td><td>Current</td></tr><tr><td>5</td><td>BL-2036</td><td>NULL</td><td>NULL</td><td>NULL</td><td>Blade</td><td>null</td><td>null</td><td>NULL</td><td>0</td><td>NA</td><td>800</td><td>600</td><td>NULL</td><td>NULL</td><td>NA</td><td>NULL</td><td>1</td><td>NULL</td><td>NULL</td><td>NULL</td><td>NULL</td><td>NULL</td><td>NULL</td><td>NULL</td><td>NULL</td><td>NULL</td><td>NULL</td><td>NULL</td><td>NULL</td><td>NULL</td><td>NULL</td><td>2003-07-01T00:00:00.000+0000</td><td>NULL</td><td>Current</td></tr><tr><td>6</td><td>CA-5965</td><td>NULL</td><td>NULL</td><td>NULL</td><td>LL Crankarm</td><td>null</td><td>null</td><td>NULL</td><td>0</td><td>Black</td><td>500</td><td>375</td><td>NULL</td><td>NULL</td><td>NA</td><td>NULL</td><td>0</td><td>NULL</td><td>NULL</td><td>L </td><td>NULL</td><td>NULL</td><td>NULL</td><td>NULL</td><td>NULL</td><td>NULL</td><td>NULL</td><td>NULL</td><td>NULL</td><td>NULL</td><td>NULL</td><td>2003-07-01T00:00:00.000+0000</td><td>NULL</td><td>Current</td></tr><tr><td>7</td><td>CA-6738</td><td>NULL</td><td>NULL</td><td>NULL</td><td>ML Crankarm</td><td>null</td><td>null</td><td>NULL</td><td>0</td><td>Black</td><td>500</td><td>375</td><td>NULL</td><td>NULL</td><td>NA</td><td>NULL</td><td>0</td><td>NULL</td><td>NULL</td><td>M </td><td>NULL</td><td>NULL</td><td>NULL</td><td>NULL</td><td>NULL</td><td>NULL</td><td>NULL</td><td>NULL</td><td>NULL</td><td>NULL</td><td>NULL</td><td>2003-07-01T00:00:00.000+0000</td><td>NULL</td><td>Current</td></tr><tr><td>8</td><td>CA-7457</td><td>NULL</td><td>NULL</td><td>NULL</td><td>HL Crankarm</td><td>null</td><td>null</td><td>NULL</td><td>0</td><td>Black</td><td>500</td><td>375</td><td>NULL</td><td>NULL</td><td>NA</td><td>NULL</td><td>0</td><td>NULL</td><td>NULL</td><td>NULL</td><td>NULL</td><td>NULL</td><td>NULL</td><td>NULL</td><td>NULL</td><td>NULL</td><td>NULL</td><td>NULL</td><td>NULL</td><td>NULL</td><td>NULL</td><td>2003-07-01T00:00:00.000+0000</td><td>NULL</td><td>Current</td></tr><tr><td>9</td><td>CB-2903</td><td>NULL</td><td>NULL</td><td>NULL</td><td>Chainring Bolts</td><td>null</td><td>null</td><td>NULL</td><td>0</td><td>Silver</td><td>1000</td><td>750</td><td>NULL</td><td>NULL</td><td>NA</td><td>NULL</td><td>0</td><td>NULL</td><td>NULL</td><td>NULL</td><td>NULL</td><td>NULL</td><td>NULL</td><td>NULL</td><td>NULL</td><td>NULL</td><td>NULL</td><td>NULL</td><td>NULL</td><td>NULL</td><td>NULL</td><td>2003-07-01T00:00:00.000+0000</td><td>NULL</td><td>Current</td></tr><tr><td>10</td><td>CN-6137</td><td>NULL</td><td>NULL</td><td>NULL</td><td>Chainring Nut</td><td>null</td><td>null</td><td>NULL</td><td>0</td><td>Silver</td><td>1000</td><td>750</td><td>NULL</td><td>NULL</td><td>NA</td><td>NULL</td><td>0</td><td>NULL</td><td>NULL</td><td>NULL</td><td>NULL</td><td>NULL</td><td>NULL</td><td>NULL</td><td>NULL</td><td>NULL</td><td>NULL</td><td>NULL</td><td>NULL</td><td>NULL</td><td>NULL</td><td>2003-07-01T00:00:00.000+0000</td><td>NULL</td><td>Current</td></tr></tbody></table></div>"
      ]
     },
     "metadata": {
      "application/vnd.databricks.v1+output": {
       "addedWidgets": {},
       "aggData": [],
       "aggError": "",
       "aggOverflow": false,
       "aggSchema": [],
       "aggSeriesLimitReached": false,
       "aggType": "",
       "arguments": {},
       "columnCustomDisplayInfos": {},
       "data": [
        [
         1,
         "AR-5381",
         "NULL",
         "NULL",
         "NULL",
         "Adjustable Race",
         null,
         null,
         "NULL",
         0,
         "NA",
         1000,
         750,
         "NULL",
         "NULL",
         "NA",
         "NULL",
         0,
         "NULL",
         "NULL",
         "NULL",
         "NULL",
         "NULL",
         "NULL",
         "NULL",
         "NULL",
         "NULL",
         "NULL",
         "NULL",
         "NULL",
         "NULL",
         "NULL",
         "2003-07-01T00:00:00.000+0000",
         "NULL",
         "Current"
        ],
        [
         2,
         "BA-8327",
         "NULL",
         "NULL",
         "NULL",
         "Bearing Ball",
         null,
         null,
         "NULL",
         0,
         "NA",
         1000,
         750,
         "NULL",
         "NULL",
         "NA",
         "NULL",
         0,
         "NULL",
         "NULL",
         "NULL",
         "NULL",
         "NULL",
         "NULL",
         "NULL",
         "NULL",
         "NULL",
         "NULL",
         "NULL",
         "NULL",
         "NULL",
         "NULL",
         "2003-07-01T00:00:00.000+0000",
         "NULL",
         "Current"
        ],
        [
         3,
         "BE-2349",
         "NULL",
         "NULL",
         "NULL",
         "BB Ball Bearing",
         null,
         null,
         "NULL",
         0,
         "NA",
         800,
         600,
         "NULL",
         "NULL",
         "NA",
         "NULL",
         1,
         "NULL",
         "NULL",
         "NULL",
         "NULL",
         "NULL",
         "NULL",
         "NULL",
         "NULL",
         "NULL",
         "NULL",
         "NULL",
         "NULL",
         "NULL",
         "NULL",
         "2003-07-01T00:00:00.000+0000",
         "NULL",
         "Current"
        ],
        [
         4,
         "BE-2908",
         "NULL",
         "NULL",
         "NULL",
         "Headset Ball Bearings",
         null,
         null,
         "NULL",
         0,
         "NA",
         800,
         600,
         "NULL",
         "NULL",
         "NA",
         "NULL",
         0,
         "NULL",
         "NULL",
         "NULL",
         "NULL",
         "NULL",
         "NULL",
         "NULL",
         "NULL",
         "NULL",
         "NULL",
         "NULL",
         "NULL",
         "NULL",
         "NULL",
         "2003-07-01T00:00:00.000+0000",
         "NULL",
         "Current"
        ],
        [
         5,
         "BL-2036",
         "NULL",
         "NULL",
         "NULL",
         "Blade",
         null,
         null,
         "NULL",
         0,
         "NA",
         800,
         600,
         "NULL",
         "NULL",
         "NA",
         "NULL",
         1,
         "NULL",
         "NULL",
         "NULL",
         "NULL",
         "NULL",
         "NULL",
         "NULL",
         "NULL",
         "NULL",
         "NULL",
         "NULL",
         "NULL",
         "NULL",
         "NULL",
         "2003-07-01T00:00:00.000+0000",
         "NULL",
         "Current"
        ],
        [
         6,
         "CA-5965",
         "NULL",
         "NULL",
         "NULL",
         "LL Crankarm",
         null,
         null,
         "NULL",
         0,
         "Black",
         500,
         375,
         "NULL",
         "NULL",
         "NA",
         "NULL",
         0,
         "NULL",
         "NULL",
         "L ",
         "NULL",
         "NULL",
         "NULL",
         "NULL",
         "NULL",
         "NULL",
         "NULL",
         "NULL",
         "NULL",
         "NULL",
         "NULL",
         "2003-07-01T00:00:00.000+0000",
         "NULL",
         "Current"
        ],
        [
         7,
         "CA-6738",
         "NULL",
         "NULL",
         "NULL",
         "ML Crankarm",
         null,
         null,
         "NULL",
         0,
         "Black",
         500,
         375,
         "NULL",
         "NULL",
         "NA",
         "NULL",
         0,
         "NULL",
         "NULL",
         "M ",
         "NULL",
         "NULL",
         "NULL",
         "NULL",
         "NULL",
         "NULL",
         "NULL",
         "NULL",
         "NULL",
         "NULL",
         "NULL",
         "2003-07-01T00:00:00.000+0000",
         "NULL",
         "Current"
        ],
        [
         8,
         "CA-7457",
         "NULL",
         "NULL",
         "NULL",
         "HL Crankarm",
         null,
         null,
         "NULL",
         0,
         "Black",
         500,
         375,
         "NULL",
         "NULL",
         "NA",
         "NULL",
         0,
         "NULL",
         "NULL",
         "NULL",
         "NULL",
         "NULL",
         "NULL",
         "NULL",
         "NULL",
         "NULL",
         "NULL",
         "NULL",
         "NULL",
         "NULL",
         "NULL",
         "2003-07-01T00:00:00.000+0000",
         "NULL",
         "Current"
        ],
        [
         9,
         "CB-2903",
         "NULL",
         "NULL",
         "NULL",
         "Chainring Bolts",
         null,
         null,
         "NULL",
         0,
         "Silver",
         1000,
         750,
         "NULL",
         "NULL",
         "NA",
         "NULL",
         0,
         "NULL",
         "NULL",
         "NULL",
         "NULL",
         "NULL",
         "NULL",
         "NULL",
         "NULL",
         "NULL",
         "NULL",
         "NULL",
         "NULL",
         "NULL",
         "NULL",
         "2003-07-01T00:00:00.000+0000",
         "NULL",
         "Current"
        ],
        [
         10,
         "CN-6137",
         "NULL",
         "NULL",
         "NULL",
         "Chainring Nut",
         null,
         null,
         "NULL",
         0,
         "Silver",
         1000,
         750,
         "NULL",
         "NULL",
         "NA",
         "NULL",
         0,
         "NULL",
         "NULL",
         "NULL",
         "NULL",
         "NULL",
         "NULL",
         "NULL",
         "NULL",
         "NULL",
         "NULL",
         "NULL",
         "NULL",
         "NULL",
         "NULL",
         "2003-07-01T00:00:00.000+0000",
         "NULL",
         "Current"
        ]
       ],
       "datasetInfos": [],
       "dbfsResultPath": null,
       "isJsonSchema": true,
       "metadata": {},
       "overflow": false,
       "plotOptions": {
        "customPlotOptions": {},
        "displayType": "table",
        "pivotAggregation": null,
        "pivotColumns": null,
        "xColumns": null,
        "yColumns": null
       },
       "removedWidgets": [],
       "schema": [
        {
         "metadata": "{}",
         "name": "ProductKey",
         "type": "\"integer\""
        },
        {
         "metadata": "{}",
         "name": "ProductAlternateKey",
         "type": "\"string\""
        },
        {
         "metadata": "{}",
         "name": "ProductSubcategoryKey",
         "type": "\"string\""
        },
        {
         "metadata": "{}",
         "name": "WeightUnitMeasureCode",
         "type": "\"string\""
        },
        {
         "metadata": "{}",
         "name": "SizeUnitMeasureCode",
         "type": "\"string\""
        },
        {
         "metadata": "{}",
         "name": "EnglishProductName",
         "type": "\"string\""
        },
        {
         "metadata": "{}",
         "name": "SpanishProductName",
         "type": "\"string\""
        },
        {
         "metadata": "{}",
         "name": "FrenchProductName",
         "type": "\"string\""
        },
        {
         "metadata": "{}",
         "name": "StandardCost",
         "type": "\"string\""
        },
        {
         "metadata": "{}",
         "name": "FinishedGoodsFlag",
         "type": "\"integer\""
        },
        {
         "metadata": "{}",
         "name": "Color",
         "type": "\"string\""
        },
        {
         "metadata": "{}",
         "name": "SafetyStockLevel",
         "type": "\"integer\""
        },
        {
         "metadata": "{}",
         "name": "ReorderPoint",
         "type": "\"integer\""
        },
        {
         "metadata": "{}",
         "name": "ListPrice",
         "type": "\"string\""
        },
        {
         "metadata": "{}",
         "name": "Size",
         "type": "\"string\""
        },
        {
         "metadata": "{}",
         "name": "SizeRange",
         "type": "\"string\""
        },
        {
         "metadata": "{}",
         "name": "Weight",
         "type": "\"string\""
        },
        {
         "metadata": "{}",
         "name": "DaysToManufacture",
         "type": "\"integer\""
        },
        {
         "metadata": "{}",
         "name": "ProductLine",
         "type": "\"string\""
        },
        {
         "metadata": "{}",
         "name": "DealerPrice",
         "type": "\"string\""
        },
        {
         "metadata": "{}",
         "name": "Class",
         "type": "\"string\""
        },
        {
         "metadata": "{}",
         "name": "Style",
         "type": "\"string\""
        },
        {
         "metadata": "{}",
         "name": "ModelName",
         "type": "\"string\""
        },
        {
         "metadata": "{}",
         "name": "EnglishDescription",
         "type": "\"string\""
        },
        {
         "metadata": "{}",
         "name": "FrenchDescription",
         "type": "\"string\""
        },
        {
         "metadata": "{}",
         "name": "ChineseDescription",
         "type": "\"string\""
        },
        {
         "metadata": "{}",
         "name": "ArabicDescription",
         "type": "\"string\""
        },
        {
         "metadata": "{}",
         "name": "HebrewDescription",
         "type": "\"string\""
        },
        {
         "metadata": "{}",
         "name": "ThaiDescription",
         "type": "\"string\""
        },
        {
         "metadata": "{}",
         "name": "GermanDescription",
         "type": "\"string\""
        },
        {
         "metadata": "{}",
         "name": "JapaneseDescription",
         "type": "\"string\""
        },
        {
         "metadata": "{}",
         "name": "TurkishDescription",
         "type": "\"string\""
        },
        {
         "metadata": "{}",
         "name": "StartDate",
         "type": "\"timestamp\""
        },
        {
         "metadata": "{}",
         "name": "EndDate",
         "type": "\"string\""
        },
        {
         "metadata": "{}",
         "name": "Status",
         "type": "\"string\""
        }
       ],
       "type": "table"
      }
     },
     "output_type": "display_data"
    }
   ],
   "source": [
    "display(dim_product.limit(10))"
   ]
  },
  {
   "cell_type": "code",
   "execution_count": 0,
   "metadata": {
    "application/vnd.databricks.v1+cell": {
     "cellMetadata": {
      "byteLimit": 2048000,
      "rowLimit": 10000
     },
     "inputWidgets": {},
     "nuid": "da86a305-1593-46f4-bbe0-d7d59dee6167",
     "showTitle": false,
     "tableResultSettingsMap": {},
     "title": ""
    }
   },
   "outputs": [
    {
     "output_type": "display_data",
     "data": {
      "text/html": [
       "<style scoped>\n",
       "  .table-result-container {\n",
       "    max-height: 300px;\n",
       "    overflow: auto;\n",
       "  }\n",
       "  table, th, td {\n",
       "    border: 1px solid black;\n",
       "    border-collapse: collapse;\n",
       "  }\n",
       "  th, td {\n",
       "    padding: 5px;\n",
       "  }\n",
       "  th {\n",
       "    text-align: left;\n",
       "  }\n",
       "</style><div class='table-result-container'><table class='table-result'><thead style='background-color: white'><tr><th>summary</th><th>ProductKey</th><th>ProductAlternateKey</th><th>ProductSubcategoryKey</th><th>WeightUnitMeasureCode</th><th>SizeUnitMeasureCode</th><th>EnglishProductName</th><th>SpanishProductName</th><th>FrenchProductName</th><th>StandardCost</th><th>FinishedGoodsFlag</th><th>Color</th><th>SafetyStockLevel</th><th>ReorderPoint</th><th>ListPrice</th><th>Size</th><th>SizeRange</th><th>Weight</th><th>DaysToManufacture</th><th>ProductLine</th><th>DealerPrice</th><th>Class</th><th>Style</th><th>ModelName</th><th>EnglishDescription</th><th>FrenchDescription</th><th>ChineseDescription</th><th>ArabicDescription</th><th>HebrewDescription</th><th>ThaiDescription</th><th>GermanDescription</th><th>JapaneseDescription</th><th>TurkishDescription</th><th>EndDate</th><th>Status</th></tr></thead><tbody><tr><td>count</td><td>606</td><td>606</td><td>606</td><td>606</td><td>606</td><td>606</td><td>319</td><td>319</td><td>606</td><td>606</td><td>606</td><td>606</td><td>606</td><td>606</td><td>606</td><td>606</td><td>606</td><td>606</td><td>606</td><td>606</td><td>606</td><td>606</td><td>606</td><td>606</td><td>606</td><td>606</td><td>606</td><td>606</td><td>606</td><td>606</td><td>606</td><td>606</td><td>606</td><td>606</td></tr><tr><td>mean</td><td>303.5</td><td>null</td><td>12.128463476070529</td><td>null</td><td>null</td><td>null</td><td>null</td><td>null</td><td>770.6296500000001</td><td>0.6551155115511551</td><td>null</td><td>495.2013201320132</td><td>371.4009900990099</td><td>713.5176867088601</td><td>49.05511811023622</td><td>70.0</td><td>56.193226950354635</td><td>1.2013201320132014</td><td>null</td><td>1430318.023088605</td><td>null</td><td>null</td><td>null</td><td>null</td><td>null</td><td>null</td><td>null</td><td>null</td><td>null</td><td>null</td><td>null</td><td>null</td><td>null</td><td>null</td></tr><tr><td>stddev</td><td>175.08140963563207</td><td>null</td><td>9.423328075954464</td><td>null</td><td>null</td><td>null</td><td>null</td><td>null</td><td>518.4640339182464</td><td>0.47572327172751</td><td>null</td><td>364.00711426828434</td><td>273.0053357012136</td><td>866.4272704789952</td><td>7.389028386725068</td><td>null</td><td>158.00065246682107</td><td>1.5088931655188196</td><td>null</td><td>2783637.4650102835</td><td>null</td><td>null</td><td>null</td><td>null</td><td>null</td><td>null</td><td>null</td><td>null</td><td>null</td><td>null</td><td>null</td><td>null</td><td>null</td><td>null</td></tr><tr><td>min</td><td>1</td><td>AR-5381</td><td>1</td><td>G  </td><td>CM </td><td>AWC Logo Cap</td><td>Bielas GA</td><td>Antivol câble</td><td>0.8565</td><td>0</td><td>Black</td><td>4</td><td>3</td><td>1.093.364</td><td>38</td><td>38-40 CM</td><td>1000</td><td>0</td><td>M </td><td>1020594</td><td>H </td><td>M </td><td>All-Purpose Bike Stand</td><td>\"Carries 4 bikes securely; steel construction, fits 2\"\" receiver hitch.\"</td><td>Acier chromé.</td><td>HL 铝制车架经过特别打造，不仅外形悦目而且坚固耐用；不论何时何地，日常骑乘，轻松掌控。男用自行车。</td><td>NULL</td><td>\"אופני מבוגרים למתחילים; מציעים רכיבה נוחה \"\"מחוף לחוף\"\" או לאורך הרחוב. טבורים וחישורים לשחרור מהיר.\"</td><td>NULL</td><td>Aerodynamische Felgen für ein geschmeidiges Fahrerlebnis.</td><td>1 日中乗っても快適なアナトミック デザインで、耐久性のある皮製。</td><td>\"Yüksek kaliteli 1\"\" furş takımı, hızlı yağlama için yağ kapaklı.\"</td><td>2007-12-28 00:00:00.000</td><td>Current</td></tr><tr><td>max</td><td>606</td><td>WB-H098</td><td>NULL</td><td>NULL</td><td>NULL</td><td>Women's Tights, S</td><td>Soporte multiusos para bicicletas</td><td>Vélo de route 750 noir, 58</td><td>NULL</td><td>1</td><td>Yellow</td><td>1000</td><td>750</td><td>NULL</td><td>weight</td><td>XL</td><td>NULL</td><td>4</td><td>T </td><td>NULL</td><td>NULL</td><td>W </td><td>Women's Tights</td><td>Wraps to fit front and rear tires, carrier and 2 keys included.</td><td>Équipé de la même technologie que tous nos vélos de route, avec un cadre femmes. Idéal pour la promenade ou la course sur route.</td><td>高质量的一英寸无螺纹车头碗组具有油口，可确保快速润滑。</td><td>يوفر هيكل الألومنيوم سميك الأطراف خفيف الوزن وضع قيادة أكثر انتصابًا أثناء القيام برحلات في أرجاء البلدة. يوفر تصميمنا الابتكاري أعلى درجات الراحة.</td><td>תאורה במחיר סביר לרכיבה לילית בטוחה – פועלת באמצעות סוללת AAA</td><td>ไฟหน้าแบบทนทาน กันน้ำ</td><td>Wiederaufladbares Vorderlicht mit zwei Strahlen.</td><td>高速走行用のステンレス製スポークを備えたアルミニウム合金リム。</td><td>Şoku emen ve daha hassas yönlendirilebilen güçlü tasarım.</td><td>NULL</td><td>NULL</td></tr></tbody></table></div>"
      ]
     },
     "metadata": {
      "application/vnd.databricks.v1+output": {
       "addedWidgets": {},
       "aggData": [],
       "aggError": "",
       "aggOverflow": false,
       "aggSchema": [],
       "aggSeriesLimitReached": false,
       "aggType": "",
       "arguments": {},
       "columnCustomDisplayInfos": {},
       "data": [
        [
         "count",
         "606",
         "606",
         "606",
         "606",
         "606",
         "606",
         "319",
         "319",
         "606",
         "606",
         "606",
         "606",
         "606",
         "606",
         "606",
         "606",
         "606",
         "606",
         "606",
         "606",
         "606",
         "606",
         "606",
         "606",
         "606",
         "606",
         "606",
         "606",
         "606",
         "606",
         "606",
         "606",
         "606",
         "606"
        ],
        [
         "mean",
         "303.5",
         null,
         "12.128463476070529",
         null,
         null,
         null,
         null,
         null,
         "770.6296500000001",
         "0.6551155115511551",
         null,
         "495.2013201320132",
         "371.4009900990099",
         "713.5176867088601",
         "49.05511811023622",
         "70.0",
         "56.193226950354635",
         "1.2013201320132014",
         null,
         "1430318.023088605",
         null,
         null,
         null,
         null,
         null,
         null,
         null,
         null,
         null,
         null,
         null,
         null,
         null,
         null
        ],
        [
         "stddev",
         "175.08140963563207",
         null,
         "9.423328075954464",
         null,
         null,
         null,
         null,
         null,
         "518.4640339182464",
         "0.47572327172751",
         null,
         "364.00711426828434",
         "273.0053357012136",
         "866.4272704789952",
         "7.389028386725068",
         null,
         "158.00065246682107",
         "1.5088931655188196",
         null,
         "2783637.4650102835",
         null,
         null,
         null,
         null,
         null,
         null,
         null,
         null,
         null,
         null,
         null,
         null,
         null,
         null
        ],
        [
         "min",
         "1",
         "AR-5381",
         "1",
         "G  ",
         "CM ",
         "AWC Logo Cap",
         "Bielas GA",
         "Antivol câble",
         "0.8565",
         "0",
         "Black",
         "4",
         "3",
         "1.093.364",
         "38",
         "38-40 CM",
         "1000",
         "0",
         "M ",
         "1020594",
         "H ",
         "M ",
         "All-Purpose Bike Stand",
         "\"Carries 4 bikes securely; steel construction, fits 2\"\" receiver hitch.\"",
         "Acier chromé.",
         "HL 铝制车架经过特别打造，不仅外形悦目而且坚固耐用；不论何时何地，日常骑乘，轻松掌控。男用自行车。",
         "NULL",
         "\"אופני מבוגרים למתחילים; מציעים רכיבה נוחה \"\"מחוף לחוף\"\" או לאורך הרחוב. טבורים וחישורים לשחרור מהיר.\"",
         "NULL",
         "Aerodynamische Felgen für ein geschmeidiges Fahrerlebnis.",
         "1 日中乗っても快適なアナトミック デザインで、耐久性のある皮製。",
         "\"Yüksek kaliteli 1\"\" furş takımı, hızlı yağlama için yağ kapaklı.\"",
         "2007-12-28 00:00:00.000",
         "Current"
        ],
        [
         "max",
         "606",
         "WB-H098",
         "NULL",
         "NULL",
         "NULL",
         "Women's Tights, S",
         "Soporte multiusos para bicicletas",
         "Vélo de route 750 noir, 58",
         "NULL",
         "1",
         "Yellow",
         "1000",
         "750",
         "NULL",
         "weight",
         "XL",
         "NULL",
         "4",
         "T ",
         "NULL",
         "NULL",
         "W ",
         "Women's Tights",
         "Wraps to fit front and rear tires, carrier and 2 keys included.",
         "Équipé de la même technologie que tous nos vélos de route, avec un cadre femmes. Idéal pour la promenade ou la course sur route.",
         "高质量的一英寸无螺纹车头碗组具有油口，可确保快速润滑。",
         "يوفر هيكل الألومنيوم سميك الأطراف خفيف الوزن وضع قيادة أكثر انتصابًا أثناء القيام برحلات في أرجاء البلدة. يوفر تصميمنا الابتكاري أعلى درجات الراحة.",
         "תאורה במחיר סביר לרכיבה לילית בטוחה – פועלת באמצעות סוללת AAA",
         "ไฟหน้าแบบทนทาน กันน้ำ",
         "Wiederaufladbares Vorderlicht mit zwei Strahlen.",
         "高速走行用のステンレス製スポークを備えたアルミニウム合金リム。",
         "Şoku emen ve daha hassas yönlendirilebilen güçlü tasarım.",
         "NULL",
         "NULL"
        ]
       ],
       "datasetInfos": [],
       "dbfsResultPath": null,
       "isJsonSchema": true,
       "metadata": {},
       "overflow": false,
       "plotOptions": {
        "customPlotOptions": {},
        "displayType": "table",
        "pivotAggregation": null,
        "pivotColumns": null,
        "xColumns": null,
        "yColumns": null
       },
       "removedWidgets": [],
       "schema": [
        {
         "metadata": "{}",
         "name": "summary",
         "type": "\"string\""
        },
        {
         "metadata": "{}",
         "name": "ProductKey",
         "type": "\"string\""
        },
        {
         "metadata": "{}",
         "name": "ProductAlternateKey",
         "type": "\"string\""
        },
        {
         "metadata": "{}",
         "name": "ProductSubcategoryKey",
         "type": "\"string\""
        },
        {
         "metadata": "{}",
         "name": "WeightUnitMeasureCode",
         "type": "\"string\""
        },
        {
         "metadata": "{}",
         "name": "SizeUnitMeasureCode",
         "type": "\"string\""
        },
        {
         "metadata": "{}",
         "name": "EnglishProductName",
         "type": "\"string\""
        },
        {
         "metadata": "{}",
         "name": "SpanishProductName",
         "type": "\"string\""
        },
        {
         "metadata": "{}",
         "name": "FrenchProductName",
         "type": "\"string\""
        },
        {
         "metadata": "{}",
         "name": "StandardCost",
         "type": "\"string\""
        },
        {
         "metadata": "{}",
         "name": "FinishedGoodsFlag",
         "type": "\"string\""
        },
        {
         "metadata": "{}",
         "name": "Color",
         "type": "\"string\""
        },
        {
         "metadata": "{}",
         "name": "SafetyStockLevel",
         "type": "\"string\""
        },
        {
         "metadata": "{}",
         "name": "ReorderPoint",
         "type": "\"string\""
        },
        {
         "metadata": "{}",
         "name": "ListPrice",
         "type": "\"string\""
        },
        {
         "metadata": "{}",
         "name": "Size",
         "type": "\"string\""
        },
        {
         "metadata": "{}",
         "name": "SizeRange",
         "type": "\"string\""
        },
        {
         "metadata": "{}",
         "name": "Weight",
         "type": "\"string\""
        },
        {
         "metadata": "{}",
         "name": "DaysToManufacture",
         "type": "\"string\""
        },
        {
         "metadata": "{}",
         "name": "ProductLine",
         "type": "\"string\""
        },
        {
         "metadata": "{}",
         "name": "DealerPrice",
         "type": "\"string\""
        },
        {
         "metadata": "{}",
         "name": "Class",
         "type": "\"string\""
        },
        {
         "metadata": "{}",
         "name": "Style",
         "type": "\"string\""
        },
        {
         "metadata": "{}",
         "name": "ModelName",
         "type": "\"string\""
        },
        {
         "metadata": "{}",
         "name": "EnglishDescription",
         "type": "\"string\""
        },
        {
         "metadata": "{}",
         "name": "FrenchDescription",
         "type": "\"string\""
        },
        {
         "metadata": "{}",
         "name": "ChineseDescription",
         "type": "\"string\""
        },
        {
         "metadata": "{}",
         "name": "ArabicDescription",
         "type": "\"string\""
        },
        {
         "metadata": "{}",
         "name": "HebrewDescription",
         "type": "\"string\""
        },
        {
         "metadata": "{}",
         "name": "ThaiDescription",
         "type": "\"string\""
        },
        {
         "metadata": "{}",
         "name": "GermanDescription",
         "type": "\"string\""
        },
        {
         "metadata": "{}",
         "name": "JapaneseDescription",
         "type": "\"string\""
        },
        {
         "metadata": "{}",
         "name": "TurkishDescription",
         "type": "\"string\""
        },
        {
         "metadata": "{}",
         "name": "EndDate",
         "type": "\"string\""
        },
        {
         "metadata": "{}",
         "name": "Status",
         "type": "\"string\""
        }
       ],
       "type": "table"
      }
     },
     "output_type": "display_data"
    }
   ],
   "source": [
    "display(dim_product.describe().toPandas())"
   ]
  },
  {
   "cell_type": "code",
   "execution_count": 0,
   "metadata": {
    "application/vnd.databricks.v1+cell": {
     "cellMetadata": {
      "byteLimit": 2048000,
      "rowLimit": 10000
     },
     "inputWidgets": {},
     "nuid": "b2583244-7cfb-42fd-a5f7-22d19b2c01c5",
     "showTitle": false,
     "tableResultSettingsMap": {},
     "title": ""
    }
   },
   "outputs": [],
   "source": [
    "# Drop the columns that we will not need in our analysis\n",
    "columns_drop = [\"EnglishProductName\", \"SpanishProductName\", \"FrenchProductName\",\"FinishedGoodsFlag\",\n",
    "\"EnglishDescription\",\"FrenchDescription\",\"ChineseDescription\",\"ArabicDescription\",\"HebrewDescription\",\"ThaiDescription\",\"GermanDescription\",\"JapaneseDescription\",\"TurkishDescription\",\"ProductSubcategoryKey\"]\n",
    "dim_product = dim_product.drop(*columns_drop)\n"
   ]
  },
  {
   "cell_type": "code",
   "execution_count": 0,
   "metadata": {
    "application/vnd.databricks.v1+cell": {
     "cellMetadata": {
      "byteLimit": 2048000,
      "rowLimit": 10000
     },
     "inputWidgets": {},
     "nuid": "916c0a5b-d81e-4cd8-97a2-c3ebe04b3e93",
     "showTitle": false,
     "tableResultSettingsMap": {},
     "title": ""
    }
   },
   "outputs": [],
   "source": [
    "dim_product = (dim_product\n",
    "      .withColumn(\"StandardCost\", col(\"StandardCost\").cast(\"float\"))    \n",
    "      .withColumn(\"DealerPrice\", col(\"DealerPrice\").cast(\"float\"))\n",
    "      .withColumn(\"weight\",col(\"weight\").cast(\"float\"))\n",
    "      .withColumn(\"StartDate\", col(\"StartDate\").cast(\"date\"))\n",
    "      )\n"
   ]
  },
  {
   "cell_type": "code",
   "execution_count": 0,
   "metadata": {
    "application/vnd.databricks.v1+cell": {
     "cellMetadata": {
      "byteLimit": 2048000,
      "rowLimit": 10000
     },
     "inputWidgets": {},
     "nuid": "07fa4f06-b1a1-453c-9450-9ba53720a857",
     "showTitle": false,
     "tableResultSettingsMap": {},
     "title": ""
    }
   },
   "outputs": [
    {
     "output_type": "display_data",
     "data": {
      "text/html": [
       "<style scoped>\n",
       "  .table-result-container {\n",
       "    max-height: 300px;\n",
       "    overflow: auto;\n",
       "  }\n",
       "  table, th, td {\n",
       "    border: 1px solid black;\n",
       "    border-collapse: collapse;\n",
       "  }\n",
       "  th, td {\n",
       "    padding: 5px;\n",
       "  }\n",
       "  th {\n",
       "    text-align: left;\n",
       "  }\n",
       "</style><div class='table-result-container'><table class='table-result'><thead style='background-color: white'><tr><th>ProductKey</th><th>ProductAlternateKey</th><th>WeightUnitMeasureCode</th><th>SizeUnitMeasureCode</th><th>StandardCost</th><th>Color</th><th>SafetyStockLevel</th><th>ReorderPoint</th><th>ListPrice</th><th>Size</th><th>SizeRange</th><th>weight</th><th>DaysToManufacture</th><th>ProductLine</th><th>DealerPrice</th><th>Class</th><th>Style</th><th>ModelName</th><th>StartDate</th><th>EndDate</th><th>Status</th></tr></thead><tbody><tr><td>0</td><td>0</td><td>324</td><td>353</td><td>596</td><td>0</td><td>0</td><td>0</td><td>211</td><td>306</td><td>0</td><td>324</td><td>0</td><td>226</td><td>211</td><td>276</td><td>305</td><td>209</td><td>0</td><td>406</td><td>200</td></tr></tbody></table></div>"
      ]
     },
     "metadata": {
      "application/vnd.databricks.v1+output": {
       "addedWidgets": {},
       "aggData": [],
       "aggError": "",
       "aggOverflow": false,
       "aggSchema": [],
       "aggSeriesLimitReached": false,
       "aggType": "",
       "arguments": {},
       "columnCustomDisplayInfos": {},
       "data": [
        [
         0,
         0,
         324,
         353,
         596,
         0,
         0,
         0,
         211,
         306,
         0,
         324,
         0,
         226,
         211,
         276,
         305,
         209,
         0,
         406,
         200
        ]
       ],
       "datasetInfos": [],
       "dbfsResultPath": null,
       "isJsonSchema": true,
       "metadata": {},
       "overflow": false,
       "plotOptions": {
        "customPlotOptions": {},
        "displayType": "table",
        "pivotAggregation": null,
        "pivotColumns": null,
        "xColumns": null,
        "yColumns": null
       },
       "removedWidgets": [],
       "schema": [
        {
         "metadata": "{}",
         "name": "ProductKey",
         "type": "\"long\""
        },
        {
         "metadata": "{}",
         "name": "ProductAlternateKey",
         "type": "\"long\""
        },
        {
         "metadata": "{}",
         "name": "WeightUnitMeasureCode",
         "type": "\"long\""
        },
        {
         "metadata": "{}",
         "name": "SizeUnitMeasureCode",
         "type": "\"long\""
        },
        {
         "metadata": "{}",
         "name": "StandardCost",
         "type": "\"long\""
        },
        {
         "metadata": "{}",
         "name": "Color",
         "type": "\"long\""
        },
        {
         "metadata": "{}",
         "name": "SafetyStockLevel",
         "type": "\"long\""
        },
        {
         "metadata": "{}",
         "name": "ReorderPoint",
         "type": "\"long\""
        },
        {
         "metadata": "{}",
         "name": "ListPrice",
         "type": "\"long\""
        },
        {
         "metadata": "{}",
         "name": "Size",
         "type": "\"long\""
        },
        {
         "metadata": "{}",
         "name": "SizeRange",
         "type": "\"long\""
        },
        {
         "metadata": "{}",
         "name": "weight",
         "type": "\"long\""
        },
        {
         "metadata": "{}",
         "name": "DaysToManufacture",
         "type": "\"long\""
        },
        {
         "metadata": "{}",
         "name": "ProductLine",
         "type": "\"long\""
        },
        {
         "metadata": "{}",
         "name": "DealerPrice",
         "type": "\"long\""
        },
        {
         "metadata": "{}",
         "name": "Class",
         "type": "\"long\""
        },
        {
         "metadata": "{}",
         "name": "Style",
         "type": "\"long\""
        },
        {
         "metadata": "{}",
         "name": "ModelName",
         "type": "\"long\""
        },
        {
         "metadata": "{}",
         "name": "StartDate",
         "type": "\"long\""
        },
        {
         "metadata": "{}",
         "name": "EndDate",
         "type": "\"long\""
        },
        {
         "metadata": "{}",
         "name": "Status",
         "type": "\"long\""
        }
       ],
       "type": "table"
      }
     },
     "output_type": "display_data"
    }
   ],
   "source": [
    "from pyspark.sql.functions import col, count, when,isnan\n",
    "# Count nulls for each column\n",
    "display(dim_product.select(\n",
    "    [count(\n",
    "        when((col(c).isNull()) | (col(c) =='NULL'), c)\n",
    "        ).alias(c) for c in dim_product.columns]\n",
    "    ))"
   ]
  },
  {
   "cell_type": "code",
   "execution_count": 0,
   "metadata": {
    "application/vnd.databricks.v1+cell": {
     "cellMetadata": {
      "byteLimit": 2048000,
      "rowLimit": 10000
     },
     "inputWidgets": {},
     "nuid": "fbfce43d-5c03-4a26-99e7-4781eea81e69",
     "showTitle": false,
     "tableResultSettingsMap": {},
     "title": ""
    }
   },
   "outputs": [
    {
     "output_type": "stream",
     "name": "stdout",
     "output_type": "stream",
     "text": [
      "Out[20]: ['ProductKey',\n 'ProductAlternateKey',\n 'Color',\n 'SafetyStockLevel',\n 'ReorderPoint',\n 'SizeRange',\n 'DaysToManufacture',\n 'StartDate',\n 'EndDate']"
     ]
    }
   ],
   "source": [
    "# Drop the columns with the null values majority\n",
    "null_columns_drop = [\"StandardCost\",\"weight\",\"DearlerPrice\",\"Style\",\"ProductLine\",\"Size\",\"SizeUnitMeasureCode\",\"WeightUnitMeasureCode\",\"Class\",\"Status\",\"ListPrice\",\"DealerPrice\",\"ModelName\"]\n",
    "dim_product = dim_product.drop(*null_columns_drop)\n",
    "dim_product.columns"
   ]
  },
  {
   "cell_type": "code",
   "execution_count": 0,
   "metadata": {
    "application/vnd.databricks.v1+cell": {
     "cellMetadata": {
      "byteLimit": 2048000,
      "rowLimit": 10000
     },
     "inputWidgets": {},
     "nuid": "ddd651b2-39ab-460c-a237-081dd11c9793",
     "showTitle": false,
     "tableResultSettingsMap": {},
     "title": ""
    }
   },
   "outputs": [
    {
     "output_type": "stream",
     "name": "stdout",
     "output_type": "stream",
     "text": [
      "root\n |-- ProductKey: integer (nullable = true)\n |-- ProductAlternateKey: string (nullable = true)\n |-- Color: string (nullable = true)\n |-- SafetyStockLevel: integer (nullable = true)\n |-- ReorderPoint: integer (nullable = true)\n |-- SizeRange: string (nullable = true)\n |-- DaysToManufacture: integer (nullable = true)\n |-- StartDate: date (nullable = true)\n |-- EndDate: string (nullable = true)\n\n"
     ]
    }
   ],
   "source": [
    "dim_product.printSchema()"
   ]
  },
  {
   "cell_type": "markdown",
   "metadata": {
    "application/vnd.databricks.v1+cell": {
     "cellMetadata": {},
     "inputWidgets": {},
     "nuid": "451acdd5-adc6-4da0-8d04-59659dfc753b",
     "showTitle": false,
     "tableResultSettingsMap": {},
     "title": ""
    }
   },
   "source": [
    "# DimSalesTerritory Table"
   ]
  },
  {
   "cell_type": "code",
   "execution_count": 0,
   "metadata": {
    "application/vnd.databricks.v1+cell": {
     "cellMetadata": {
      "byteLimit": 2048000,
      "rowLimit": 10000
     },
     "inputWidgets": {},
     "nuid": "7823dd35-0854-4e38-9500-d546f0f497d0",
     "showTitle": false,
     "tableResultSettingsMap": {},
     "title": ""
    }
   },
   "outputs": [
    {
     "output_type": "display_data",
     "data": {
      "text/html": [
       "<style scoped>\n",
       "  .table-result-container {\n",
       "    max-height: 300px;\n",
       "    overflow: auto;\n",
       "  }\n",
       "  table, th, td {\n",
       "    border: 1px solid black;\n",
       "    border-collapse: collapse;\n",
       "  }\n",
       "  th, td {\n",
       "    padding: 5px;\n",
       "  }\n",
       "  th {\n",
       "    text-align: left;\n",
       "  }\n",
       "</style><div class='table-result-container'><table class='table-result'><thead style='background-color: white'><tr><th>SalesTerritoryKey</th><th>SalesTerritoryAlternateKey</th><th>SalesTerritoryRegion</th><th>SalesTerritoryCountry</th><th>SalesTerritoryGroup</th></tr></thead><tbody><tr><td>1</td><td>1</td><td>Northwest</td><td>United States</td><td>North America</td></tr><tr><td>2</td><td>2</td><td>Northeast</td><td>United States</td><td>North America</td></tr><tr><td>3</td><td>3</td><td>Central</td><td>United States</td><td>North America</td></tr><tr><td>4</td><td>4</td><td>Southwest</td><td>United States</td><td>North America</td></tr><tr><td>5</td><td>5</td><td>Southeast</td><td>United States</td><td>North America</td></tr><tr><td>6</td><td>6</td><td>Canada</td><td>Canada</td><td>North America</td></tr><tr><td>7</td><td>7</td><td>France</td><td>France</td><td>Europe</td></tr><tr><td>8</td><td>8</td><td>Germany</td><td>Germany</td><td>Europe</td></tr><tr><td>9</td><td>9</td><td>Australia</td><td>Australia</td><td>Pacific</td></tr><tr><td>10</td><td>10</td><td>United Kingdom</td><td>United Kingdom</td><td>Europe</td></tr><tr><td>11</td><td>0</td><td>NA</td><td>NA</td><td>NA</td></tr></tbody></table></div>"
      ]
     },
     "metadata": {
      "application/vnd.databricks.v1+output": {
       "addedWidgets": {},
       "aggData": [],
       "aggError": "",
       "aggOverflow": false,
       "aggSchema": [],
       "aggSeriesLimitReached": false,
       "aggType": "",
       "arguments": {},
       "columnCustomDisplayInfos": {},
       "data": [
        [
         1,
         1,
         "Northwest",
         "United States",
         "North America"
        ],
        [
         2,
         2,
         "Northeast",
         "United States",
         "North America"
        ],
        [
         3,
         3,
         "Central",
         "United States",
         "North America"
        ],
        [
         4,
         4,
         "Southwest",
         "United States",
         "North America"
        ],
        [
         5,
         5,
         "Southeast",
         "United States",
         "North America"
        ],
        [
         6,
         6,
         "Canada",
         "Canada",
         "North America"
        ],
        [
         7,
         7,
         "France",
         "France",
         "Europe"
        ],
        [
         8,
         8,
         "Germany",
         "Germany",
         "Europe"
        ],
        [
         9,
         9,
         "Australia",
         "Australia",
         "Pacific"
        ],
        [
         10,
         10,
         "United Kingdom",
         "United Kingdom",
         "Europe"
        ],
        [
         11,
         0,
         "NA",
         "NA",
         "NA"
        ]
       ],
       "datasetInfos": [],
       "dbfsResultPath": null,
       "isJsonSchema": true,
       "metadata": {},
       "overflow": false,
       "plotOptions": {
        "customPlotOptions": {},
        "displayType": "table",
        "pivotAggregation": null,
        "pivotColumns": null,
        "xColumns": null,
        "yColumns": null
       },
       "removedWidgets": [],
       "schema": [
        {
         "metadata": "{}",
         "name": "SalesTerritoryKey",
         "type": "\"integer\""
        },
        {
         "metadata": "{}",
         "name": "SalesTerritoryAlternateKey",
         "type": "\"integer\""
        },
        {
         "metadata": "{}",
         "name": "SalesTerritoryRegion",
         "type": "\"string\""
        },
        {
         "metadata": "{}",
         "name": "SalesTerritoryCountry",
         "type": "\"string\""
        },
        {
         "metadata": "{}",
         "name": "SalesTerritoryGroup",
         "type": "\"string\""
        }
       ],
       "type": "table"
      }
     },
     "output_type": "display_data"
    }
   ],
   "source": [
    "display(dim_sales_terr)"
   ]
  },
  {
   "cell_type": "code",
   "execution_count": 0,
   "metadata": {
    "application/vnd.databricks.v1+cell": {
     "cellMetadata": {
      "byteLimit": 2048000,
      "rowLimit": 10000
     },
     "inputWidgets": {},
     "nuid": "f5aae695-31f0-49f6-90ce-61244136a796",
     "showTitle": false,
     "tableResultSettingsMap": {},
     "title": ""
    }
   },
   "outputs": [],
   "source": [
    "# Drop the 11th key since it has no values \n",
    "dim_sales_terr = dim_sales_terr[dim_sales_terr['SalesTerritoryKey'] != 11]"
   ]
  },
  {
   "cell_type": "code",
   "execution_count": 0,
   "metadata": {
    "application/vnd.databricks.v1+cell": {
     "cellMetadata": {
      "byteLimit": 2048000,
      "rowLimit": 10000
     },
     "inputWidgets": {},
     "nuid": "da4025e0-dcf3-40b0-aa17-1452eb18f498",
     "showTitle": false,
     "tableResultSettingsMap": {},
     "title": ""
    }
   },
   "outputs": [
    {
     "output_type": "stream",
     "name": "stdout",
     "output_type": "stream",
     "text": [
      "root\n |-- SalesTerritoryKey: integer (nullable = true)\n |-- SalesTerritoryAlternateKey: integer (nullable = true)\n |-- SalesTerritoryRegion: string (nullable = true)\n |-- SalesTerritoryCountry: string (nullable = true)\n |-- SalesTerritoryGroup: string (nullable = true)\n\n"
     ]
    }
   ],
   "source": [
    "dim_sales_terr.printSchema()"
   ]
  },
  {
   "cell_type": "markdown",
   "metadata": {
    "application/vnd.databricks.v1+cell": {
     "cellMetadata": {},
     "inputWidgets": {},
     "nuid": "0ca2fea9-d46a-4e65-98e0-a1429dc738dc",
     "showTitle": false,
     "tableResultSettingsMap": {},
     "title": ""
    }
   },
   "source": [
    "# DimCurrency Table"
   ]
  },
  {
   "cell_type": "code",
   "execution_count": 0,
   "metadata": {
    "application/vnd.databricks.v1+cell": {
     "cellMetadata": {
      "byteLimit": 2048000,
      "rowLimit": 10000
     },
     "inputWidgets": {},
     "nuid": "819b6f60-b8eb-49d8-87cd-3b8d97e3a523",
     "showTitle": false,
     "tableResultSettingsMap": {},
     "title": ""
    }
   },
   "outputs": [
    {
     "output_type": "display_data",
     "data": {
      "text/html": [
       "<style scoped>\n",
       "  .table-result-container {\n",
       "    max-height: 300px;\n",
       "    overflow: auto;\n",
       "  }\n",
       "  table, th, td {\n",
       "    border: 1px solid black;\n",
       "    border-collapse: collapse;\n",
       "  }\n",
       "  th, td {\n",
       "    padding: 5px;\n",
       "  }\n",
       "  th {\n",
       "    text-align: left;\n",
       "  }\n",
       "</style><div class='table-result-container'><table class='table-result'><thead style='background-color: white'><tr><th>CurrencyKey</th><th>CurrencyAlternateKey</th><th>CurrencyName</th></tr></thead><tbody><tr><td>1</td><td>AFA</td><td>Afghani</td></tr><tr><td>2</td><td>DZD</td><td>Algerian Dinar</td></tr><tr><td>3</td><td>ARS</td><td>Argentine Peso</td></tr><tr><td>4</td><td>AMD</td><td>Armenian Dram</td></tr><tr><td>5</td><td>AWG</td><td>Aruban Guilder</td></tr><tr><td>6</td><td>AUD</td><td>Australian Dollar</td></tr><tr><td>7</td><td>AZM</td><td>Azerbaijanian Manat</td></tr><tr><td>8</td><td>BSD</td><td>Bahamian Dollar</td></tr><tr><td>9</td><td>BHD</td><td>Bahraini Dinar</td></tr><tr><td>10</td><td>THB</td><td>Baht</td></tr><tr><td>11</td><td>PAB</td><td>Balboa</td></tr><tr><td>12</td><td>BBD</td><td>Barbados Dollar</td></tr><tr><td>13</td><td>BEF</td><td>Belgian Franc</td></tr><tr><td>14</td><td>VEB</td><td>Bolivar</td></tr><tr><td>15</td><td>BOB</td><td>Boliviano</td></tr><tr><td>16</td><td>BRL</td><td>Brazilian Real</td></tr><tr><td>17</td><td>BND</td><td>Brunei Dollar</td></tr><tr><td>18</td><td>BGN</td><td>Bulgarian Lev</td></tr><tr><td>19</td><td>CAD</td><td>Canadian Dollar</td></tr><tr><td>20</td><td>GHC</td><td>Cedi</td></tr><tr><td>21</td><td>XOF</td><td>CFA Franc BCEAO</td></tr><tr><td>22</td><td>CLP</td><td>Chilean Peso</td></tr><tr><td>23</td><td>COP</td><td>Colombian Peso</td></tr><tr><td>24</td><td>CRC</td><td>Costa Rican Colon</td></tr><tr><td>25</td><td>HRK</td><td>Croatian Kuna</td></tr><tr><td>26</td><td>CYP</td><td>Cyprus Pound</td></tr><tr><td>27</td><td>CZK</td><td>Czech Koruna</td></tr><tr><td>28</td><td>DKK</td><td>Danish Krone</td></tr><tr><td>29</td><td>DEM</td><td>Deutsche Mark</td></tr><tr><td>30</td><td>DOP</td><td>Dominican Peso</td></tr><tr><td>31</td><td>VND</td><td>Dong</td></tr><tr><td>32</td><td>GRD</td><td>Drachma</td></tr><tr><td>33</td><td>EGP</td><td>Egyptian Pound</td></tr><tr><td>34</td><td>SVC</td><td>El Salvador Colon</td></tr><tr><td>35</td><td>AED</td><td>Emirati Dirham</td></tr><tr><td>36</td><td>EUR</td><td>EURO</td></tr><tr><td>37</td><td>FJD</td><td>Fiji Dollar</td></tr><tr><td>38</td><td>HUF</td><td>Forint</td></tr><tr><td>39</td><td>FRF</td><td>French Franc</td></tr><tr><td>40</td><td>PYG</td><td>Guarani</td></tr><tr><td>41</td><td>HKD</td><td>Hong Kong Dollar</td></tr><tr><td>42</td><td>ISK</td><td>Iceland Krona</td></tr><tr><td>43</td><td>INR</td><td>Indian Rupee</td></tr><tr><td>44</td><td>IEP</td><td>Irish Pound</td></tr><tr><td>45</td><td>ITL</td><td>Italian Lira</td></tr><tr><td>46</td><td>JMD</td><td>Jamaican Dollar</td></tr><tr><td>47</td><td>JOD</td><td>Jordanian Dinar</td></tr><tr><td>48</td><td>KES</td><td>Kenyan Shilling</td></tr><tr><td>49</td><td>EEK</td><td>Kroon</td></tr><tr><td>50</td><td>KWD</td><td>Kuwaiti Dinar</td></tr><tr><td>51</td><td>AOA</td><td>Kwanza</td></tr><tr><td>52</td><td>LVL</td><td>Latvian Lats</td></tr><tr><td>53</td><td>LBP</td><td>Lebanese Pound</td></tr><tr><td>54</td><td>ALL</td><td>Lek</td></tr><tr><td>55</td><td>ROL</td><td>Leu</td></tr><tr><td>56</td><td>LTL</td><td>Lithuanian Litas</td></tr><tr><td>57</td><td>MYR</td><td>Malaysian Ringgit</td></tr><tr><td>58</td><td>MTL</td><td>Maltese Lira</td></tr><tr><td>59</td><td>FIM</td><td>Markka</td></tr><tr><td>60</td><td>MUR</td><td>Mauritius Rupee</td></tr><tr><td>61</td><td>MXN</td><td>Mexican Peso</td></tr><tr><td>62</td><td>MAD</td><td>Moroccan Dirham</td></tr><tr><td>63</td><td>NGN</td><td>Naira</td></tr><tr><td>64</td><td>NAD</td><td>Namibia Dollar</td></tr><tr><td>65</td><td>NPR</td><td>Nepalese Rupee</td></tr><tr><td>66</td><td>ANG</td><td>Netherlands Antillian Guilder</td></tr><tr><td>67</td><td>NLG</td><td>Netherlands Guilder</td></tr><tr><td>68</td><td>ILS</td><td>New Israeli Shekel</td></tr><tr><td>69</td><td>TWD</td><td>New Taiwan Dollar</td></tr><tr><td>70</td><td>NZD</td><td>New Zealand Dollar</td></tr><tr><td>71</td><td>BTN</td><td>Ngultrum</td></tr><tr><td>72</td><td>NOK</td><td>Norwegian Krone</td></tr><tr><td>73</td><td>PEN</td><td>Nuevo Sol</td></tr><tr><td>74</td><td>OMR</td><td>Omani Rial</td></tr><tr><td>75</td><td>PKR</td><td>Pakistan Rupee</td></tr><tr><td>76</td><td>PHP</td><td>Philippine Peso</td></tr><tr><td>77</td><td>PLZ</td><td>Polish Zloty(old)</td></tr><tr><td>78</td><td>PTE</td><td>Portuguese Escudo</td></tr><tr><td>79</td><td>GTQ</td><td>Quetzal</td></tr><tr><td>80</td><td>ZAR</td><td>Rand</td></tr><tr><td>81</td><td>MVR</td><td>Rufiyaa</td></tr><tr><td>82</td><td>IDR</td><td>Rupiah</td></tr><tr><td>83</td><td>RUB</td><td>Russian Ruble</td></tr><tr><td>84</td><td>RUR</td><td>Russian Ruble(old)</td></tr><tr><td>85</td><td>SAR</td><td>Saudi Riyal</td></tr><tr><td>86</td><td>ATS</td><td>Shilling</td></tr><tr><td>87</td><td>SGD</td><td>Singapore Dollar</td></tr><tr><td>88</td><td>SKK</td><td>Slovak Koruna</td></tr><tr><td>89</td><td>ESP</td><td>Spanish Peseta</td></tr><tr><td>90</td><td>LKR</td><td>Sri Lankan Rupee</td></tr><tr><td>91</td><td>SEK</td><td>Swedish Krona</td></tr><tr><td>92</td><td>CHF</td><td>Swiss Franc</td></tr><tr><td>93</td><td>BDT</td><td>Taka</td></tr><tr><td>94</td><td>SIT</td><td>Tolar</td></tr><tr><td>95</td><td>TTD</td><td>Trinidad and Tobago Dollar</td></tr><tr><td>96</td><td>TND</td><td>Tunisian Dinar</td></tr><tr><td>97</td><td>TRL</td><td>Turkish Lira</td></tr><tr><td>98</td><td>GBP</td><td>United Kingdom Pound</td></tr><tr><td>99</td><td>UYU</td><td>Uruguayan Peso</td></tr><tr><td>100</td><td>USD</td><td>US Dollar</td></tr><tr><td>101</td><td>KRW</td><td>Won</td></tr><tr><td>102</td><td>JPY</td><td>Yen</td></tr><tr><td>103</td><td>CNY</td><td>Yuan Renminbi</td></tr><tr><td>104</td><td>ZWD</td><td>Zimbabwe Dollar</td></tr><tr><td>105</td><td>PLN</td><td>Zloty</td></tr></tbody></table></div>"
      ]
     },
     "metadata": {
      "application/vnd.databricks.v1+output": {
       "addedWidgets": {},
       "aggData": [],
       "aggError": "",
       "aggOverflow": false,
       "aggSchema": [],
       "aggSeriesLimitReached": false,
       "aggType": "",
       "arguments": {},
       "columnCustomDisplayInfos": {},
       "data": [
        [
         1,
         "AFA",
         "Afghani"
        ],
        [
         2,
         "DZD",
         "Algerian Dinar"
        ],
        [
         3,
         "ARS",
         "Argentine Peso"
        ],
        [
         4,
         "AMD",
         "Armenian Dram"
        ],
        [
         5,
         "AWG",
         "Aruban Guilder"
        ],
        [
         6,
         "AUD",
         "Australian Dollar"
        ],
        [
         7,
         "AZM",
         "Azerbaijanian Manat"
        ],
        [
         8,
         "BSD",
         "Bahamian Dollar"
        ],
        [
         9,
         "BHD",
         "Bahraini Dinar"
        ],
        [
         10,
         "THB",
         "Baht"
        ],
        [
         11,
         "PAB",
         "Balboa"
        ],
        [
         12,
         "BBD",
         "Barbados Dollar"
        ],
        [
         13,
         "BEF",
         "Belgian Franc"
        ],
        [
         14,
         "VEB",
         "Bolivar"
        ],
        [
         15,
         "BOB",
         "Boliviano"
        ],
        [
         16,
         "BRL",
         "Brazilian Real"
        ],
        [
         17,
         "BND",
         "Brunei Dollar"
        ],
        [
         18,
         "BGN",
         "Bulgarian Lev"
        ],
        [
         19,
         "CAD",
         "Canadian Dollar"
        ],
        [
         20,
         "GHC",
         "Cedi"
        ],
        [
         21,
         "XOF",
         "CFA Franc BCEAO"
        ],
        [
         22,
         "CLP",
         "Chilean Peso"
        ],
        [
         23,
         "COP",
         "Colombian Peso"
        ],
        [
         24,
         "CRC",
         "Costa Rican Colon"
        ],
        [
         25,
         "HRK",
         "Croatian Kuna"
        ],
        [
         26,
         "CYP",
         "Cyprus Pound"
        ],
        [
         27,
         "CZK",
         "Czech Koruna"
        ],
        [
         28,
         "DKK",
         "Danish Krone"
        ],
        [
         29,
         "DEM",
         "Deutsche Mark"
        ],
        [
         30,
         "DOP",
         "Dominican Peso"
        ],
        [
         31,
         "VND",
         "Dong"
        ],
        [
         32,
         "GRD",
         "Drachma"
        ],
        [
         33,
         "EGP",
         "Egyptian Pound"
        ],
        [
         34,
         "SVC",
         "El Salvador Colon"
        ],
        [
         35,
         "AED",
         "Emirati Dirham"
        ],
        [
         36,
         "EUR",
         "EURO"
        ],
        [
         37,
         "FJD",
         "Fiji Dollar"
        ],
        [
         38,
         "HUF",
         "Forint"
        ],
        [
         39,
         "FRF",
         "French Franc"
        ],
        [
         40,
         "PYG",
         "Guarani"
        ],
        [
         41,
         "HKD",
         "Hong Kong Dollar"
        ],
        [
         42,
         "ISK",
         "Iceland Krona"
        ],
        [
         43,
         "INR",
         "Indian Rupee"
        ],
        [
         44,
         "IEP",
         "Irish Pound"
        ],
        [
         45,
         "ITL",
         "Italian Lira"
        ],
        [
         46,
         "JMD",
         "Jamaican Dollar"
        ],
        [
         47,
         "JOD",
         "Jordanian Dinar"
        ],
        [
         48,
         "KES",
         "Kenyan Shilling"
        ],
        [
         49,
         "EEK",
         "Kroon"
        ],
        [
         50,
         "KWD",
         "Kuwaiti Dinar"
        ],
        [
         51,
         "AOA",
         "Kwanza"
        ],
        [
         52,
         "LVL",
         "Latvian Lats"
        ],
        [
         53,
         "LBP",
         "Lebanese Pound"
        ],
        [
         54,
         "ALL",
         "Lek"
        ],
        [
         55,
         "ROL",
         "Leu"
        ],
        [
         56,
         "LTL",
         "Lithuanian Litas"
        ],
        [
         57,
         "MYR",
         "Malaysian Ringgit"
        ],
        [
         58,
         "MTL",
         "Maltese Lira"
        ],
        [
         59,
         "FIM",
         "Markka"
        ],
        [
         60,
         "MUR",
         "Mauritius Rupee"
        ],
        [
         61,
         "MXN",
         "Mexican Peso"
        ],
        [
         62,
         "MAD",
         "Moroccan Dirham"
        ],
        [
         63,
         "NGN",
         "Naira"
        ],
        [
         64,
         "NAD",
         "Namibia Dollar"
        ],
        [
         65,
         "NPR",
         "Nepalese Rupee"
        ],
        [
         66,
         "ANG",
         "Netherlands Antillian Guilder"
        ],
        [
         67,
         "NLG",
         "Netherlands Guilder"
        ],
        [
         68,
         "ILS",
         "New Israeli Shekel"
        ],
        [
         69,
         "TWD",
         "New Taiwan Dollar"
        ],
        [
         70,
         "NZD",
         "New Zealand Dollar"
        ],
        [
         71,
         "BTN",
         "Ngultrum"
        ],
        [
         72,
         "NOK",
         "Norwegian Krone"
        ],
        [
         73,
         "PEN",
         "Nuevo Sol"
        ],
        [
         74,
         "OMR",
         "Omani Rial"
        ],
        [
         75,
         "PKR",
         "Pakistan Rupee"
        ],
        [
         76,
         "PHP",
         "Philippine Peso"
        ],
        [
         77,
         "PLZ",
         "Polish Zloty(old)"
        ],
        [
         78,
         "PTE",
         "Portuguese Escudo"
        ],
        [
         79,
         "GTQ",
         "Quetzal"
        ],
        [
         80,
         "ZAR",
         "Rand"
        ],
        [
         81,
         "MVR",
         "Rufiyaa"
        ],
        [
         82,
         "IDR",
         "Rupiah"
        ],
        [
         83,
         "RUB",
         "Russian Ruble"
        ],
        [
         84,
         "RUR",
         "Russian Ruble(old)"
        ],
        [
         85,
         "SAR",
         "Saudi Riyal"
        ],
        [
         86,
         "ATS",
         "Shilling"
        ],
        [
         87,
         "SGD",
         "Singapore Dollar"
        ],
        [
         88,
         "SKK",
         "Slovak Koruna"
        ],
        [
         89,
         "ESP",
         "Spanish Peseta"
        ],
        [
         90,
         "LKR",
         "Sri Lankan Rupee"
        ],
        [
         91,
         "SEK",
         "Swedish Krona"
        ],
        [
         92,
         "CHF",
         "Swiss Franc"
        ],
        [
         93,
         "BDT",
         "Taka"
        ],
        [
         94,
         "SIT",
         "Tolar"
        ],
        [
         95,
         "TTD",
         "Trinidad and Tobago Dollar"
        ],
        [
         96,
         "TND",
         "Tunisian Dinar"
        ],
        [
         97,
         "TRL",
         "Turkish Lira"
        ],
        [
         98,
         "GBP",
         "United Kingdom Pound"
        ],
        [
         99,
         "UYU",
         "Uruguayan Peso"
        ],
        [
         100,
         "USD",
         "US Dollar"
        ],
        [
         101,
         "KRW",
         "Won"
        ],
        [
         102,
         "JPY",
         "Yen"
        ],
        [
         103,
         "CNY",
         "Yuan Renminbi"
        ],
        [
         104,
         "ZWD",
         "Zimbabwe Dollar"
        ],
        [
         105,
         "PLN",
         "Zloty"
        ]
       ],
       "datasetInfos": [],
       "dbfsResultPath": null,
       "isJsonSchema": true,
       "metadata": {},
       "overflow": false,
       "plotOptions": {
        "customPlotOptions": {},
        "displayType": "table",
        "pivotAggregation": null,
        "pivotColumns": null,
        "xColumns": null,
        "yColumns": null
       },
       "removedWidgets": [],
       "schema": [
        {
         "metadata": "{}",
         "name": "CurrencyKey",
         "type": "\"integer\""
        },
        {
         "metadata": "{}",
         "name": "CurrencyAlternateKey",
         "type": "\"string\""
        },
        {
         "metadata": "{}",
         "name": "CurrencyName",
         "type": "\"string\""
        }
       ],
       "type": "table"
      }
     },
     "output_type": "display_data"
    }
   ],
   "source": [
    "display(dim_curreny)"
   ]
  }
 ],
 "metadata": {
  "application/vnd.databricks.v1+notebook": {
   "computePreferences": null,
   "dashboards": [],
   "environmentMetadata": {
    "base_environment": "",
    "environment_version": "1"
   },
   "inputWidgetPreferences": null,
   "language": "python",
   "notebookMetadata": {
    "pythonIndentUnit": 4
   },
   "notebookName": "Tables Overview",
   "widgets": {}
  }
 },
 "nbformat": 4,
 "nbformat_minor": 0
}
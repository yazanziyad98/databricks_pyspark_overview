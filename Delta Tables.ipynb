{
 "cells": [
  {
   "cell_type": "code",
   "execution_count": 0,
   "metadata": {
    "application/vnd.databricks.v1+cell": {
     "cellMetadata": {
      "byteLimit": 2048000,
      "rowLimit": 10000
     },
     "inputWidgets": {},
     "nuid": "5ad7617b-46fa-4577-a1b0-eaa909551878",
     "showTitle": false,
     "tableResultSettingsMap": {},
     "title": ""
    }
   },
   "outputs": [],
   "source": [
    "#Load Data\n",
    "options = {\n",
    "    \"header\": \"true\",\n",
    "    \"inferSchema\": \"true\",\n",
    "    \"delimiter\": \";\"\n",
    "} \n",
    "dim_product =  spark.read.format(\"csv\").options(**options).load(\"dbfs:/FileStore/tables_new/dim_product/\")\n",
    "fact_int_sales =  spark.read.format(\"csv\").options(**options).load(\"dbfs:/FileStore/tables_new/fact_int_sales/\")\n",
    "dim_sales_terr =  spark.read.format(\"csv\").options(**options).load(\"dbfs:/FileStore/tables_new/dim_sales_terr/\")\n",
    "dim_curreny = spark.read.format(\"csv\").options(**options).load(\"dbfs:/FileStore/tables_new/dim_curreny/\")  "
   ]
  },
  {
   "cell_type": "code",
   "execution_count": 0,
   "metadata": {
    "application/vnd.databricks.v1+cell": {
     "cellMetadata": {
      "byteLimit": 2048000,
      "rowLimit": 10000
     },
     "inputWidgets": {},
     "nuid": "3f5adca9-0e08-4941-883c-573eb2af9265",
     "showTitle": false,
     "tableResultSettingsMap": {},
     "title": ""
    }
   },
   "outputs": [],
   "source": [
    "# Installing Delta Lake \n",
    "#%pip install delta-spark"
   ]
  },
  {
   "cell_type": "code",
   "execution_count": 0,
   "metadata": {
    "application/vnd.databricks.v1+cell": {
     "cellMetadata": {
      "byteLimit": 2048000,
      "rowLimit": 10000
     },
     "inputWidgets": {},
     "nuid": "d301c9c2-9b7a-4f17-b805-418977f91dbd",
     "showTitle": false,
     "tableResultSettingsMap": {},
     "title": ""
    }
   },
   "outputs": [],
   "source": [
    "# We will convert the Fact Sales table into a delta table\n",
    "fact_int_sales.write.format(\"delta\").save(\"/mnt/delta/fact_sales_delta\")"
   ]
  },
  {
   "cell_type": "code",
   "execution_count": 0,
   "metadata": {
    "application/vnd.databricks.v1+cell": {
     "cellMetadata": {
      "byteLimit": 2048000,
      "rowLimit": 10000
     },
     "inputWidgets": {},
     "nuid": "27b779dd-ba8a-4699-9637-3148d900ca2a",
     "showTitle": false,
     "tableResultSettingsMap": {},
     "title": ""
    }
   },
   "outputs": [
    {
     "output_type": "display_data",
     "data": {
      "text/html": [
       "<style scoped>\n",
       "  .table-result-container {\n",
       "    max-height: 300px;\n",
       "    overflow: auto;\n",
       "  }\n",
       "  table, th, td {\n",
       "    border: 1px solid black;\n",
       "    border-collapse: collapse;\n",
       "  }\n",
       "  th, td {\n",
       "    padding: 5px;\n",
       "  }\n",
       "  th {\n",
       "    text-align: left;\n",
       "  }\n",
       "</style><div class='table-result-container'><table class='table-result'><thead style='background-color: white'><tr><th>path</th><th>name</th><th>size</th><th>modificationTime</th></tr></thead><tbody><tr><td>dbfs:/mnt/delta/fact_sales_delta/_delta_log/</td><td>_delta_log/</td><td>0</td><td>0</td></tr><tr><td>dbfs:/mnt/delta/fact_sales_delta/part-00000-ea046cba-5136-4843-8236-69585a22f59a-c000.snappy.parquet</td><td>part-00000-ea046cba-5136-4843-8236-69585a22f59a-c000.snappy.parquet</td><td>526011</td><td>1746809348000</td></tr><tr><td>dbfs:/mnt/delta/fact_sales_delta/part-00001-7947d1f2-5608-4bdb-9877-1cefaa9e7725-c000.snappy.parquet</td><td>part-00001-7947d1f2-5608-4bdb-9877-1cefaa9e7725-c000.snappy.parquet</td><td>394357</td><td>1746809348000</td></tr></tbody></table></div>"
      ]
     },
     "metadata": {
      "application/vnd.databricks.v1+output": {
       "addedWidgets": {},
       "aggData": [],
       "aggError": "",
       "aggOverflow": false,
       "aggSchema": [],
       "aggSeriesLimitReached": false,
       "aggType": "",
       "arguments": {},
       "columnCustomDisplayInfos": {},
       "data": [
        [
         "dbfs:/mnt/delta/fact_sales_delta/_delta_log/",
         "_delta_log/",
         0,
         0
        ],
        [
         "dbfs:/mnt/delta/fact_sales_delta/part-00000-ea046cba-5136-4843-8236-69585a22f59a-c000.snappy.parquet",
         "part-00000-ea046cba-5136-4843-8236-69585a22f59a-c000.snappy.parquet",
         526011,
         1746809348000
        ],
        [
         "dbfs:/mnt/delta/fact_sales_delta/part-00001-7947d1f2-5608-4bdb-9877-1cefaa9e7725-c000.snappy.parquet",
         "part-00001-7947d1f2-5608-4bdb-9877-1cefaa9e7725-c000.snappy.parquet",
         394357,
         1746809348000
        ]
       ],
       "datasetInfos": [],
       "dbfsResultPath": null,
       "isJsonSchema": true,
       "metadata": {},
       "overflow": false,
       "plotOptions": {
        "customPlotOptions": {},
        "displayType": "table",
        "pivotAggregation": null,
        "pivotColumns": null,
        "xColumns": null,
        "yColumns": null
       },
       "removedWidgets": [],
       "schema": [
        {
         "metadata": "{}",
         "name": "path",
         "type": "\"string\""
        },
        {
         "metadata": "{}",
         "name": "name",
         "type": "\"string\""
        },
        {
         "metadata": "{}",
         "name": "size",
         "type": "\"long\""
        },
        {
         "metadata": "{}",
         "name": "modificationTime",
         "type": "\"long\""
        }
       ],
       "type": "table"
      }
     },
     "output_type": "display_data"
    }
   ],
   "source": [
    "display(dbutils.fs.ls(\"/mnt/delta/fact_sales_delta\"))"
   ]
  },
  {
   "cell_type": "markdown",
   "metadata": {
    "application/vnd.databricks.v1+cell": {
     "cellMetadata": {},
     "inputWidgets": {},
     "nuid": "e9d347bf-4736-4f9b-8a5a-5dfb093dfaa9",
     "showTitle": false,
     "tableResultSettingsMap": {},
     "title": ""
    }
   },
   "source": [
    "## Time Travel"
   ]
  },
  {
   "cell_type": "code",
   "execution_count": 0,
   "metadata": {
    "application/vnd.databricks.v1+cell": {
     "cellMetadata": {
      "byteLimit": 2048000,
      "rowLimit": 10000
     },
     "inputWidgets": {},
     "nuid": "b68a62a2-8886-4fc7-b245-a39dddee4ed0",
     "showTitle": false,
     "tableResultSettingsMap": {},
     "title": ""
    }
   },
   "outputs": [
    {
     "output_type": "display_data",
     "data": {
      "text/html": [
       "<style scoped>\n",
       "  .table-result-container {\n",
       "    max-height: 300px;\n",
       "    overflow: auto;\n",
       "  }\n",
       "  table, th, td {\n",
       "    border: 1px solid black;\n",
       "    border-collapse: collapse;\n",
       "  }\n",
       "  th, td {\n",
       "    padding: 5px;\n",
       "  }\n",
       "  th {\n",
       "    text-align: left;\n",
       "  }\n",
       "</style><div class='table-result-container'><table class='table-result'><thead style='background-color: white'><tr><th>ProductKey</th><th>OrderDateKey</th><th>DueDateKey</th><th>ShipDateKey</th><th>CustomerKey</th><th>PromotionKey</th><th>CurrencyKey</th><th>SalesTerritoryKey</th><th>SalesOrderNumber</th><th>SalesOrderLineNumber</th><th>UnitPrice</th><th>ExtendedAmount</th><th>ProductStandardCost</th><th>TotalProductCost</th><th>SalesAmount</th><th>TaxAmt</th><th>Freight</th><th>OrderDate</th><th>DueDate</th><th>ShipDate</th></tr></thead><tbody><tr><td>310</td><td>20101229</td><td>20110110</td><td>20110105</td><td>21768</td><td>1</td><td>19</td><td>6</td><td>SO43697</td><td>1</td><td>3578.27</td><td>3578.27</td><td>2171.29</td><td>2171.29</td><td>3578.27</td><td>286.26</td><td>894.568</td><td>2010-12-29</td><td>2011-01-10</td><td>2011-01-05</td></tr><tr><td>346</td><td>20101229</td><td>20110110</td><td>20110105</td><td>28389</td><td>1</td><td>39</td><td>7</td><td>SO43698</td><td>1</td><td>3399.99</td><td>3399.99</td><td>1912.15</td><td>1912.15</td><td>3399.99</td><td>272.0</td><td>849.998</td><td>2010-12-29</td><td>2011-01-10</td><td>2011-01-05</td></tr><tr><td>346</td><td>20101229</td><td>20110110</td><td>20110105</td><td>25863</td><td>1</td><td>100</td><td>1</td><td>SO43699</td><td>1</td><td>3399.99</td><td>3399.99</td><td>1912.15</td><td>1912.15</td><td>3399.99</td><td>272.0</td><td>849.998</td><td>2010-12-29</td><td>2011-01-10</td><td>2011-01-05</td></tr><tr><td>336</td><td>20101229</td><td>20110110</td><td>20110105</td><td>14501</td><td>1</td><td>100</td><td>4</td><td>SO43700</td><td>1</td><td>null</td><td>null</td><td>413.15</td><td>413.15</td><td>699.1</td><td>55.93</td><td>174.775</td><td>2010-12-29</td><td>2011-01-10</td><td>2011-01-05</td></tr><tr><td>346</td><td>20101229</td><td>20110110</td><td>20110105</td><td>11003</td><td>1</td><td>6</td><td>9</td><td>SO43701</td><td>1</td><td>3399.99</td><td>3399.99</td><td>1912.15</td><td>1912.15</td><td>3399.99</td><td>272.0</td><td>849.998</td><td>2010-12-29</td><td>2011-01-10</td><td>2011-01-05</td></tr><tr><td>311</td><td>20101230</td><td>20110111</td><td>20110106</td><td>27645</td><td>1</td><td>100</td><td>4</td><td>SO43702</td><td>1</td><td>3578.27</td><td>3578.27</td><td>2171.29</td><td>2171.29</td><td>3578.27</td><td>286.26</td><td>894.568</td><td>2010-12-30</td><td>2011-01-11</td><td>2011-01-06</td></tr><tr><td>310</td><td>20101230</td><td>20110111</td><td>20110106</td><td>16624</td><td>1</td><td>6</td><td>9</td><td>SO43703</td><td>1</td><td>3578.27</td><td>3578.27</td><td>2171.29</td><td>2171.29</td><td>3578.27</td><td>286.26</td><td>894.568</td><td>2010-12-30</td><td>2011-01-11</td><td>2011-01-06</td></tr><tr><td>351</td><td>20101230</td><td>20110111</td><td>20110106</td><td>11005</td><td>1</td><td>6</td><td>9</td><td>SO43704</td><td>1</td><td>3374.99</td><td>3374.99</td><td>1898.09</td><td>1898.09</td><td>3374.99</td><td>270.0</td><td>843.748</td><td>2010-12-30</td><td>2011-01-11</td><td>2011-01-06</td></tr><tr><td>344</td><td>20101230</td><td>20110111</td><td>20110106</td><td>11011</td><td>1</td><td>6</td><td>9</td><td>SO43705</td><td>1</td><td>3399.99</td><td>3399.99</td><td>1912.15</td><td>1912.15</td><td>3399.99</td><td>272.0</td><td>849.998</td><td>2010-12-30</td><td>2011-01-11</td><td>2011-01-06</td></tr><tr><td>312</td><td>20101231</td><td>20110112</td><td>20110107</td><td>27621</td><td>1</td><td>100</td><td>4</td><td>SO43706</td><td>1</td><td>3578.27</td><td>3578.27</td><td>2171.29</td><td>2171.29</td><td>3578.27</td><td>286.26</td><td>894.568</td><td>2010-12-31</td><td>2011-01-12</td><td>2011-01-07</td></tr></tbody></table></div>"
      ]
     },
     "metadata": {
      "application/vnd.databricks.v1+output": {
       "addedWidgets": {},
       "aggData": [],
       "aggError": "",
       "aggOverflow": false,
       "aggSchema": [],
       "aggSeriesLimitReached": false,
       "aggType": "",
       "arguments": {},
       "columnCustomDisplayInfos": {},
       "data": [
        [
         310,
         20101229,
         20110110,
         20110105,
         21768,
         1,
         19,
         6,
         "SO43697",
         1,
         3578.27,
         3578.27,
         2171.29,
         2171.29,
         3578.27,
         286.26,
         894.568,
         "2010-12-29",
         "2011-01-10",
         "2011-01-05"
        ],
        [
         346,
         20101229,
         20110110,
         20110105,
         28389,
         1,
         39,
         7,
         "SO43698",
         1,
         3399.99,
         3399.99,
         1912.15,
         1912.15,
         3399.99,
         272.0,
         849.998,
         "2010-12-29",
         "2011-01-10",
         "2011-01-05"
        ],
        [
         346,
         20101229,
         20110110,
         20110105,
         25863,
         1,
         100,
         1,
         "SO43699",
         1,
         3399.99,
         3399.99,
         1912.15,
         1912.15,
         3399.99,
         272.0,
         849.998,
         "2010-12-29",
         "2011-01-10",
         "2011-01-05"
        ],
        [
         336,
         20101229,
         20110110,
         20110105,
         14501,
         1,
         100,
         4,
         "SO43700",
         1,
         null,
         null,
         413.15,
         413.15,
         699.1,
         55.93,
         174.775,
         "2010-12-29",
         "2011-01-10",
         "2011-01-05"
        ],
        [
         346,
         20101229,
         20110110,
         20110105,
         11003,
         1,
         6,
         9,
         "SO43701",
         1,
         3399.99,
         3399.99,
         1912.15,
         1912.15,
         3399.99,
         272.0,
         849.998,
         "2010-12-29",
         "2011-01-10",
         "2011-01-05"
        ],
        [
         311,
         20101230,
         20110111,
         20110106,
         27645,
         1,
         100,
         4,
         "SO43702",
         1,
         3578.27,
         3578.27,
         2171.29,
         2171.29,
         3578.27,
         286.26,
         894.568,
         "2010-12-30",
         "2011-01-11",
         "2011-01-06"
        ],
        [
         310,
         20101230,
         20110111,
         20110106,
         16624,
         1,
         6,
         9,
         "SO43703",
         1,
         3578.27,
         3578.27,
         2171.29,
         2171.29,
         3578.27,
         286.26,
         894.568,
         "2010-12-30",
         "2011-01-11",
         "2011-01-06"
        ],
        [
         351,
         20101230,
         20110111,
         20110106,
         11005,
         1,
         6,
         9,
         "SO43704",
         1,
         3374.99,
         3374.99,
         1898.09,
         1898.09,
         3374.99,
         270.0,
         843.748,
         "2010-12-30",
         "2011-01-11",
         "2011-01-06"
        ],
        [
         344,
         20101230,
         20110111,
         20110106,
         11011,
         1,
         6,
         9,
         "SO43705",
         1,
         3399.99,
         3399.99,
         1912.15,
         1912.15,
         3399.99,
         272.0,
         849.998,
         "2010-12-30",
         "2011-01-11",
         "2011-01-06"
        ],
        [
         312,
         20101231,
         20110112,
         20110107,
         27621,
         1,
         100,
         4,
         "SO43706",
         1,
         3578.27,
         3578.27,
         2171.29,
         2171.29,
         3578.27,
         286.26,
         894.568,
         "2010-12-31",
         "2011-01-12",
         "2011-01-07"
        ]
       ],
       "datasetInfos": [],
       "dbfsResultPath": null,
       "isJsonSchema": true,
       "metadata": {},
       "overflow": false,
       "plotOptions": {
        "customPlotOptions": {},
        "displayType": "table",
        "pivotAggregation": null,
        "pivotColumns": null,
        "xColumns": null,
        "yColumns": null
       },
       "removedWidgets": [],
       "schema": [
        {
         "metadata": "{}",
         "name": "ProductKey",
         "type": "\"integer\""
        },
        {
         "metadata": "{}",
         "name": "OrderDateKey",
         "type": "\"integer\""
        },
        {
         "metadata": "{}",
         "name": "DueDateKey",
         "type": "\"integer\""
        },
        {
         "metadata": "{}",
         "name": "ShipDateKey",
         "type": "\"integer\""
        },
        {
         "metadata": "{}",
         "name": "CustomerKey",
         "type": "\"integer\""
        },
        {
         "metadata": "{}",
         "name": "PromotionKey",
         "type": "\"integer\""
        },
        {
         "metadata": "{}",
         "name": "CurrencyKey",
         "type": "\"integer\""
        },
        {
         "metadata": "{}",
         "name": "SalesTerritoryKey",
         "type": "\"integer\""
        },
        {
         "metadata": "{}",
         "name": "SalesOrderNumber",
         "type": "\"string\""
        },
        {
         "metadata": "{}",
         "name": "SalesOrderLineNumber",
         "type": "\"integer\""
        },
        {
         "metadata": "{}",
         "name": "UnitPrice",
         "type": "\"double\""
        },
        {
         "metadata": "{}",
         "name": "ExtendedAmount",
         "type": "\"double\""
        },
        {
         "metadata": "{}",
         "name": "ProductStandardCost",
         "type": "\"double\""
        },
        {
         "metadata": "{}",
         "name": "TotalProductCost",
         "type": "\"double\""
        },
        {
         "metadata": "{}",
         "name": "SalesAmount",
         "type": "\"double\""
        },
        {
         "metadata": "{}",
         "name": "TaxAmt",
         "type": "\"double\""
        },
        {
         "metadata": "{}",
         "name": "Freight",
         "type": "\"double\""
        },
        {
         "metadata": "{\"__detected_date_formats\":\"yyyy-M-d\"}",
         "name": "OrderDate",
         "type": "\"date\""
        },
        {
         "metadata": "{\"__detected_date_formats\":\"yyyy-M-d\"}",
         "name": "DueDate",
         "type": "\"date\""
        },
        {
         "metadata": "{\"__detected_date_formats\":\"yyyy-M-d\"}",
         "name": "ShipDate",
         "type": "\"date\""
        }
       ],
       "type": "table"
      }
     },
     "output_type": "display_data"
    }
   ],
   "source": [
    " fact_sales_delta = spark.read.format(\"delta\").load(\"/mnt/delta/fact_sales_delta\")\n",
    "display(fact_sales_delta.limit(10))"
   ]
  },
  {
   "cell_type": "code",
   "execution_count": 0,
   "metadata": {
    "application/vnd.databricks.v1+cell": {
     "cellMetadata": {
      "byteLimit": 2048000,
      "rowLimit": 10000
     },
     "inputWidgets": {},
     "nuid": "8af33108-7088-462b-9398-998dbec47374",
     "showTitle": false,
     "tableResultSettingsMap": {},
     "title": ""
    }
   },
   "outputs": [],
   "source": [
    "# Delete a key\n",
    "from delta.tables import DeltaTable\n",
    "\n",
    "# Load as DeltaTable (not DataFrame)\n",
    "sales_delta_table = DeltaTable.forPath(spark, \"/mnt/delta/fact_sales_delta\")\n",
    " \n",
    "sales_delta_table.delete(\"ProductKey = 346\")  "
   ]
  },
  {
   "cell_type": "code",
   "execution_count": 0,
   "metadata": {
    "application/vnd.databricks.v1+cell": {
     "cellMetadata": {
      "byteLimit": 2048000,
      "rowLimit": 10000
     },
     "inputWidgets": {},
     "nuid": "eb37726a-fba7-4101-8d03-a9c8c10924c9",
     "showTitle": false,
     "tableResultSettingsMap": {},
     "title": ""
    }
   },
   "outputs": [
    {
     "output_type": "stream",
     "name": "stdout",
     "output_type": "stream",
     "text": [
      "+----------+------------+----------+-----------+-----------+------------+-----------+-----------------+----------------+--------------------+---------+--------------+-------------------+----------------+-----------+------+-------+---------+-------+--------+\n|ProductKey|OrderDateKey|DueDateKey|ShipDateKey|CustomerKey|PromotionKey|CurrencyKey|SalesTerritoryKey|SalesOrderNumber|SalesOrderLineNumber|UnitPrice|ExtendedAmount|ProductStandardCost|TotalProductCost|SalesAmount|TaxAmt|Freight|OrderDate|DueDate|ShipDate|\n+----------+------------+----------+-----------+-----------+------------+-----------+-----------------+----------------+--------------------+---------+--------------+-------------------+----------------+-----------+------+-------+---------+-------+--------+\n+----------+------------+----------+-----------+-----------+------------+-----------+-----------------+----------------+--------------------+---------+--------------+-------------------+----------------+-----------+------+-------+---------+-------+--------+\n\n"
     ]
    }
   ],
   "source": [
    "# We can select directly from the delta table  \n",
    "spark.sql(\"SELECT * FROM delta.`/mnt/delta/fact_sales_delta` where ProductKey = 346  LIMIT 10\").show()"
   ]
  },
  {
   "cell_type": "code",
   "execution_count": 0,
   "metadata": {
    "application/vnd.databricks.v1+cell": {
     "cellMetadata": {
      "byteLimit": 2048000,
      "rowLimit": 10000
     },
     "inputWidgets": {},
     "nuid": "3981e6db-3d97-4124-89f3-f25d11a526b3",
     "showTitle": false,
     "tableResultSettingsMap": {},
     "title": ""
    }
   },
   "outputs": [
    {
     "output_type": "display_data",
     "data": {
      "text/html": [
       "<style scoped>\n",
       "  .table-result-container {\n",
       "    max-height: 300px;\n",
       "    overflow: auto;\n",
       "  }\n",
       "  table, th, td {\n",
       "    border: 1px solid black;\n",
       "    border-collapse: collapse;\n",
       "  }\n",
       "  th, td {\n",
       "    padding: 5px;\n",
       "  }\n",
       "  th {\n",
       "    text-align: left;\n",
       "  }\n",
       "</style><div class='table-result-container'><table class='table-result'><thead style='background-color: white'><tr><th>version</th><th>timestamp</th><th>userId</th><th>userName</th><th>operation</th><th>operationParameters</th><th>job</th><th>notebook</th><th>clusterId</th><th>readVersion</th><th>isolationLevel</th><th>isBlindAppend</th><th>operationMetrics</th><th>userMetadata</th><th>engineInfo</th></tr></thead><tbody><tr><td>1</td><td>2025-05-09T16:49:36.000+0000</td><td>4338314464403418</td><td>yazanziyad98@gmail.com</td><td>DELETE</td><td>Map(predicate -> [\"(ProductKey#22393 = 346)\"])</td><td>null</td><td>List(4259928558689402)</td><td>0509-155856-anqi0nes</td><td>0</td><td>WriteSerializable</td><td>false</td><td>Map(numRemovedFiles -> 1, numRemovedBytes -> 526011, numCopiedRows -> 32366, numDeletionVectorsAdded -> 0, numDeletionVectorsRemoved -> 0, numAddedChangeFiles -> 0, executionTimeMs -> 5749, numDeletedRows -> 49, scanTimeMs -> 2346, numAddedFiles -> 1, numAddedBytes -> 524967, rewriteTimeMs -> 3373)</td><td>null</td><td>Databricks-Runtime/12.2.x-scala2.12</td></tr><tr><td>0</td><td>2025-05-09T16:49:09.000+0000</td><td>4338314464403418</td><td>yazanziyad98@gmail.com</td><td>WRITE</td><td>Map(mode -> ErrorIfExists, partitionBy -> [])</td><td>null</td><td>List(4259928558689402)</td><td>0509-155856-anqi0nes</td><td>null</td><td>WriteSerializable</td><td>true</td><td>Map(numFiles -> 2, numOutputRows -> 60398, numOutputBytes -> 920368)</td><td>null</td><td>Databricks-Runtime/12.2.x-scala2.12</td></tr></tbody></table></div>"
      ]
     },
     "metadata": {
      "application/vnd.databricks.v1+output": {
       "addedWidgets": {},
       "aggData": [],
       "aggError": "",
       "aggOverflow": false,
       "aggSchema": [],
       "aggSeriesLimitReached": false,
       "aggType": "",
       "arguments": {},
       "columnCustomDisplayInfos": {},
       "data": [
        [
         1,
         "2025-05-09T16:49:36.000+0000",
         "4338314464403418",
         "yazanziyad98@gmail.com",
         "DELETE",
         {
          "predicate": "[\"(ProductKey#22393 = 346)\"]"
         },
         null,
         [
          "4259928558689402"
         ],
         "0509-155856-anqi0nes",
         0,
         "WriteSerializable",
         false,
         {
          "executionTimeMs": "5749",
          "numAddedBytes": "524967",
          "numAddedChangeFiles": "0",
          "numAddedFiles": "1",
          "numCopiedRows": "32366",
          "numDeletedRows": "49",
          "numDeletionVectorsAdded": "0",
          "numDeletionVectorsRemoved": "0",
          "numRemovedBytes": "526011",
          "numRemovedFiles": "1",
          "rewriteTimeMs": "3373",
          "scanTimeMs": "2346"
         },
         null,
         "Databricks-Runtime/12.2.x-scala2.12"
        ],
        [
         0,
         "2025-05-09T16:49:09.000+0000",
         "4338314464403418",
         "yazanziyad98@gmail.com",
         "WRITE",
         {
          "mode": "ErrorIfExists",
          "partitionBy": "[]"
         },
         null,
         [
          "4259928558689402"
         ],
         "0509-155856-anqi0nes",
         null,
         "WriteSerializable",
         true,
         {
          "numFiles": "2",
          "numOutputBytes": "920368",
          "numOutputRows": "60398"
         },
         null,
         "Databricks-Runtime/12.2.x-scala2.12"
        ]
       ],
       "datasetInfos": [],
       "dbfsResultPath": null,
       "isJsonSchema": true,
       "metadata": {},
       "overflow": false,
       "plotOptions": {
        "customPlotOptions": {},
        "displayType": "table",
        "pivotAggregation": null,
        "pivotColumns": null,
        "xColumns": null,
        "yColumns": null
       },
       "removedWidgets": [],
       "schema": [
        {
         "metadata": "{}",
         "name": "version",
         "type": "\"long\""
        },
        {
         "metadata": "{}",
         "name": "timestamp",
         "type": "\"timestamp\""
        },
        {
         "metadata": "{}",
         "name": "userId",
         "type": "\"string\""
        },
        {
         "metadata": "{}",
         "name": "userName",
         "type": "\"string\""
        },
        {
         "metadata": "{}",
         "name": "operation",
         "type": "\"string\""
        },
        {
         "metadata": "{}",
         "name": "operationParameters",
         "type": "{\"type\":\"map\",\"keyType\":\"string\",\"valueType\":\"string\",\"valueContainsNull\":true}"
        },
        {
         "metadata": "{}",
         "name": "job",
         "type": "{\"type\":\"struct\",\"fields\":[{\"name\":\"jobId\",\"type\":\"string\",\"nullable\":true,\"metadata\":{}},{\"name\":\"jobName\",\"type\":\"string\",\"nullable\":true,\"metadata\":{}},{\"name\":\"jobRunId\",\"type\":\"string\",\"nullable\":true,\"metadata\":{}},{\"name\":\"runId\",\"type\":\"string\",\"nullable\":true,\"metadata\":{}},{\"name\":\"jobOwnerId\",\"type\":\"string\",\"nullable\":true,\"metadata\":{}},{\"name\":\"triggerType\",\"type\":\"string\",\"nullable\":true,\"metadata\":{}}]}"
        },
        {
         "metadata": "{}",
         "name": "notebook",
         "type": "{\"type\":\"struct\",\"fields\":[{\"name\":\"notebookId\",\"type\":\"string\",\"nullable\":true,\"metadata\":{}}]}"
        },
        {
         "metadata": "{}",
         "name": "clusterId",
         "type": "\"string\""
        },
        {
         "metadata": "{}",
         "name": "readVersion",
         "type": "\"long\""
        },
        {
         "metadata": "{}",
         "name": "isolationLevel",
         "type": "\"string\""
        },
        {
         "metadata": "{}",
         "name": "isBlindAppend",
         "type": "\"boolean\""
        },
        {
         "metadata": "{}",
         "name": "operationMetrics",
         "type": "{\"type\":\"map\",\"keyType\":\"string\",\"valueType\":\"string\",\"valueContainsNull\":true}"
        },
        {
         "metadata": "{}",
         "name": "userMetadata",
         "type": "\"string\""
        },
        {
         "metadata": "{}",
         "name": "engineInfo",
         "type": "\"string\""
        }
       ],
       "type": "table"
      }
     },
     "output_type": "display_data"
    }
   ],
   "source": [
    "# The deletion created a new version of the file without the deleted ProductKey\n",
    "display(sales_delta_table.history()) "
   ]
  },
  {
   "cell_type": "code",
   "execution_count": 0,
   "metadata": {
    "application/vnd.databricks.v1+cell": {
     "cellMetadata": {
      "byteLimit": 2048000,
      "rowLimit": 10000
     },
     "inputWidgets": {},
     "nuid": "52633330-ed9d-4258-bcca-d6bdcfd9cfb1",
     "showTitle": false,
     "tableResultSettingsMap": {},
     "title": ""
    }
   },
   "outputs": [
    {
     "output_type": "display_data",
     "data": {
      "text/html": [
       "<style scoped>\n",
       "  .table-result-container {\n",
       "    max-height: 300px;\n",
       "    overflow: auto;\n",
       "  }\n",
       "  table, th, td {\n",
       "    border: 1px solid black;\n",
       "    border-collapse: collapse;\n",
       "  }\n",
       "  th, td {\n",
       "    padding: 5px;\n",
       "  }\n",
       "  th {\n",
       "    text-align: left;\n",
       "  }\n",
       "</style><div class='table-result-container'><table class='table-result'><thead style='background-color: white'><tr><th>ProductKey</th><th>OrderDateKey</th><th>DueDateKey</th><th>ShipDateKey</th><th>CustomerKey</th><th>PromotionKey</th><th>CurrencyKey</th><th>SalesTerritoryKey</th><th>SalesOrderNumber</th><th>SalesOrderLineNumber</th><th>UnitPrice</th><th>ExtendedAmount</th><th>ProductStandardCost</th><th>TotalProductCost</th><th>SalesAmount</th><th>TaxAmt</th><th>Freight</th><th>OrderDate</th><th>DueDate</th><th>ShipDate</th></tr></thead><tbody></tbody></table></div>"
      ]
     },
     "metadata": {
      "application/vnd.databricks.v1+output": {
       "addedWidgets": {},
       "aggData": [],
       "aggError": "",
       "aggOverflow": false,
       "aggSchema": [],
       "aggSeriesLimitReached": false,
       "aggType": "",
       "arguments": {},
       "columnCustomDisplayInfos": {},
       "data": [],
       "datasetInfos": [],
       "dbfsResultPath": null,
       "isJsonSchema": true,
       "metadata": {},
       "overflow": false,
       "plotOptions": {
        "customPlotOptions": {},
        "displayType": "table",
        "pivotAggregation": null,
        "pivotColumns": null,
        "xColumns": null,
        "yColumns": null
       },
       "removedWidgets": [],
       "schema": [
        {
         "metadata": "{}",
         "name": "ProductKey",
         "type": "\"integer\""
        },
        {
         "metadata": "{}",
         "name": "OrderDateKey",
         "type": "\"integer\""
        },
        {
         "metadata": "{}",
         "name": "DueDateKey",
         "type": "\"integer\""
        },
        {
         "metadata": "{}",
         "name": "ShipDateKey",
         "type": "\"integer\""
        },
        {
         "metadata": "{}",
         "name": "CustomerKey",
         "type": "\"integer\""
        },
        {
         "metadata": "{}",
         "name": "PromotionKey",
         "type": "\"integer\""
        },
        {
         "metadata": "{}",
         "name": "CurrencyKey",
         "type": "\"integer\""
        },
        {
         "metadata": "{}",
         "name": "SalesTerritoryKey",
         "type": "\"integer\""
        },
        {
         "metadata": "{}",
         "name": "SalesOrderNumber",
         "type": "\"string\""
        },
        {
         "metadata": "{}",
         "name": "SalesOrderLineNumber",
         "type": "\"integer\""
        },
        {
         "metadata": "{}",
         "name": "UnitPrice",
         "type": "\"double\""
        },
        {
         "metadata": "{}",
         "name": "ExtendedAmount",
         "type": "\"double\""
        },
        {
         "metadata": "{}",
         "name": "ProductStandardCost",
         "type": "\"double\""
        },
        {
         "metadata": "{}",
         "name": "TotalProductCost",
         "type": "\"double\""
        },
        {
         "metadata": "{}",
         "name": "SalesAmount",
         "type": "\"double\""
        },
        {
         "metadata": "{}",
         "name": "TaxAmt",
         "type": "\"double\""
        },
        {
         "metadata": "{}",
         "name": "Freight",
         "type": "\"double\""
        },
        {
         "metadata": "{\"__detected_date_formats\":\"yyyy-M-d\"}",
         "name": "OrderDate",
         "type": "\"date\""
        },
        {
         "metadata": "{\"__detected_date_formats\":\"yyyy-M-d\"}",
         "name": "DueDate",
         "type": "\"date\""
        },
        {
         "metadata": "{\"__detected_date_formats\":\"yyyy-M-d\"}",
         "name": "ShipDate",
         "type": "\"date\""
        }
       ],
       "type": "table"
      }
     },
     "output_type": "display_data"
    }
   ],
   "source": [
    "# This returns the latest vesion\n",
    "display(\n",
    "  spark.read.format(\"delta\")\n",
    "    .load(\"/mnt/delta/fact_sales_delta\")\n",
    "    .filter(\"ProductKey = 346\"))"
   ]
  },
  {
   "cell_type": "code",
   "execution_count": 0,
   "metadata": {
    "application/vnd.databricks.v1+cell": {
     "cellMetadata": {
      "byteLimit": 2048000,
      "rowLimit": 10000
     },
     "inputWidgets": {},
     "nuid": "7cbd33ce-d643-4bfa-9bfc-615b581d4acb",
     "showTitle": false,
     "tableResultSettingsMap": {},
     "title": ""
    }
   },
   "outputs": [
    {
     "output_type": "display_data",
     "data": {
      "text/html": [
       "<style scoped>\n",
       "  .table-result-container {\n",
       "    max-height: 300px;\n",
       "    overflow: auto;\n",
       "  }\n",
       "  table, th, td {\n",
       "    border: 1px solid black;\n",
       "    border-collapse: collapse;\n",
       "  }\n",
       "  th, td {\n",
       "    padding: 5px;\n",
       "  }\n",
       "  th {\n",
       "    text-align: left;\n",
       "  }\n",
       "</style><div class='table-result-container'><table class='table-result'><thead style='background-color: white'><tr><th>ProductKey</th><th>OrderDateKey</th><th>DueDateKey</th><th>ShipDateKey</th><th>CustomerKey</th><th>PromotionKey</th><th>CurrencyKey</th><th>SalesTerritoryKey</th><th>SalesOrderNumber</th><th>SalesOrderLineNumber</th><th>UnitPrice</th><th>ExtendedAmount</th><th>ProductStandardCost</th><th>TotalProductCost</th><th>SalesAmount</th><th>TaxAmt</th><th>Freight</th><th>OrderDate</th><th>DueDate</th><th>ShipDate</th></tr></thead><tbody><tr><td>346</td><td>20101229</td><td>20110110</td><td>20110105</td><td>28389</td><td>1</td><td>39</td><td>7</td><td>SO43698</td><td>1</td><td>3399.99</td><td>3399.99</td><td>1912.15</td><td>1912.15</td><td>3399.99</td><td>272.0</td><td>849.998</td><td>2010-12-29</td><td>2011-01-10</td><td>2011-01-05</td></tr><tr><td>346</td><td>20101229</td><td>20110110</td><td>20110105</td><td>25863</td><td>1</td><td>100</td><td>1</td><td>SO43699</td><td>1</td><td>3399.99</td><td>3399.99</td><td>1912.15</td><td>1912.15</td><td>3399.99</td><td>272.0</td><td>849.998</td><td>2010-12-29</td><td>2011-01-10</td><td>2011-01-05</td></tr><tr><td>346</td><td>20101229</td><td>20110110</td><td>20110105</td><td>11003</td><td>1</td><td>6</td><td>9</td><td>SO43701</td><td>1</td><td>3399.99</td><td>3399.99</td><td>1912.15</td><td>1912.15</td><td>3399.99</td><td>272.0</td><td>849.998</td><td>2010-12-29</td><td>2011-01-10</td><td>2011-01-05</td></tr><tr><td>346</td><td>20110106</td><td>20110118</td><td>20110113</td><td>11238</td><td>1</td><td>98</td><td>10</td><td>SO43729</td><td>1</td><td>3399.99</td><td>3399.99</td><td>1912.15</td><td>1912.15</td><td>3399.99</td><td>272.0</td><td>849.998</td><td>2011-01-06</td><td>2011-01-18</td><td>2011-01-13</td></tr><tr><td>346</td><td>20110106</td><td>20110118</td><td>20110113</td><td>25861</td><td>1</td><td>100</td><td>4</td><td>SO43730</td><td>1</td><td>3399.99</td><td>3399.99</td><td>1912.15</td><td>1912.15</td><td>3399.99</td><td>272.0</td><td>849.998</td><td>2011-01-06</td><td>2011-01-18</td><td>2011-01-13</td></tr><tr><td>346</td><td>20110107</td><td>20110119</td><td>20110114</td><td>11002</td><td>1</td><td>6</td><td>9</td><td>SO43736</td><td>1</td><td>3399.99</td><td>3399.99</td><td>1912.15</td><td>1912.15</td><td>3399.99</td><td>272.0</td><td>849.998</td><td>2011-01-07</td><td>2011-01-19</td><td>2011-01-14</td></tr><tr><td>346</td><td>20110114</td><td>20110126</td><td>20110121</td><td>11010</td><td>1</td><td>6</td><td>9</td><td>SO43765</td><td>1</td><td>3399.99</td><td>3399.99</td><td>1912.15</td><td>1912.15</td><td>3399.99</td><td>272.0</td><td>849.998</td><td>2011-01-14</td><td>2011-01-26</td><td>2011-01-21</td></tr><tr><td>346</td><td>20110123</td><td>20110204</td><td>20110130</td><td>11026</td><td>1</td><td>6</td><td>9</td><td>SO43811</td><td>1</td><td>3399.99</td><td>3399.99</td><td>1912.15</td><td>1912.15</td><td>3399.99</td><td>272.0</td><td>849.998</td><td>2011-01-23</td><td>2011-02-04</td><td>2011-01-30</td></tr><tr><td>346</td><td>20110124</td><td>20110205</td><td>20110131</td><td>11006</td><td>1</td><td>6</td><td>9</td><td>SO43819</td><td>1</td><td>3399.99</td><td>3399.99</td><td>1912.15</td><td>1912.15</td><td>3399.99</td><td>272.0</td><td>849.998</td><td>2011-01-24</td><td>2011-02-05</td><td>2011-01-31</td></tr><tr><td>346</td><td>20110201</td><td>20110213</td><td>20110208</td><td>11034</td><td>1</td><td>6</td><td>9</td><td>SO43934</td><td>1</td><td>3399.99</td><td>3399.99</td><td>1912.15</td><td>1912.15</td><td>3399.99</td><td>272.0</td><td>849.998</td><td>2011-02-01</td><td>2011-02-13</td><td>2011-02-08</td></tr><tr><td>346</td><td>20110304</td><td>20110316</td><td>20110311</td><td>11334</td><td>1</td><td>98</td><td>10</td><td>SO44152</td><td>1</td><td>3399.99</td><td>3399.99</td><td>1912.15</td><td>1912.15</td><td>3399.99</td><td>272.0</td><td>849.998</td><td>2011-03-04</td><td>2011-03-16</td><td>2011-03-11</td></tr><tr><td>346</td><td>20110304</td><td>20110316</td><td>20110311</td><td>25887</td><td>1</td><td>100</td><td>1</td><td>SO44156</td><td>1</td><td>3399.99</td><td>3399.99</td><td>1912.15</td><td>1912.15</td><td>3399.99</td><td>272.0</td><td>849.998</td><td>2011-03-04</td><td>2011-03-16</td><td>2011-03-11</td></tr><tr><td>346</td><td>20110428</td><td>20110510</td><td>20110505</td><td>11070</td><td>1</td><td>6</td><td>9</td><td>SO44467</td><td>1</td><td>3399.99</td><td>3399.99</td><td>1912.15</td><td>1912.15</td><td>3399.99</td><td>272.0</td><td>849.998</td><td>2011-04-28</td><td>2011-05-10</td><td>2011-05-05</td></tr><tr><td>346</td><td>20110503</td><td>20110515</td><td>20110510</td><td>11134</td><td>1</td><td>6</td><td>9</td><td>SO44582</td><td>1</td><td>3399.99</td><td>3399.99</td><td>1912.15</td><td>1912.15</td><td>3399.99</td><td>272.0</td><td>849.998</td><td>2011-05-03</td><td>2011-05-15</td><td>2011-05-10</td></tr><tr><td>346</td><td>20110504</td><td>20110516</td><td>20110511</td><td>11104</td><td>1</td><td>6</td><td>9</td><td>SO44589</td><td>1</td><td>3399.99</td><td>3399.99</td><td>1912.15</td><td>1912.15</td><td>3399.99</td><td>272.0</td><td>849.998</td><td>2011-05-04</td><td>2011-05-16</td><td>2011-05-11</td></tr><tr><td>346</td><td>20110514</td><td>20110526</td><td>20110521</td><td>11105</td><td>1</td><td>6</td><td>9</td><td>SO44655</td><td>1</td><td>3399.99</td><td>3399.99</td><td>1912.15</td><td>1912.15</td><td>3399.99</td><td>272.0</td><td>849.998</td><td>2011-05-14</td><td>2011-05-26</td><td>2011-05-21</td></tr><tr><td>346</td><td>20110518</td><td>20110530</td><td>20110525</td><td>11106</td><td>1</td><td>6</td><td>9</td><td>SO44679</td><td>1</td><td>3399.99</td><td>3399.99</td><td>1912.15</td><td>1912.15</td><td>3399.99</td><td>272.0</td><td>849.998</td><td>2011-05-18</td><td>2011-05-30</td><td>2011-05-25</td></tr><tr><td>346</td><td>20110521</td><td>20110602</td><td>20110528</td><td>28414</td><td>1</td><td>39</td><td>7</td><td>SO44691</td><td>1</td><td>3399.99</td><td>3399.99</td><td>1912.15</td><td>1912.15</td><td>3399.99</td><td>272.0</td><td>849.998</td><td>2011-05-21</td><td>2011-06-02</td><td>2011-05-28</td></tr><tr><td>346</td><td>20110521</td><td>20110602</td><td>20110528</td><td>19855</td><td>1</td><td>19</td><td>6</td><td>SO44695</td><td>1</td><td>3399.99</td><td>3399.99</td><td>1912.15</td><td>1912.15</td><td>3399.99</td><td>272.0</td><td>849.998</td><td>2011-05-21</td><td>2011-06-02</td><td>2011-05-28</td></tr><tr><td>346</td><td>20110606</td><td>20110618</td><td>20110613</td><td>11445</td><td>1</td><td>6</td><td>9</td><td>SO44847</td><td>1</td><td>3399.99</td><td>3399.99</td><td>1912.15</td><td>1912.15</td><td>3399.99</td><td>272.0</td><td>849.998</td><td>2011-06-06</td><td>2011-06-18</td><td>2011-06-13</td></tr><tr><td>346</td><td>20110612</td><td>20110624</td><td>20110619</td><td>11381</td><td>1</td><td>98</td><td>10</td><td>SO44890</td><td>1</td><td>3399.99</td><td>3399.99</td><td>1912.15</td><td>1912.15</td><td>3399.99</td><td>272.0</td><td>849.998</td><td>2011-06-12</td><td>2011-06-24</td><td>2011-06-19</td></tr><tr><td>346</td><td>20110612</td><td>20110624</td><td>20110619</td><td>25964</td><td>1</td><td>100</td><td>1</td><td>SO44896</td><td>1</td><td>3399.99</td><td>3399.99</td><td>1912.15</td><td>1912.15</td><td>3399.99</td><td>272.0</td><td>849.998</td><td>2011-06-12</td><td>2011-06-24</td><td>2011-06-19</td></tr><tr><td>346</td><td>20110618</td><td>20110630</td><td>20110625</td><td>11446</td><td>1</td><td>6</td><td>9</td><td>SO44947</td><td>1</td><td>3399.99</td><td>3399.99</td><td>1912.15</td><td>1912.15</td><td>3399.99</td><td>272.0</td><td>849.998</td><td>2011-06-18</td><td>2011-06-30</td><td>2011-06-25</td></tr><tr><td>346</td><td>20110620</td><td>20110702</td><td>20110627</td><td>25974</td><td>1</td><td>100</td><td>4</td><td>SO44963</td><td>1</td><td>3399.99</td><td>3399.99</td><td>1912.15</td><td>1912.15</td><td>3399.99</td><td>272.0</td><td>849.998</td><td>2011-06-20</td><td>2011-07-02</td><td>2011-06-27</td></tr><tr><td>346</td><td>20110627</td><td>20110709</td><td>20110704</td><td>11360</td><td>1</td><td>6</td><td>9</td><td>SO45015</td><td>1</td><td>3399.99</td><td>3399.99</td><td>1912.15</td><td>1912.15</td><td>3399.99</td><td>272.0</td><td>849.998</td><td>2011-06-27</td><td>2011-07-09</td><td>2011-07-04</td></tr><tr><td>346</td><td>20110714</td><td>20110726</td><td>20110721</td><td>25980</td><td>1</td><td>100</td><td>1</td><td>SO45150</td><td>1</td><td>3399.99</td><td>3399.99</td><td>1912.15</td><td>1912.15</td><td>3399.99</td><td>272.0</td><td>849.998</td><td>2011-07-14</td><td>2011-07-26</td><td>2011-07-21</td></tr><tr><td>346</td><td>20110721</td><td>20110802</td><td>20110728</td><td>29476</td><td>1</td><td>100</td><td>8</td><td>SO45199</td><td>1</td><td>3399.99</td><td>3399.99</td><td>1912.15</td><td>1912.15</td><td>3399.99</td><td>272.0</td><td>849.998</td><td>2011-07-21</td><td>2011-08-02</td><td>2011-07-28</td></tr><tr><td>346</td><td>20110727</td><td>20110808</td><td>20110803</td><td>11459</td><td>1</td><td>6</td><td>9</td><td>SO45238</td><td>1</td><td>3399.99</td><td>3399.99</td><td>1912.15</td><td>1912.15</td><td>3399.99</td><td>272.0</td><td>849.998</td><td>2011-07-27</td><td>2011-08-08</td><td>2011-08-03</td></tr><tr><td>346</td><td>20110813</td><td>20110825</td><td>20110820</td><td>11414</td><td>1</td><td>98</td><td>10</td><td>SO45428</td><td>1</td><td>3399.99</td><td>3399.99</td><td>1912.15</td><td>1912.15</td><td>3399.99</td><td>272.0</td><td>849.998</td><td>2011-08-13</td><td>2011-08-25</td><td>2011-08-20</td></tr><tr><td>346</td><td>20110903</td><td>20110915</td><td>20110910</td><td>11768</td><td>1</td><td>6</td><td>9</td><td>SO45621</td><td>1</td><td>3399.99</td><td>3399.99</td><td>1912.15</td><td>1912.15</td><td>3399.99</td><td>272.0</td><td>849.998</td><td>2011-09-03</td><td>2011-09-15</td><td>2011-09-10</td></tr><tr><td>346</td><td>20110911</td><td>20110923</td><td>20110918</td><td>26004</td><td>1</td><td>100</td><td>4</td><td>SO45665</td><td>1</td><td>3399.99</td><td>3399.99</td><td>1912.15</td><td>1912.15</td><td>3399.99</td><td>272.0</td><td>849.998</td><td>2011-09-11</td><td>2011-09-23</td><td>2011-09-18</td></tr><tr><td>346</td><td>20110914</td><td>20110926</td><td>20110921</td><td>25998</td><td>1</td><td>100</td><td>1</td><td>SO45686</td><td>1</td><td>3399.99</td><td>3399.99</td><td>1912.15</td><td>1912.15</td><td>3399.99</td><td>272.0</td><td>849.998</td><td>2011-09-14</td><td>2011-09-26</td><td>2011-09-21</td></tr><tr><td>346</td><td>20110917</td><td>20110929</td><td>20110924</td><td>11767</td><td>1</td><td>6</td><td>9</td><td>SO45712</td><td>1</td><td>3399.99</td><td>3399.99</td><td>1912.15</td><td>1912.15</td><td>3399.99</td><td>272.0</td><td>849.998</td><td>2011-09-17</td><td>2011-09-29</td><td>2011-09-24</td></tr><tr><td>346</td><td>20110921</td><td>20111003</td><td>20110928</td><td>11900</td><td>1</td><td>6</td><td>9</td><td>SO45738</td><td>1</td><td>3399.99</td><td>3399.99</td><td>1912.15</td><td>1912.15</td><td>3399.99</td><td>272.0</td><td>849.998</td><td>2011-09-21</td><td>2011-10-03</td><td>2011-09-28</td></tr><tr><td>346</td><td>20110928</td><td>20111010</td><td>20111005</td><td>11907</td><td>1</td><td>6</td><td>9</td><td>SO45777</td><td>1</td><td>3399.99</td><td>3399.99</td><td>1912.15</td><td>1912.15</td><td>3399.99</td><td>272.0</td><td>849.998</td><td>2011-09-28</td><td>2011-10-10</td><td>2011-10-05</td></tr><tr><td>346</td><td>20110930</td><td>20111012</td><td>20111007</td><td>26041</td><td>1</td><td>100</td><td>1</td><td>SO45821</td><td>1</td><td>3399.99</td><td>3399.99</td><td>1912.15</td><td>1912.15</td><td>3399.99</td><td>272.0</td><td>849.998</td><td>2011-09-30</td><td>2011-10-12</td><td>2011-10-07</td></tr><tr><td>346</td><td>20111011</td><td>20111023</td><td>20111018</td><td>11380</td><td>1</td><td>100</td><td>8</td><td>SO45891</td><td>1</td><td>3399.99</td><td>3399.99</td><td>1912.15</td><td>1912.15</td><td>3399.99</td><td>272.0</td><td>849.998</td><td>2011-10-11</td><td>2011-10-23</td><td>2011-10-18</td></tr><tr><td>346</td><td>20111014</td><td>20111026</td><td>20111021</td><td>11964</td><td>1</td><td>6</td><td>9</td><td>SO45916</td><td>1</td><td>3399.99</td><td>3399.99</td><td>1912.15</td><td>1912.15</td><td>3399.99</td><td>272.0</td><td>849.998</td><td>2011-10-14</td><td>2011-10-26</td><td>2011-10-21</td></tr><tr><td>346</td><td>20111015</td><td>20111027</td><td>20111022</td><td>11332</td><td>1</td><td>100</td><td>8</td><td>SO45917</td><td>1</td><td>3399.99</td><td>3399.99</td><td>1912.15</td><td>1912.15</td><td>3399.99</td><td>272.0</td><td>849.998</td><td>2011-10-15</td><td>2011-10-27</td><td>2011-10-22</td></tr><tr><td>346</td><td>20111028</td><td>20111109</td><td>20111104</td><td>11968</td><td>1</td><td>6</td><td>9</td><td>SO46022</td><td>1</td><td>3399.99</td><td>3399.99</td><td>1912.15</td><td>1912.15</td><td>3399.99</td><td>272.0</td><td>849.998</td><td>2011-10-28</td><td>2011-11-09</td><td>2011-11-04</td></tr><tr><td>346</td><td>20111108</td><td>20111120</td><td>20111115</td><td>11995</td><td>1</td><td>6</td><td>9</td><td>SO46182</td><td>1</td><td>3399.99</td><td>3399.99</td><td>1912.15</td><td>1912.15</td><td>3399.99</td><td>272.0</td><td>849.998</td><td>2011-11-08</td><td>2011-11-20</td><td>2011-11-15</td></tr><tr><td>346</td><td>20111110</td><td>20111122</td><td>20111117</td><td>11999</td><td>1</td><td>6</td><td>9</td><td>SO46203</td><td>1</td><td>3399.99</td><td>3399.99</td><td>1912.15</td><td>1912.15</td><td>3399.99</td><td>272.0</td><td>849.998</td><td>2011-11-10</td><td>2011-11-22</td><td>2011-11-17</td></tr><tr><td>346</td><td>20111117</td><td>20111129</td><td>20111124</td><td>11992</td><td>1</td><td>6</td><td>9</td><td>SO46257</td><td>1</td><td>3399.99</td><td>3399.99</td><td>1912.15</td><td>1912.15</td><td>3399.99</td><td>272.0</td><td>849.998</td><td>2011-11-17</td><td>2011-11-29</td><td>2011-11-24</td></tr><tr><td>346</td><td>20111121</td><td>20111203</td><td>20111128</td><td>12005</td><td>1</td><td>6</td><td>9</td><td>SO46285</td><td>1</td><td>3399.99</td><td>3399.99</td><td>1912.15</td><td>1912.15</td><td>3399.99</td><td>272.0</td><td>849.998</td><td>2011-11-21</td><td>2011-12-03</td><td>2011-11-28</td></tr><tr><td>346</td><td>20111130</td><td>20111212</td><td>20111207</td><td>11496</td><td>1</td><td>98</td><td>10</td><td>SO46395</td><td>1</td><td>3399.99</td><td>3399.99</td><td>1912.15</td><td>1912.15</td><td>3399.99</td><td>272.0</td><td>849.998</td><td>2011-11-30</td><td>2011-12-12</td><td>2011-12-07</td></tr><tr><td>346</td><td>20111202</td><td>20111214</td><td>20111209</td><td>20075</td><td>1</td><td>19</td><td>6</td><td>SO46413</td><td>1</td><td>3399.99</td><td>3399.99</td><td>1912.15</td><td>1912.15</td><td>3399.99</td><td>272.0</td><td>849.998</td><td>2011-12-02</td><td>2011-12-14</td><td>2011-12-09</td></tr><tr><td>346</td><td>20111208</td><td>20111220</td><td>20111215</td><td>12014</td><td>1</td><td>6</td><td>9</td><td>SO46456</td><td>1</td><td>3399.99</td><td>3399.99</td><td>1912.15</td><td>1912.15</td><td>3399.99</td><td>272.0</td><td>849.998</td><td>2011-12-08</td><td>2011-12-20</td><td>2011-12-15</td></tr><tr><td>346</td><td>20111211</td><td>20111223</td><td>20111218</td><td>12009</td><td>1</td><td>6</td><td>9</td><td>SO46477</td><td>1</td><td>3399.99</td><td>3399.99</td><td>1912.15</td><td>1912.15</td><td>3399.99</td><td>272.0</td><td>849.998</td><td>2011-12-11</td><td>2011-12-23</td><td>2011-12-18</td></tr><tr><td>346</td><td>20111212</td><td>20111224</td><td>20111219</td><td>12245</td><td>1</td><td>6</td><td>9</td><td>SO46482</td><td>1</td><td>3399.99</td><td>3399.99</td><td>1912.15</td><td>1912.15</td><td>3399.99</td><td>272.0</td><td>849.998</td><td>2011-12-12</td><td>2011-12-24</td><td>2011-12-19</td></tr></tbody></table></div>"
      ]
     },
     "metadata": {
      "application/vnd.databricks.v1+output": {
       "addedWidgets": {},
       "aggData": [],
       "aggError": "",
       "aggOverflow": false,
       "aggSchema": [],
       "aggSeriesLimitReached": false,
       "aggType": "",
       "arguments": {},
       "columnCustomDisplayInfos": {},
       "data": [
        [
         346,
         20101229,
         20110110,
         20110105,
         28389,
         1,
         39,
         7,
         "SO43698",
         1,
         3399.99,
         3399.99,
         1912.15,
         1912.15,
         3399.99,
         272.0,
         849.998,
         "2010-12-29",
         "2011-01-10",
         "2011-01-05"
        ],
        [
         346,
         20101229,
         20110110,
         20110105,
         25863,
         1,
         100,
         1,
         "SO43699",
         1,
         3399.99,
         3399.99,
         1912.15,
         1912.15,
         3399.99,
         272.0,
         849.998,
         "2010-12-29",
         "2011-01-10",
         "2011-01-05"
        ],
        [
         346,
         20101229,
         20110110,
         20110105,
         11003,
         1,
         6,
         9,
         "SO43701",
         1,
         3399.99,
         3399.99,
         1912.15,
         1912.15,
         3399.99,
         272.0,
         849.998,
         "2010-12-29",
         "2011-01-10",
         "2011-01-05"
        ],
        [
         346,
         20110106,
         20110118,
         20110113,
         11238,
         1,
         98,
         10,
         "SO43729",
         1,
         3399.99,
         3399.99,
         1912.15,
         1912.15,
         3399.99,
         272.0,
         849.998,
         "2011-01-06",
         "2011-01-18",
         "2011-01-13"
        ],
        [
         346,
         20110106,
         20110118,
         20110113,
         25861,
         1,
         100,
         4,
         "SO43730",
         1,
         3399.99,
         3399.99,
         1912.15,
         1912.15,
         3399.99,
         272.0,
         849.998,
         "2011-01-06",
         "2011-01-18",
         "2011-01-13"
        ],
        [
         346,
         20110107,
         20110119,
         20110114,
         11002,
         1,
         6,
         9,
         "SO43736",
         1,
         3399.99,
         3399.99,
         1912.15,
         1912.15,
         3399.99,
         272.0,
         849.998,
         "2011-01-07",
         "2011-01-19",
         "2011-01-14"
        ],
        [
         346,
         20110114,
         20110126,
         20110121,
         11010,
         1,
         6,
         9,
         "SO43765",
         1,
         3399.99,
         3399.99,
         1912.15,
         1912.15,
         3399.99,
         272.0,
         849.998,
         "2011-01-14",
         "2011-01-26",
         "2011-01-21"
        ],
        [
         346,
         20110123,
         20110204,
         20110130,
         11026,
         1,
         6,
         9,
         "SO43811",
         1,
         3399.99,
         3399.99,
         1912.15,
         1912.15,
         3399.99,
         272.0,
         849.998,
         "2011-01-23",
         "2011-02-04",
         "2011-01-30"
        ],
        [
         346,
         20110124,
         20110205,
         20110131,
         11006,
         1,
         6,
         9,
         "SO43819",
         1,
         3399.99,
         3399.99,
         1912.15,
         1912.15,
         3399.99,
         272.0,
         849.998,
         "2011-01-24",
         "2011-02-05",
         "2011-01-31"
        ],
        [
         346,
         20110201,
         20110213,
         20110208,
         11034,
         1,
         6,
         9,
         "SO43934",
         1,
         3399.99,
         3399.99,
         1912.15,
         1912.15,
         3399.99,
         272.0,
         849.998,
         "2011-02-01",
         "2011-02-13",
         "2011-02-08"
        ],
        [
         346,
         20110304,
         20110316,
         20110311,
         11334,
         1,
         98,
         10,
         "SO44152",
         1,
         3399.99,
         3399.99,
         1912.15,
         1912.15,
         3399.99,
         272.0,
         849.998,
         "2011-03-04",
         "2011-03-16",
         "2011-03-11"
        ],
        [
         346,
         20110304,
         20110316,
         20110311,
         25887,
         1,
         100,
         1,
         "SO44156",
         1,
         3399.99,
         3399.99,
         1912.15,
         1912.15,
         3399.99,
         272.0,
         849.998,
         "2011-03-04",
         "2011-03-16",
         "2011-03-11"
        ],
        [
         346,
         20110428,
         20110510,
         20110505,
         11070,
         1,
         6,
         9,
         "SO44467",
         1,
         3399.99,
         3399.99,
         1912.15,
         1912.15,
         3399.99,
         272.0,
         849.998,
         "2011-04-28",
         "2011-05-10",
         "2011-05-05"
        ],
        [
         346,
         20110503,
         20110515,
         20110510,
         11134,
         1,
         6,
         9,
         "SO44582",
         1,
         3399.99,
         3399.99,
         1912.15,
         1912.15,
         3399.99,
         272.0,
         849.998,
         "2011-05-03",
         "2011-05-15",
         "2011-05-10"
        ],
        [
         346,
         20110504,
         20110516,
         20110511,
         11104,
         1,
         6,
         9,
         "SO44589",
         1,
         3399.99,
         3399.99,
         1912.15,
         1912.15,
         3399.99,
         272.0,
         849.998,
         "2011-05-04",
         "2011-05-16",
         "2011-05-11"
        ],
        [
         346,
         20110514,
         20110526,
         20110521,
         11105,
         1,
         6,
         9,
         "SO44655",
         1,
         3399.99,
         3399.99,
         1912.15,
         1912.15,
         3399.99,
         272.0,
         849.998,
         "2011-05-14",
         "2011-05-26",
         "2011-05-21"
        ],
        [
         346,
         20110518,
         20110530,
         20110525,
         11106,
         1,
         6,
         9,
         "SO44679",
         1,
         3399.99,
         3399.99,
         1912.15,
         1912.15,
         3399.99,
         272.0,
         849.998,
         "2011-05-18",
         "2011-05-30",
         "2011-05-25"
        ],
        [
         346,
         20110521,
         20110602,
         20110528,
         28414,
         1,
         39,
         7,
         "SO44691",
         1,
         3399.99,
         3399.99,
         1912.15,
         1912.15,
         3399.99,
         272.0,
         849.998,
         "2011-05-21",
         "2011-06-02",
         "2011-05-28"
        ],
        [
         346,
         20110521,
         20110602,
         20110528,
         19855,
         1,
         19,
         6,
         "SO44695",
         1,
         3399.99,
         3399.99,
         1912.15,
         1912.15,
         3399.99,
         272.0,
         849.998,
         "2011-05-21",
         "2011-06-02",
         "2011-05-28"
        ],
        [
         346,
         20110606,
         20110618,
         20110613,
         11445,
         1,
         6,
         9,
         "SO44847",
         1,
         3399.99,
         3399.99,
         1912.15,
         1912.15,
         3399.99,
         272.0,
         849.998,
         "2011-06-06",
         "2011-06-18",
         "2011-06-13"
        ],
        [
         346,
         20110612,
         20110624,
         20110619,
         11381,
         1,
         98,
         10,
         "SO44890",
         1,
         3399.99,
         3399.99,
         1912.15,
         1912.15,
         3399.99,
         272.0,
         849.998,
         "2011-06-12",
         "2011-06-24",
         "2011-06-19"
        ],
        [
         346,
         20110612,
         20110624,
         20110619,
         25964,
         1,
         100,
         1,
         "SO44896",
         1,
         3399.99,
         3399.99,
         1912.15,
         1912.15,
         3399.99,
         272.0,
         849.998,
         "2011-06-12",
         "2011-06-24",
         "2011-06-19"
        ],
        [
         346,
         20110618,
         20110630,
         20110625,
         11446,
         1,
         6,
         9,
         "SO44947",
         1,
         3399.99,
         3399.99,
         1912.15,
         1912.15,
         3399.99,
         272.0,
         849.998,
         "2011-06-18",
         "2011-06-30",
         "2011-06-25"
        ],
        [
         346,
         20110620,
         20110702,
         20110627,
         25974,
         1,
         100,
         4,
         "SO44963",
         1,
         3399.99,
         3399.99,
         1912.15,
         1912.15,
         3399.99,
         272.0,
         849.998,
         "2011-06-20",
         "2011-07-02",
         "2011-06-27"
        ],
        [
         346,
         20110627,
         20110709,
         20110704,
         11360,
         1,
         6,
         9,
         "SO45015",
         1,
         3399.99,
         3399.99,
         1912.15,
         1912.15,
         3399.99,
         272.0,
         849.998,
         "2011-06-27",
         "2011-07-09",
         "2011-07-04"
        ],
        [
         346,
         20110714,
         20110726,
         20110721,
         25980,
         1,
         100,
         1,
         "SO45150",
         1,
         3399.99,
         3399.99,
         1912.15,
         1912.15,
         3399.99,
         272.0,
         849.998,
         "2011-07-14",
         "2011-07-26",
         "2011-07-21"
        ],
        [
         346,
         20110721,
         20110802,
         20110728,
         29476,
         1,
         100,
         8,
         "SO45199",
         1,
         3399.99,
         3399.99,
         1912.15,
         1912.15,
         3399.99,
         272.0,
         849.998,
         "2011-07-21",
         "2011-08-02",
         "2011-07-28"
        ],
        [
         346,
         20110727,
         20110808,
         20110803,
         11459,
         1,
         6,
         9,
         "SO45238",
         1,
         3399.99,
         3399.99,
         1912.15,
         1912.15,
         3399.99,
         272.0,
         849.998,
         "2011-07-27",
         "2011-08-08",
         "2011-08-03"
        ],
        [
         346,
         20110813,
         20110825,
         20110820,
         11414,
         1,
         98,
         10,
         "SO45428",
         1,
         3399.99,
         3399.99,
         1912.15,
         1912.15,
         3399.99,
         272.0,
         849.998,
         "2011-08-13",
         "2011-08-25",
         "2011-08-20"
        ],
        [
         346,
         20110903,
         20110915,
         20110910,
         11768,
         1,
         6,
         9,
         "SO45621",
         1,
         3399.99,
         3399.99,
         1912.15,
         1912.15,
         3399.99,
         272.0,
         849.998,
         "2011-09-03",
         "2011-09-15",
         "2011-09-10"
        ],
        [
         346,
         20110911,
         20110923,
         20110918,
         26004,
         1,
         100,
         4,
         "SO45665",
         1,
         3399.99,
         3399.99,
         1912.15,
         1912.15,
         3399.99,
         272.0,
         849.998,
         "2011-09-11",
         "2011-09-23",
         "2011-09-18"
        ],
        [
         346,
         20110914,
         20110926,
         20110921,
         25998,
         1,
         100,
         1,
         "SO45686",
         1,
         3399.99,
         3399.99,
         1912.15,
         1912.15,
         3399.99,
         272.0,
         849.998,
         "2011-09-14",
         "2011-09-26",
         "2011-09-21"
        ],
        [
         346,
         20110917,
         20110929,
         20110924,
         11767,
         1,
         6,
         9,
         "SO45712",
         1,
         3399.99,
         3399.99,
         1912.15,
         1912.15,
         3399.99,
         272.0,
         849.998,
         "2011-09-17",
         "2011-09-29",
         "2011-09-24"
        ],
        [
         346,
         20110921,
         20111003,
         20110928,
         11900,
         1,
         6,
         9,
         "SO45738",
         1,
         3399.99,
         3399.99,
         1912.15,
         1912.15,
         3399.99,
         272.0,
         849.998,
         "2011-09-21",
         "2011-10-03",
         "2011-09-28"
        ],
        [
         346,
         20110928,
         20111010,
         20111005,
         11907,
         1,
         6,
         9,
         "SO45777",
         1,
         3399.99,
         3399.99,
         1912.15,
         1912.15,
         3399.99,
         272.0,
         849.998,
         "2011-09-28",
         "2011-10-10",
         "2011-10-05"
        ],
        [
         346,
         20110930,
         20111012,
         20111007,
         26041,
         1,
         100,
         1,
         "SO45821",
         1,
         3399.99,
         3399.99,
         1912.15,
         1912.15,
         3399.99,
         272.0,
         849.998,
         "2011-09-30",
         "2011-10-12",
         "2011-10-07"
        ],
        [
         346,
         20111011,
         20111023,
         20111018,
         11380,
         1,
         100,
         8,
         "SO45891",
         1,
         3399.99,
         3399.99,
         1912.15,
         1912.15,
         3399.99,
         272.0,
         849.998,
         "2011-10-11",
         "2011-10-23",
         "2011-10-18"
        ],
        [
         346,
         20111014,
         20111026,
         20111021,
         11964,
         1,
         6,
         9,
         "SO45916",
         1,
         3399.99,
         3399.99,
         1912.15,
         1912.15,
         3399.99,
         272.0,
         849.998,
         "2011-10-14",
         "2011-10-26",
         "2011-10-21"
        ],
        [
         346,
         20111015,
         20111027,
         20111022,
         11332,
         1,
         100,
         8,
         "SO45917",
         1,
         3399.99,
         3399.99,
         1912.15,
         1912.15,
         3399.99,
         272.0,
         849.998,
         "2011-10-15",
         "2011-10-27",
         "2011-10-22"
        ],
        [
         346,
         20111028,
         20111109,
         20111104,
         11968,
         1,
         6,
         9,
         "SO46022",
         1,
         3399.99,
         3399.99,
         1912.15,
         1912.15,
         3399.99,
         272.0,
         849.998,
         "2011-10-28",
         "2011-11-09",
         "2011-11-04"
        ],
        [
         346,
         20111108,
         20111120,
         20111115,
         11995,
         1,
         6,
         9,
         "SO46182",
         1,
         3399.99,
         3399.99,
         1912.15,
         1912.15,
         3399.99,
         272.0,
         849.998,
         "2011-11-08",
         "2011-11-20",
         "2011-11-15"
        ],
        [
         346,
         20111110,
         20111122,
         20111117,
         11999,
         1,
         6,
         9,
         "SO46203",
         1,
         3399.99,
         3399.99,
         1912.15,
         1912.15,
         3399.99,
         272.0,
         849.998,
         "2011-11-10",
         "2011-11-22",
         "2011-11-17"
        ],
        [
         346,
         20111117,
         20111129,
         20111124,
         11992,
         1,
         6,
         9,
         "SO46257",
         1,
         3399.99,
         3399.99,
         1912.15,
         1912.15,
         3399.99,
         272.0,
         849.998,
         "2011-11-17",
         "2011-11-29",
         "2011-11-24"
        ],
        [
         346,
         20111121,
         20111203,
         20111128,
         12005,
         1,
         6,
         9,
         "SO46285",
         1,
         3399.99,
         3399.99,
         1912.15,
         1912.15,
         3399.99,
         272.0,
         849.998,
         "2011-11-21",
         "2011-12-03",
         "2011-11-28"
        ],
        [
         346,
         20111130,
         20111212,
         20111207,
         11496,
         1,
         98,
         10,
         "SO46395",
         1,
         3399.99,
         3399.99,
         1912.15,
         1912.15,
         3399.99,
         272.0,
         849.998,
         "2011-11-30",
         "2011-12-12",
         "2011-12-07"
        ],
        [
         346,
         20111202,
         20111214,
         20111209,
         20075,
         1,
         19,
         6,
         "SO46413",
         1,
         3399.99,
         3399.99,
         1912.15,
         1912.15,
         3399.99,
         272.0,
         849.998,
         "2011-12-02",
         "2011-12-14",
         "2011-12-09"
        ],
        [
         346,
         20111208,
         20111220,
         20111215,
         12014,
         1,
         6,
         9,
         "SO46456",
         1,
         3399.99,
         3399.99,
         1912.15,
         1912.15,
         3399.99,
         272.0,
         849.998,
         "2011-12-08",
         "2011-12-20",
         "2011-12-15"
        ],
        [
         346,
         20111211,
         20111223,
         20111218,
         12009,
         1,
         6,
         9,
         "SO46477",
         1,
         3399.99,
         3399.99,
         1912.15,
         1912.15,
         3399.99,
         272.0,
         849.998,
         "2011-12-11",
         "2011-12-23",
         "2011-12-18"
        ],
        [
         346,
         20111212,
         20111224,
         20111219,
         12245,
         1,
         6,
         9,
         "SO46482",
         1,
         3399.99,
         3399.99,
         1912.15,
         1912.15,
         3399.99,
         272.0,
         849.998,
         "2011-12-12",
         "2011-12-24",
         "2011-12-19"
        ]
       ],
       "datasetInfos": [],
       "dbfsResultPath": null,
       "isJsonSchema": true,
       "metadata": {},
       "overflow": false,
       "plotOptions": {
        "customPlotOptions": {},
        "displayType": "table",
        "pivotAggregation": null,
        "pivotColumns": null,
        "xColumns": null,
        "yColumns": null
       },
       "removedWidgets": [],
       "schema": [
        {
         "metadata": "{}",
         "name": "ProductKey",
         "type": "\"integer\""
        },
        {
         "metadata": "{}",
         "name": "OrderDateKey",
         "type": "\"integer\""
        },
        {
         "metadata": "{}",
         "name": "DueDateKey",
         "type": "\"integer\""
        },
        {
         "metadata": "{}",
         "name": "ShipDateKey",
         "type": "\"integer\""
        },
        {
         "metadata": "{}",
         "name": "CustomerKey",
         "type": "\"integer\""
        },
        {
         "metadata": "{}",
         "name": "PromotionKey",
         "type": "\"integer\""
        },
        {
         "metadata": "{}",
         "name": "CurrencyKey",
         "type": "\"integer\""
        },
        {
         "metadata": "{}",
         "name": "SalesTerritoryKey",
         "type": "\"integer\""
        },
        {
         "metadata": "{}",
         "name": "SalesOrderNumber",
         "type": "\"string\""
        },
        {
         "metadata": "{}",
         "name": "SalesOrderLineNumber",
         "type": "\"integer\""
        },
        {
         "metadata": "{}",
         "name": "UnitPrice",
         "type": "\"double\""
        },
        {
         "metadata": "{}",
         "name": "ExtendedAmount",
         "type": "\"double\""
        },
        {
         "metadata": "{}",
         "name": "ProductStandardCost",
         "type": "\"double\""
        },
        {
         "metadata": "{}",
         "name": "TotalProductCost",
         "type": "\"double\""
        },
        {
         "metadata": "{}",
         "name": "SalesAmount",
         "type": "\"double\""
        },
        {
         "metadata": "{}",
         "name": "TaxAmt",
         "type": "\"double\""
        },
        {
         "metadata": "{}",
         "name": "Freight",
         "type": "\"double\""
        },
        {
         "metadata": "{\"__detected_date_formats\":\"yyyy-M-d\"}",
         "name": "OrderDate",
         "type": "\"date\""
        },
        {
         "metadata": "{\"__detected_date_formats\":\"yyyy-M-d\"}",
         "name": "DueDate",
         "type": "\"date\""
        },
        {
         "metadata": "{\"__detected_date_formats\":\"yyyy-M-d\"}",
         "name": "ShipDate",
         "type": "\"date\""
        }
       ],
       "type": "table"
      }
     },
     "output_type": "display_data"
    }
   ],
   "source": [
    "#This will return the first version\n",
    "display( spark.read.format(\"delta\").option(\"versionAsOf\", 0).load(\"/mnt/delta/fact_sales_delta\") .filter(\"ProductKey = 346\"))"
   ]
  },
  {
   "cell_type": "markdown",
   "metadata": {
    "application/vnd.databricks.v1+cell": {
     "cellMetadata": {},
     "inputWidgets": {},
     "nuid": "cef06e2a-3d64-429c-9193-54e4884d972a",
     "showTitle": false,
     "tableResultSettingsMap": {},
     "title": ""
    }
   },
   "source": [
    "## Schema Evolution"
   ]
  },
  {
   "cell_type": "code",
   "execution_count": 0,
   "metadata": {
    "application/vnd.databricks.v1+cell": {
     "cellMetadata": {
      "byteLimit": 2048000,
      "rowLimit": 10000
     },
     "inputWidgets": {},
     "nuid": "94dde9ed-17b7-4dd2-a0ad-2acfc0dab78e",
     "showTitle": false,
     "tableResultSettingsMap": {},
     "title": ""
    }
   },
   "outputs": [],
   "source": [
    "# Create a new version of the table as a datafrom  with one column renamed\n",
    "Updated_sales_delta = sales_delta_table.toDF().withColumnRenamed(\"SalesOrderLineNumber\", \"Sales_Order_Line\")\n"
   ]
  },
  {
   "cell_type": "code",
   "execution_count": 0,
   "metadata": {
    "application/vnd.databricks.v1+cell": {
     "cellMetadata": {
      "byteLimit": 2048000,
      "rowLimit": 10000
     },
     "inputWidgets": {},
     "nuid": "79194bb1-8f91-46e1-9adf-89b58cd9b799",
     "showTitle": false,
     "tableResultSettingsMap": {},
     "title": ""
    }
   },
   "outputs": [
    {
     "output_type": "stream",
     "name": "stdout",
     "output_type": "stream",
     "text": [
      "root\n |-- ProductKey: integer (nullable = true)\n |-- OrderDateKey: integer (nullable = true)\n |-- DueDateKey: integer (nullable = true)\n |-- ShipDateKey: integer (nullable = true)\n |-- CustomerKey: integer (nullable = true)\n |-- PromotionKey: integer (nullable = true)\n |-- CurrencyKey: integer (nullable = true)\n |-- SalesTerritoryKey: integer (nullable = true)\n |-- SalesOrderNumber: string (nullable = true)\n |-- Sales_Order_Line: integer (nullable = true)\n |-- UnitPrice: double (nullable = true)\n |-- ExtendedAmount: double (nullable = true)\n |-- ProductStandardCost: double (nullable = true)\n |-- TotalProductCost: double (nullable = true)\n |-- SalesAmount: double (nullable = true)\n |-- TaxAmt: double (nullable = true)\n |-- Freight: double (nullable = true)\n |-- OrderDate: date (nullable = true)\n |-- DueDate: date (nullable = true)\n |-- ShipDate: date (nullable = true)\n\n"
     ]
    }
   ],
   "source": [
    "# Check the new name\n",
    "Updated_sales_delta.printSchema()"
   ]
  },
  {
   "cell_type": "code",
   "execution_count": 0,
   "metadata": {
    "application/vnd.databricks.v1+cell": {
     "cellMetadata": {
      "byteLimit": 2048000,
      "rowLimit": 10000
     },
     "inputWidgets": {},
     "nuid": "a1b42933-6339-49b5-a00f-f87cc0e90eb1",
     "showTitle": false,
     "tableResultSettingsMap": {},
     "title": ""
    }
   },
   "outputs": [],
   "source": [
    "# Overwrite the existing delta table scheme to see how does the delta tables handles it\n",
    "# This allowes us to overwrite existing delta tables without a shcema mishmatch error due to renaming a column \n",
    "Updated_sales_delta.write.format(\"delta\") \\\n",
    "  .mode(\"overwrite\").option(\"overwriteSchema\", \"true\").save(\"/mnt/delta/fact_sales_delta\")"
   ]
  },
  {
   "cell_type": "code",
   "execution_count": 0,
   "metadata": {
    "application/vnd.databricks.v1+cell": {
     "cellMetadata": {
      "byteLimit": 2048000,
      "rowLimit": 10000
     },
     "inputWidgets": {},
     "nuid": "1511cf94-629c-4341-8175-031d2b29c46f",
     "showTitle": false,
     "tableResultSettingsMap": {},
     "title": ""
    }
   },
   "outputs": [
    {
     "output_type": "stream",
     "name": "stdout",
     "output_type": "stream",
     "text": [
      "root\n |-- ProductKey: integer (nullable = true)\n |-- OrderDateKey: integer (nullable = true)\n |-- DueDateKey: integer (nullable = true)\n |-- ShipDateKey: integer (nullable = true)\n |-- CustomerKey: integer (nullable = true)\n |-- PromotionKey: integer (nullable = true)\n |-- CurrencyKey: integer (nullable = true)\n |-- SalesTerritoryKey: integer (nullable = true)\n |-- SalesOrderNumber: string (nullable = true)\n |-- Sales_Order_Line: integer (nullable = true)\n |-- UnitPrice: double (nullable = true)\n |-- ExtendedAmount: double (nullable = true)\n |-- ProductStandardCost: double (nullable = true)\n |-- TotalProductCost: double (nullable = true)\n |-- SalesAmount: double (nullable = true)\n |-- TaxAmt: double (nullable = true)\n |-- Freight: double (nullable = true)\n |-- OrderDate: date (nullable = true)\n |-- DueDate: date (nullable = true)\n |-- ShipDate: date (nullable = true)\n\n"
     ]
    }
   ],
   "source": [
    "# Check the updated delta table \n",
    "Updated_sales_delta =  DeltaTable.forPath(spark, \"/mnt/delta/fact_sales_delta\")\n",
    "Updated_sales_delta.toDF().printSchema()"
   ]
  },
  {
   "cell_type": "code",
   "execution_count": 0,
   "metadata": {
    "application/vnd.databricks.v1+cell": {
     "cellMetadata": {
      "byteLimit": 2048000,
      "rowLimit": 10000
     },
     "inputWidgets": {},
     "nuid": "6149bf25-8a95-4f6f-af29-86a5298412b1",
     "showTitle": false,
     "tableResultSettingsMap": {},
     "title": ""
    }
   },
   "outputs": [
    {
     "output_type": "display_data",
     "data": {
      "text/html": [
       "<style scoped>\n",
       "  .table-result-container {\n",
       "    max-height: 300px;\n",
       "    overflow: auto;\n",
       "  }\n",
       "  table, th, td {\n",
       "    border: 1px solid black;\n",
       "    border-collapse: collapse;\n",
       "  }\n",
       "  th, td {\n",
       "    padding: 5px;\n",
       "  }\n",
       "  th {\n",
       "    text-align: left;\n",
       "  }\n",
       "</style><div class='table-result-container'><table class='table-result'><thead style='background-color: white'><tr><th>version</th><th>timestamp</th><th>operation</th><th>operationParameters</th></tr></thead><tbody><tr><td>2</td><td>2025-05-09T16:50:21.000+0000</td><td>WRITE</td><td>Map(mode -> Overwrite, partitionBy -> [])</td></tr><tr><td>1</td><td>2025-05-09T16:49:36.000+0000</td><td>DELETE</td><td>Map(predicate -> [\"(ProductKey#22393 = 346)\"])</td></tr><tr><td>0</td><td>2025-05-09T16:49:09.000+0000</td><td>WRITE</td><td>Map(mode -> ErrorIfExists, partitionBy -> [])</td></tr></tbody></table></div>"
      ]
     },
     "metadata": {
      "application/vnd.databricks.v1+output": {
       "addedWidgets": {},
       "aggData": [],
       "aggError": "",
       "aggOverflow": false,
       "aggSchema": [],
       "aggSeriesLimitReached": false,
       "aggType": "",
       "arguments": {},
       "columnCustomDisplayInfos": {},
       "data": [
        [
         2,
         "2025-05-09T16:50:21.000+0000",
         "WRITE",
         {
          "mode": "Overwrite",
          "partitionBy": "[]"
         }
        ],
        [
         1,
         "2025-05-09T16:49:36.000+0000",
         "DELETE",
         {
          "predicate": "[\"(ProductKey#22393 = 346)\"]"
         }
        ],
        [
         0,
         "2025-05-09T16:49:09.000+0000",
         "WRITE",
         {
          "mode": "ErrorIfExists",
          "partitionBy": "[]"
         }
        ]
       ],
       "datasetInfos": [],
       "dbfsResultPath": null,
       "isJsonSchema": true,
       "metadata": {},
       "overflow": false,
       "plotOptions": {
        "customPlotOptions": {},
        "displayType": "table",
        "pivotAggregation": null,
        "pivotColumns": null,
        "xColumns": null,
        "yColumns": null
       },
       "removedWidgets": [],
       "schema": [
        {
         "metadata": "{}",
         "name": "version",
         "type": "\"long\""
        },
        {
         "metadata": "{}",
         "name": "timestamp",
         "type": "\"timestamp\""
        },
        {
         "metadata": "{}",
         "name": "operation",
         "type": "\"string\""
        },
        {
         "metadata": "{}",
         "name": "operationParameters",
         "type": "{\"type\":\"map\",\"keyType\":\"string\",\"valueType\":\"string\",\"valueContainsNull\":true}"
        }
       ],
       "type": "table"
      }
     },
     "output_type": "display_data"
    }
   ],
   "source": [
    "# Now we can check the  history to see that \n",
    "history_df = Updated_sales_delta.history()\n",
    "display(history_df.select(\"version\", \"timestamp\", \"operation\", \"operationParameters\"))"
   ]
  },
  {
   "cell_type": "code",
   "execution_count": 0,
   "metadata": {
    "application/vnd.databricks.v1+cell": {
     "cellMetadata": {},
     "inputWidgets": {},
     "nuid": "11798afd-74ed-40d0-896d-f5fedc8279d0",
     "showTitle": false,
     "tableResultSettingsMap": {},
     "title": ""
    }
   },
   "outputs": [],
   "source": []
  }
 ],
 "metadata": {
  "application/vnd.databricks.v1+notebook": {
   "computePreferences": null,
   "dashboards": [],
   "environmentMetadata": {
    "base_environment": "",
    "environment_version": "1"
   },
   "inputWidgetPreferences": null,
   "language": "python",
   "notebookMetadata": {
    "pythonIndentUnit": 4
   },
   "notebookName": "Delta Tables",
   "widgets": {}
  }
 },
 "nbformat": 4,
 "nbformat_minor": 0
}
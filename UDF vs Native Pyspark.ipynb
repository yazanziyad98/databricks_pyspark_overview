{
 "cells": [
  {
   "cell_type": "markdown",
   "metadata": {
    "application/vnd.databricks.v1+cell": {
     "cellMetadata": {},
     "inputWidgets": {},
     "nuid": "f74aa3be-c20f-4386-89fa-96b34613f12e",
     "showTitle": false,
     "tableResultSettingsMap": {},
     "title": ""
    }
   },
   "source": [
    "This Notebook will compare the differences in performance between using a UDF and a native pyspark syntax"
   ]
  },
  {
   "cell_type": "markdown",
   "metadata": {
    "application/vnd.databricks.v1+cell": {
     "cellMetadata": {},
     "inputWidgets": {},
     "nuid": "7289ac8c-cf4d-4cd4-8f81-946934a3d30e",
     "showTitle": false,
     "tableResultSettingsMap": {},
     "title": ""
    }
   },
   "source": [
    "We will use a **UDF** to create a new column that contains the profit percentage. However, in practice, it is generally better to use native PySpark methods, like the withColumn function, as they offer significantly better performance. This is primarily because they avoid the overhead of serialization and deserialization, which is minimized further with the use of Apache Arrow. But, we'll use a UDF here purely for illustrative purposes.\n",
    "\n",
    "If we do choose to use a PySpark UDF, we have three main options:\n",
    "\n",
    "- Row-at-a-Time UDF: Which is inefficient for our case since we have a large amount of transactional data (Fact Table) \n",
    "\n",
    "- Pandas UDF: Vectorized and significantly faster, utilizing Apache Arrow to reduce serialization and deserialization, and is way faster than Row-at-a-Time UDF.\n",
    "\n",
    "- Pandas Function API: Which for our case is an overkill, since we are not doing a complex transformation neither processing a grouped data.\n",
    "\n",
    "So Pandas UDF will be our choice."
   ]
  },
  {
   "cell_type": "code",
   "execution_count": 0,
   "metadata": {
    "application/vnd.databricks.v1+cell": {
     "cellMetadata": {
      "byteLimit": 2048000,
      "rowLimit": 10000
     },
     "inputWidgets": {},
     "nuid": "376fc9d3-410f-4ab5-bd28-bf00bec33abd",
     "showTitle": false,
     "tableResultSettingsMap": {},
     "title": ""
    }
   },
   "outputs": [],
   "source": [
    "#Load Data\n",
    "options = {\n",
    "    \"header\": \"true\",\n",
    "    \"inferSchema\": \"true\",\n",
    "    \"delimiter\": \";\"\n",
    "} \n",
    "dim_product =  spark.read.format(\"csv\").options(**options).load(\"dbfs:/FileStore/tables_new/dim_product/\")\n",
    "fact_int_sales =  spark.read.format(\"csv\").options(**options).load(\"dbfs:/FileStore/tables_new/fact_int_sales/\")\n",
    "dim_sales_terr =  spark.read.format(\"csv\").options(**options).load(\"dbfs:/FileStore/tables_new/dim_sales_terr/\")\n",
    "dim_curreny = spark.read.format(\"csv\").options(**options).load(\"dbfs:/FileStore/tables_new/dim_curreny/\")  "
   ]
  },
  {
   "cell_type": "code",
   "execution_count": 0,
   "metadata": {
    "application/vnd.databricks.v1+cell": {
     "cellMetadata": {
      "byteLimit": 2048000,
      "rowLimit": 10000
     },
     "inputWidgets": {},
     "nuid": "d488a79e-9fb7-405d-b9f0-60a64e0f8d8b",
     "showTitle": false,
     "tableResultSettingsMap": {},
     "title": ""
    }
   },
   "outputs": [
    {
     "output_type": "display_data",
     "data": {
      "application/vnd.databricks.v1+bamboolib_hint": "{\"pd.DataFrames\": [], \"version\": \"0.0.1\"}",
      "text/plain": []
     },
     "metadata": {},
     "output_type": "display_data"
    }
   ],
   "source": [
    "from pyspark.sql.functions import pandas_udf\n",
    "from pyspark.sql.types import DoubleType \n",
    "import pandas as pd\n",
    "\n",
    "@pandas_udf(DoubleType())\n",
    "def profit_percent(ProductCost: pd.Series,SalesAmount: pd.Series) -> pd.Series:\n",
    "    return  ((SalesAmount - ProductCost)/SalesAmount) # Vectorized operation on entire column"
   ]
  },
  {
   "cell_type": "code",
   "execution_count": 0,
   "metadata": {
    "application/vnd.databricks.v1+cell": {
     "cellMetadata": {
      "byteLimit": 2048000,
      "rowLimit": 10000
     },
     "inputWidgets": {},
     "nuid": "7d8fd3cf-0481-4008-b04c-400506a36db7",
     "showTitle": false,
     "tableResultSettingsMap": {},
     "title": ""
    }
   },
   "outputs": [
    {
     "output_type": "stream",
     "name": "stdout",
     "output_type": "stream",
     "text": [
      "+----------+------------+----------+-----------+-----------+------------+-----------+-----------------+----------------+--------------------+---------+--------------+-------------------+----------------+-----------+------+-------+----------+----------+----------+------------------+\n|ProductKey|OrderDateKey|DueDateKey|ShipDateKey|CustomerKey|PromotionKey|CurrencyKey|SalesTerritoryKey|SalesOrderNumber|SalesOrderLineNumber|UnitPrice|ExtendedAmount|ProductStandardCost|TotalProductCost|SalesAmount|TaxAmt|Freight| OrderDate|   DueDate|  ShipDate|     ProfitPercent|\n+----------+------------+----------+-----------+-----------+------------+-----------+-----------------+----------------+--------------------+---------+--------------+-------------------+----------------+-----------+------+-------+----------+----------+----------+------------------+\n|       310|    20101229|  20110110|   20110105|      21768|           1|         19|                6|         SO43697|                   1|  3578.27|       3578.27|            2171.29|         2171.29|    3578.27|286.26|894.568|2010-12-29|2011-01-10|2011-01-05|0.3932011838122892|\n|       346|    20101229|  20110110|   20110105|      28389|           1|         39|                7|         SO43698|                   1|  3399.99|       3399.99|            1912.15|         1912.15|    3399.99| 272.0|849.998|2010-12-29|2011-01-10|2011-01-05|0.4376012870626089|\n|       346|    20101229|  20110110|   20110105|      25863|           1|        100|                1|         SO43699|                   1|  3399.99|       3399.99|            1912.15|         1912.15|    3399.99| 272.0|849.998|2010-12-29|2011-01-10|2011-01-05|0.4376012870626089|\n|       336|    20101229|  20110110|   20110105|      14501|           1|        100|                4|         SO43700|                   1|     null|          null|             413.15|          413.15|      699.1| 55.93|174.775|2010-12-29|2011-01-10|2011-01-05|0.4090258904305536|\n|       346|    20101229|  20110110|   20110105|      11003|           1|          6|                9|         SO43701|                   1|  3399.99|       3399.99|            1912.15|         1912.15|    3399.99| 272.0|849.998|2010-12-29|2011-01-10|2011-01-05|0.4376012870626089|\n|       311|    20101230|  20110111|   20110106|      27645|           1|        100|                4|         SO43702|                   1|  3578.27|       3578.27|            2171.29|         2171.29|    3578.27|286.26|894.568|2010-12-30|2011-01-11|2011-01-06|0.3932011838122892|\n|       310|    20101230|  20110111|   20110106|      16624|           1|          6|                9|         SO43703|                   1|  3578.27|       3578.27|            2171.29|         2171.29|    3578.27|286.26|894.568|2010-12-30|2011-01-11|2011-01-06|0.3932011838122892|\n|       351|    20101230|  20110111|   20110106|      11005|           1|          6|                9|         SO43704|                   1|  3374.99|       3374.99|            1898.09|         1898.09|    3374.99| 270.0|843.748|2010-12-30|2011-01-11|2011-01-06|0.4376012965964344|\n|       344|    20101230|  20110111|   20110106|      11011|           1|          6|                9|         SO43705|                   1|  3399.99|       3399.99|            1912.15|         1912.15|    3399.99| 272.0|849.998|2010-12-30|2011-01-11|2011-01-06|0.4376012870626089|\n|       312|    20101231|  20110112|   20110107|      27621|           1|        100|                4|         SO43706|                   1|  3578.27|       3578.27|            2171.29|         2171.29|    3578.27|286.26|894.568|2010-12-31|2011-01-12|2011-01-07|0.3932011838122892|\n|       312|    20101231|  20110112|   20110107|      27616|           1|        100|                4|         SO43707|                   1|  3578.27|       3578.27|            2171.29|         2171.29|    3578.27|286.26|894.568|2010-12-31|2011-01-12|2011-01-07|0.3932011838122892|\n|       330|    20101231|  20110112|   20110107|      20042|           1|         98|               10|         SO43708|                   1|     null|          null|             413.15|          413.15|      699.1| 55.93|174.775|2010-12-31|2011-01-12|2011-01-07|0.4090258904305536|\n|       313|    20101231|  20110112|   20110107|      16351|           1|          6|                9|         SO43709|                   1|  3578.27|       3578.27|            2171.29|         2171.29|    3578.27|286.26|894.568|2010-12-31|2011-01-12|2011-01-07|0.3932011838122892|\n|       314|    20101231|  20110112|   20110107|      16517|           1|          6|                9|         SO43710|                   1|  3578.27|       3578.27|            2171.29|         2171.29|    3578.27|286.26|894.568|2010-12-31|2011-01-12|2011-01-07|0.3932011838122892|\n|       314|    20110101|  20110113|   20110108|      27606|           1|        100|                1|         SO43711|                   1|  3578.27|       3578.27|            2171.29|         2171.29|    3578.27|286.26|894.568|2011-01-01|2011-01-13|2011-01-08|0.3932011838122892|\n|       311|    20110101|  20110113|   20110108|      13513|           1|         29|                8|         SO43712|                   1|  3578.27|       3578.27|            2171.29|         2171.29|    3578.27|286.26|894.568|2011-01-01|2011-01-13|2011-01-08|0.3932011838122892|\n|       310|    20110102|  20110114|   20110109|      27601|           1|        100|                4|         SO43713|                   1|  3578.27|       3578.27|            2171.29|         2171.29|    3578.27|286.26|894.568|2011-01-02|2011-01-14|2011-01-09|0.3932011838122892|\n|       311|    20110102|  20110114|   20110109|      13591|           1|         98|               10|         SO43714|                   1|  3578.27|       3578.27|            2171.29|         2171.29|    3578.27|286.26|894.568|2011-01-02|2011-01-14|2011-01-09|0.3932011838122892|\n|       314|    20110102|  20110114|   20110109|      16483|           1|          6|                9|         SO43715|                   1|  3578.27|       3578.27|            2171.29|         2171.29|    3578.27|286.26|894.568|2011-01-02|2011-01-14|2011-01-09|0.3932011838122892|\n|       311|    20110102|  20110114|   20110109|      16529|           1|          6|                9|         SO43716|                   1|  3578.27|       3578.27|            2171.29|         2171.29|    3578.27|286.26|894.568|2011-01-02|2011-01-14|2011-01-09|0.3932011838122892|\n+----------+------------+----------+-----------+-----------+------------+-----------+-----------------+----------------+--------------------+---------+--------------+-------------------+----------------+-----------+------+-------+----------+----------+----------+------------------+\nonly showing top 20 rows\n\n"
     ]
    }
   ],
   "source": [
    "# Apply UDF\n",
    "fact_int_sales= fact_int_sales.withColumn(\"ProfitPercent\", profit_percent(fact_int_sales[\"TotalProductCost\"], fact_int_sales[\"SalesAmount\"]))\n",
    "fact_int_sales.show()"
   ]
  },
  {
   "cell_type": "code",
   "execution_count": 0,
   "metadata": {
    "application/vnd.databricks.v1+cell": {
     "cellMetadata": {},
     "inputWidgets": {},
     "nuid": "7ab4cac2-efbc-4375-a920-f72b537cf626",
     "showTitle": false,
     "tableResultSettingsMap": {},
     "title": ""
    }
   },
   "outputs": [],
   "source": [
    "# Apply Transformation Without udf\n",
    "fact_int_sales= fact_int_sales.withColumn(\"ProfitPercent\",  (fact_int_sales[\"SalesAmount\"] - fact_int_sales[\"TotalProductCost\"])/fact_int_sales[\"SalesAmount\"])\n",
    "fact_int_sales.show()"
   ]
  },
  {
   "cell_type": "code",
   "execution_count": 0,
   "metadata": {
    "application/vnd.databricks.v1+cell": {
     "cellMetadata": {
      "byteLimit": 2048000,
      "rowLimit": 10000
     },
     "inputWidgets": {},
     "nuid": "d9e80103-6b60-417c-aadd-5f7ada62cacf",
     "showTitle": false,
     "tableResultSettingsMap": {},
     "title": ""
    }
   },
   "outputs": [
    {
     "output_type": "display_data",
     "data": {
      "text/html": [
       "<style scoped>\n",
       "  .table-result-container {\n",
       "    max-height: 300px;\n",
       "    overflow: auto;\n",
       "  }\n",
       "  table, th, td {\n",
       "    border: 1px solid black;\n",
       "    border-collapse: collapse;\n",
       "  }\n",
       "  th, td {\n",
       "    padding: 5px;\n",
       "  }\n",
       "  th {\n",
       "    text-align: left;\n",
       "  }\n",
       "</style><div class='table-result-container'><table class='table-result'><thead style='background-color: white'><tr><th>ProductKey</th><th>OrderDateKey</th><th>DueDateKey</th><th>ShipDateKey</th><th>CustomerKey</th><th>PromotionKey</th><th>CurrencyKey</th><th>SalesTerritoryKey</th><th>SalesOrderNumber</th><th>SalesOrderLineNumber</th><th>UnitPrice</th><th>ExtendedAmount</th><th>ProductStandardCost</th><th>TotalProductCost</th><th>SalesAmount</th><th>TaxAmt</th><th>Freight</th><th>OrderDate</th><th>DueDate</th><th>ShipDate</th><th>ProfitPercent</th></tr></thead><tbody><tr><td>310</td><td>20101229</td><td>20110110</td><td>20110105</td><td>21768</td><td>1</td><td>19</td><td>6</td><td>SO43697</td><td>1</td><td>3578.27</td><td>3578.27</td><td>2171.29</td><td>2171.29</td><td>3578.27</td><td>286.26</td><td>894.568</td><td>2010-12-29</td><td>2011-01-10</td><td>2011-01-05</td><td>0.3932011838122892</td></tr><tr><td>346</td><td>20101229</td><td>20110110</td><td>20110105</td><td>28389</td><td>1</td><td>39</td><td>7</td><td>SO43698</td><td>1</td><td>3399.99</td><td>3399.99</td><td>1912.15</td><td>1912.15</td><td>3399.99</td><td>272.0</td><td>849.998</td><td>2010-12-29</td><td>2011-01-10</td><td>2011-01-05</td><td>0.4376012870626089</td></tr><tr><td>346</td><td>20101229</td><td>20110110</td><td>20110105</td><td>25863</td><td>1</td><td>100</td><td>1</td><td>SO43699</td><td>1</td><td>3399.99</td><td>3399.99</td><td>1912.15</td><td>1912.15</td><td>3399.99</td><td>272.0</td><td>849.998</td><td>2010-12-29</td><td>2011-01-10</td><td>2011-01-05</td><td>0.4376012870626089</td></tr><tr><td>336</td><td>20101229</td><td>20110110</td><td>20110105</td><td>14501</td><td>1</td><td>100</td><td>4</td><td>SO43700</td><td>1</td><td>null</td><td>null</td><td>413.15</td><td>413.15</td><td>699.1</td><td>55.93</td><td>174.775</td><td>2010-12-29</td><td>2011-01-10</td><td>2011-01-05</td><td>0.4090258904305536</td></tr><tr><td>346</td><td>20101229</td><td>20110110</td><td>20110105</td><td>11003</td><td>1</td><td>6</td><td>9</td><td>SO43701</td><td>1</td><td>3399.99</td><td>3399.99</td><td>1912.15</td><td>1912.15</td><td>3399.99</td><td>272.0</td><td>849.998</td><td>2010-12-29</td><td>2011-01-10</td><td>2011-01-05</td><td>0.4376012870626089</td></tr><tr><td>311</td><td>20101230</td><td>20110111</td><td>20110106</td><td>27645</td><td>1</td><td>100</td><td>4</td><td>SO43702</td><td>1</td><td>3578.27</td><td>3578.27</td><td>2171.29</td><td>2171.29</td><td>3578.27</td><td>286.26</td><td>894.568</td><td>2010-12-30</td><td>2011-01-11</td><td>2011-01-06</td><td>0.3932011838122892</td></tr><tr><td>310</td><td>20101230</td><td>20110111</td><td>20110106</td><td>16624</td><td>1</td><td>6</td><td>9</td><td>SO43703</td><td>1</td><td>3578.27</td><td>3578.27</td><td>2171.29</td><td>2171.29</td><td>3578.27</td><td>286.26</td><td>894.568</td><td>2010-12-30</td><td>2011-01-11</td><td>2011-01-06</td><td>0.3932011838122892</td></tr><tr><td>351</td><td>20101230</td><td>20110111</td><td>20110106</td><td>11005</td><td>1</td><td>6</td><td>9</td><td>SO43704</td><td>1</td><td>3374.99</td><td>3374.99</td><td>1898.09</td><td>1898.09</td><td>3374.99</td><td>270.0</td><td>843.748</td><td>2010-12-30</td><td>2011-01-11</td><td>2011-01-06</td><td>0.4376012965964344</td></tr><tr><td>344</td><td>20101230</td><td>20110111</td><td>20110106</td><td>11011</td><td>1</td><td>6</td><td>9</td><td>SO43705</td><td>1</td><td>3399.99</td><td>3399.99</td><td>1912.15</td><td>1912.15</td><td>3399.99</td><td>272.0</td><td>849.998</td><td>2010-12-30</td><td>2011-01-11</td><td>2011-01-06</td><td>0.4376012870626089</td></tr><tr><td>312</td><td>20101231</td><td>20110112</td><td>20110107</td><td>27621</td><td>1</td><td>100</td><td>4</td><td>SO43706</td><td>1</td><td>3578.27</td><td>3578.27</td><td>2171.29</td><td>2171.29</td><td>3578.27</td><td>286.26</td><td>894.568</td><td>2010-12-31</td><td>2011-01-12</td><td>2011-01-07</td><td>0.3932011838122892</td></tr></tbody></table></div>"
      ]
     },
     "metadata": {
      "application/vnd.databricks.v1+output": {
       "addedWidgets": {},
       "aggData": [],
       "aggError": "",
       "aggOverflow": false,
       "aggSchema": [],
       "aggSeriesLimitReached": false,
       "aggType": "",
       "arguments": {},
       "columnCustomDisplayInfos": {},
       "data": [
        [
         310,
         20101229,
         20110110,
         20110105,
         21768,
         1,
         19,
         6,
         "SO43697",
         1,
         3578.27,
         3578.27,
         2171.29,
         2171.29,
         3578.27,
         286.26,
         894.568,
         "2010-12-29",
         "2011-01-10",
         "2011-01-05",
         0.3932011838122892
        ],
        [
         346,
         20101229,
         20110110,
         20110105,
         28389,
         1,
         39,
         7,
         "SO43698",
         1,
         3399.99,
         3399.99,
         1912.15,
         1912.15,
         3399.99,
         272.0,
         849.998,
         "2010-12-29",
         "2011-01-10",
         "2011-01-05",
         0.4376012870626089
        ],
        [
         346,
         20101229,
         20110110,
         20110105,
         25863,
         1,
         100,
         1,
         "SO43699",
         1,
         3399.99,
         3399.99,
         1912.15,
         1912.15,
         3399.99,
         272.0,
         849.998,
         "2010-12-29",
         "2011-01-10",
         "2011-01-05",
         0.4376012870626089
        ],
        [
         336,
         20101229,
         20110110,
         20110105,
         14501,
         1,
         100,
         4,
         "SO43700",
         1,
         null,
         null,
         413.15,
         413.15,
         699.1,
         55.93,
         174.775,
         "2010-12-29",
         "2011-01-10",
         "2011-01-05",
         0.4090258904305536
        ],
        [
         346,
         20101229,
         20110110,
         20110105,
         11003,
         1,
         6,
         9,
         "SO43701",
         1,
         3399.99,
         3399.99,
         1912.15,
         1912.15,
         3399.99,
         272.0,
         849.998,
         "2010-12-29",
         "2011-01-10",
         "2011-01-05",
         0.4376012870626089
        ],
        [
         311,
         20101230,
         20110111,
         20110106,
         27645,
         1,
         100,
         4,
         "SO43702",
         1,
         3578.27,
         3578.27,
         2171.29,
         2171.29,
         3578.27,
         286.26,
         894.568,
         "2010-12-30",
         "2011-01-11",
         "2011-01-06",
         0.3932011838122892
        ],
        [
         310,
         20101230,
         20110111,
         20110106,
         16624,
         1,
         6,
         9,
         "SO43703",
         1,
         3578.27,
         3578.27,
         2171.29,
         2171.29,
         3578.27,
         286.26,
         894.568,
         "2010-12-30",
         "2011-01-11",
         "2011-01-06",
         0.3932011838122892
        ],
        [
         351,
         20101230,
         20110111,
         20110106,
         11005,
         1,
         6,
         9,
         "SO43704",
         1,
         3374.99,
         3374.99,
         1898.09,
         1898.09,
         3374.99,
         270.0,
         843.748,
         "2010-12-30",
         "2011-01-11",
         "2011-01-06",
         0.4376012965964344
        ],
        [
         344,
         20101230,
         20110111,
         20110106,
         11011,
         1,
         6,
         9,
         "SO43705",
         1,
         3399.99,
         3399.99,
         1912.15,
         1912.15,
         3399.99,
         272.0,
         849.998,
         "2010-12-30",
         "2011-01-11",
         "2011-01-06",
         0.4376012870626089
        ],
        [
         312,
         20101231,
         20110112,
         20110107,
         27621,
         1,
         100,
         4,
         "SO43706",
         1,
         3578.27,
         3578.27,
         2171.29,
         2171.29,
         3578.27,
         286.26,
         894.568,
         "2010-12-31",
         "2011-01-12",
         "2011-01-07",
         0.3932011838122892
        ]
       ],
       "datasetInfos": [],
       "dbfsResultPath": null,
       "isJsonSchema": true,
       "metadata": {},
       "overflow": false,
       "plotOptions": {
        "customPlotOptions": {},
        "displayType": "table",
        "pivotAggregation": null,
        "pivotColumns": null,
        "xColumns": null,
        "yColumns": null
       },
       "removedWidgets": [],
       "schema": [
        {
         "metadata": "{}",
         "name": "ProductKey",
         "type": "\"integer\""
        },
        {
         "metadata": "{}",
         "name": "OrderDateKey",
         "type": "\"integer\""
        },
        {
         "metadata": "{}",
         "name": "DueDateKey",
         "type": "\"integer\""
        },
        {
         "metadata": "{}",
         "name": "ShipDateKey",
         "type": "\"integer\""
        },
        {
         "metadata": "{}",
         "name": "CustomerKey",
         "type": "\"integer\""
        },
        {
         "metadata": "{}",
         "name": "PromotionKey",
         "type": "\"integer\""
        },
        {
         "metadata": "{}",
         "name": "CurrencyKey",
         "type": "\"integer\""
        },
        {
         "metadata": "{}",
         "name": "SalesTerritoryKey",
         "type": "\"integer\""
        },
        {
         "metadata": "{}",
         "name": "SalesOrderNumber",
         "type": "\"string\""
        },
        {
         "metadata": "{}",
         "name": "SalesOrderLineNumber",
         "type": "\"integer\""
        },
        {
         "metadata": "{}",
         "name": "UnitPrice",
         "type": "\"double\""
        },
        {
         "metadata": "{}",
         "name": "ExtendedAmount",
         "type": "\"double\""
        },
        {
         "metadata": "{}",
         "name": "ProductStandardCost",
         "type": "\"double\""
        },
        {
         "metadata": "{}",
         "name": "TotalProductCost",
         "type": "\"double\""
        },
        {
         "metadata": "{}",
         "name": "SalesAmount",
         "type": "\"double\""
        },
        {
         "metadata": "{}",
         "name": "TaxAmt",
         "type": "\"double\""
        },
        {
         "metadata": "{}",
         "name": "Freight",
         "type": "\"double\""
        },
        {
         "metadata": "{\"__detected_date_formats\":\"yyyy-M-d\"}",
         "name": "OrderDate",
         "type": "\"date\""
        },
        {
         "metadata": "{\"__detected_date_formats\":\"yyyy-M-d\"}",
         "name": "DueDate",
         "type": "\"date\""
        },
        {
         "metadata": "{\"__detected_date_formats\":\"yyyy-M-d\"}",
         "name": "ShipDate",
         "type": "\"date\""
        },
        {
         "metadata": "{}",
         "name": "ProfitPercent",
         "type": "\"double\""
        }
       ],
       "type": "table"
      }
     },
     "output_type": "display_data"
    }
   ],
   "source": [
    "display(fact_int_sales.limit(10))"
   ]
  }
 ],
 "metadata": {
  "application/vnd.databricks.v1+notebook": {
   "computePreferences": null,
   "dashboards": [],
   "environmentMetadata": {
    "base_environment": "",
    "environment_version": "1"
   },
   "inputWidgetPreferences": null,
   "language": "python",
   "notebookMetadata": {
    "pythonIndentUnit": 4
   },
   "notebookName": "UDF vs Native Pyspark",
   "widgets": {}
  }
 },
 "nbformat": 4,
 "nbformat_minor": 0
}